{
 "cells": [
  {
   "cell_type": "code",
   "execution_count": 1,
   "metadata": {
    "collapsed": false
   },
   "outputs": [
    {
     "data": {
      "application/javascript": [
       "IPython.notebook.set_autosave_interval(0)"
      ]
     },
     "metadata": {},
     "output_type": "display_data"
    },
    {
     "name": "stdout",
     "output_type": "stream",
     "text": [
      "Autosave disabled\n"
     ]
    }
   ],
   "source": [
    "%autosave 0"
   ]
  },
  {
   "cell_type": "markdown",
   "metadata": {},
   "source": [
    "## Basic Data Structures\n",
    "\n",
    "### Objectives\n",
    "\n",
    "* To understand the abstract data types **stack, queue, dequeue, lists**.\n",
    "* To be able to implement ADT stack, queue and dequeue using Python lists.\n",
    "* To understand **performance** of basic linear data structures\n",
    "* To understand **prefix, infix and postfix** expression formats\n",
    "* To use **stacks** to evaluate **postfix** expressions\n",
    "* To use **stacks** to convert expressions from **infix => postfix**\n",
    "* To use **queues** for basic **timing simulations**\n",
    "* To be able to recognize problem properties where stacks, queues and dequeues are appropriate data structrues\n",
    "* To be able to implement the ADT **list** as a **linked list** using the node and reference pattern\n",
    "* To be able to **compare** the performance of our linked list implementation with Python's list implementation."
   ]
  },
  {
   "cell_type": "markdown",
   "metadata": {},
   "source": [
    "### What are Linear Structures?\n",
    "\n",
    "* **stacks, queues, dequeues and lists** are examples of data collections whose items are ordered depending on how they are added or removed. \n",
    "* Once an item is added, it stays in that position relative to the other elements that came before and came after it. \n",
    "* Collections like these are often referred to as **linear data structures**. \n",
    "* What distinguishes one linear structure from another is the way in which items are **added and removed**, in particular the **location** where these additions and removals occur."
   ]
  },
  {
   "cell_type": "markdown",
   "metadata": {},
   "source": [
    "### What is a Stack ?\n",
    "\n",
    "* A **stack**, sometimes also called **push-down stack**, is an ordered collection of items where the addition of new items and the removal of existing items always takes place at the same end. \n",
    "* This end is commonly referred to as the **TOP**. \n",
    "* The end opposite to the top is known as the **BASE**.\n",
    "* The ordering principle in stack is called **LIFO, last-in first-out**.\n",
    "* It provides an ordering based on **length of time in the collection**. Newer items are near the top, while older items are near the base.\n",
    "* Stacks are fundamentally important, as they can be used to **reverse the order of items**. \n",
    "* Examples of stack implementation:\n",
    "    * Every browser has a back button. As you navigate from web page to web page, those pages are placed on a stack. \n",
    "    * Stack of trays or plates\n",
    "    * Recursive algorithms uses stacks"
   ]
  },
  {
   "cell_type": "markdown",
   "metadata": {},
   "source": [
    "### The Stack ADT\n",
    "\n",
    "Basic stack operations:\n",
    "* **stack()**: creates a new stack that is empty.It needs no parameters and returns an empty stack.\n",
    "* **push(item)**: adds a new item to the top of the stack. It needs item and returns nothing.\n",
    "* **pop()**: removes the top item from the stack. It needs no parameters and returns the item. The stack is modified.\n",
    "* **peek()**: returns the top item from the stack but does not remove it. It needs no parameters. The stack is not modified.\n",
    "* **isEmpty()**: tests to see whether the stack is empty. It needs no parameters and returns a boolean value.\n",
    "* **size()**: returns the number of items on the stack. It needs no parameters and returns an integer."
   ]
  },
  {
   "cell_type": "markdown",
   "metadata": {},
   "source": [
    "### Implementing a Stack in Python\n",
    "\n",
    "* When we give an abstract data type (ADT) a physical implementation we refer to the implementation as a data structure.\n",
    "* The implementation of choice of an ADT such as a stack is the creation of a new **class**. The stack **operations** are implemented as **methods**. \n",
    "* Further, to implement stack, which is a collection of elements, it makes sense to utilize the power and simplicity of the primitive collections provided by Python, like **lists**.\n"
   ]
  },
  {
   "cell_type": "code",
   "execution_count": 14,
   "metadata": {
    "collapsed": false
   },
   "outputs": [
    {
     "name": "stdout",
     "output_type": "stream",
     "text": [
      "True\n",
      "dog\n",
      "3\n",
      "False\n",
      "8.4\n",
      "True\n",
      "2\n"
     ]
    }
   ],
   "source": [
    "class Stack:\n",
    "    def __init__(self):\n",
    "        self.items = []\n",
    "    \n",
    "    def isEmpty(self):\n",
    "        return self.items == []\n",
    "    \n",
    "    def push(self, item):\n",
    "        self.items.append(item)\n",
    "    \n",
    "    def pop(self):\n",
    "        return self.items.pop()\n",
    "    \n",
    "    def peek(self):\n",
    "        return self.items[len(self.items)-1]\n",
    "    \n",
    "    def size(self):\n",
    "        return len(self.items)\n",
    "\n",
    "from pythonds.basic.stack import Stack\n",
    "\n",
    "s=Stack()\n",
    "\n",
    "print(s.isEmpty())\n",
    "s.push(4)\n",
    "s.push('dog')\n",
    "print(s.peek())\n",
    "s.push(True)\n",
    "print(s.size())\n",
    "print(s.isEmpty())\n",
    "s.push(8.4)\n",
    "print(s.pop())\n",
    "print(s.pop())\n",
    "print(s.size())\n"
   ]
  },
  {
   "cell_type": "markdown",
   "metadata": {},
   "source": [
    "### Analyze stack operations\n",
    "\n",
    "* Stack implementation using **append** and **pop()** operations are both **O(1)** for a stack of size **n**.\n",
    "* Stack implementation using **insert(0)** and **pop(0)** operations will both require **O(n)** for a stack of size **n**.\n",
    "* Even though the implementations are logically equivalent, they would have very different timings when performing benchmark testing."
   ]
  },
  {
   "cell_type": "code",
   "execution_count": 17,
   "metadata": {
    "collapsed": false
   },
   "outputs": [
    {
     "name": "stdout",
     "output_type": "stream",
     "text": [
      "Pass\n",
      "Pass\n",
      "Pass\n"
     ]
    },
    {
     "data": {
      "text/plain": [
       "True"
      ]
     },
     "execution_count": 17,
     "metadata": {},
     "output_type": "execute_result"
    }
   ],
   "source": [
    "# Write a function revstring(mystr) that uses a stack to reverse the characters in a string.\n",
    "\n",
    "from pythonds.basic.stack import Stack\n",
    "\n",
    "def revstring(mystr):\n",
    "    myStack = Stack()\n",
    "    \n",
    "    for ch in mystr:\n",
    "        myStack.push(ch)\n",
    "    \n",
    "    revstr = ''\n",
    "    while not myStack.isEmpty():\n",
    "        revstr = revstr + myStack.pop()\n",
    "    \n",
    "    return revstr\n",
    "\n",
    "def testEqual(actual, expected):\n",
    "    if type(expected) == type(1):\n",
    "        # they're integers, so check if exactly the same\n",
    "        if actual == expected:\n",
    "            print('Pass')\n",
    "            return True\n",
    "    elif type(expected) == type(1.11):\n",
    "        # a float is expected, so just check if it's very close, to allow for\n",
    "        # rounding errors\n",
    "        if abs(actual-expected) < 0.00001:\n",
    "            print('Pass')\n",
    "            return True\n",
    "    else:\n",
    "        # check if they are equal\n",
    "        if actual == expected:\n",
    "            print('Pass')\n",
    "            return True\n",
    "    print('Test Failed: expected ' + str(expected) + ' but got ' + str(actual))\n",
    "    return False\n",
    "\n",
    "testEqual(revstring('apple'),'elppa')\n",
    "testEqual(revstring('x'),'x')\n",
    "testEqual(revstring('1234567890'),'0987654321')"
   ]
  },
  {
   "cell_type": "markdown",
   "metadata": {},
   "source": [
    "### Simple Balanced Parentheses\n",
    "\n",
    "* Balanced Parentheses, means that each opening symbol has a corresponding closing symbol and the pairs of parentheses are properly nested. \n",
    "* The ability to differentiate between parentheses that are correctly balanced and those that are unbalanced is an important part of recognizing many programming language structures. \n",
    "* The challenge then is to write an algorithm that will read a string of parentheses from left to right and decide whether the symbols are balanced. \n",
    "* Some important observations:\n",
    "    * As you process symbols from left to right, the most recent opening parentheses must match the next closing symbol.\n",
    "    * The first opening symbol processed may have to wait until the very last symbol for its match. \n",
    "    * Closing symbols match opening symbols in the reverse order of their appearance. This is a clue that **stacks** can be used to solve this problem. \n",
    "\n",
    "**Algorithm**: \n",
    "* If a symbol is an opening parenthesis, push it on the stack\n",
    "* If, on the other hand, a symbol is a closing parenthesis, pop the stack.\n",
    "* If at any time there is no opening symbol on the stack to matcha closing symbol, the string is not balanced properly.\n",
    "* At the end of the string when all symbols have been processed, the stack should be empty.\n"
   ]
  },
  {
   "cell_type": "code",
   "execution_count": 26,
   "metadata": {
    "collapsed": false
   },
   "outputs": [
    {
     "name": "stdout",
     "output_type": "stream",
     "text": [
      "String is balanced\n",
      "None\n",
      "String is balanced\n",
      "None\n"
     ]
    }
   ],
   "source": [
    "# Algorithm Implementation for Balanced Parentheses Problem\n",
    "from pythonds.basic.stack import Stack\n",
    "\n",
    "def parChecker(symbolString):\n",
    "    s = Stack()\n",
    "    \n",
    "    for sym in symbolString:\n",
    "        if sym == '(':\n",
    "            s.push(sym)\n",
    "        else:\n",
    "            if sym == ')' and not s.isEmpty():\n",
    "                s.pop()\n",
    "    \n",
    "    if s.isEmpty():\n",
    "        print(\"String is balanced\")\n",
    "    else:\n",
    "        print(\"String is unbalanced\")\n",
    "\n",
    "        \n",
    "print(parChecker('(((())))'))\n",
    "print(parChecker('(())'))        \n"
   ]
  },
  {
   "cell_type": "code",
   "execution_count": 32,
   "metadata": {
    "collapsed": false
   },
   "outputs": [
    {
     "name": "stdout",
     "output_type": "stream",
     "text": [
      "String is unbalanced\n",
      "None\n",
      "String is balanced\n",
      "None\n"
     ]
    }
   ],
   "source": [
    "# Algorithm Implementation for Balanced Parentheses General Case\n",
    "from pythonds.basic.stack import Stack\n",
    "\n",
    "def parChecker(symbolString):\n",
    "    s = Stack()\n",
    "    balanced = True\n",
    "    \n",
    "    for sym in symbolString:\n",
    "        if sym in \"([{\":\n",
    "            s.push(sym)\n",
    "        else:\n",
    "            if s.isEmpty():\n",
    "                balanced = False\n",
    "            else:\n",
    "                top = s.pop()\n",
    "                if not matches(top,sym):\n",
    "                    balanced = False\n",
    "    \n",
    "    if balanced and s.isEmpty():\n",
    "        print(\"String is balanced\")\n",
    "    else:\n",
    "        print(\"String is unbalanced\")\n",
    "\n",
    "def matches(open,close):\n",
    "    opens = \"([{\"\n",
    "    closers = \")]}\"\n",
    "    return opens.index(open) == closers.index(close)\n",
    "\n",
    "print(parChecker('{{([][)])}()}('))\n",
    "print(parChecker('[{()}]'))"
   ]
  },
  {
   "cell_type": "markdown",
   "metadata": {},
   "source": [
    "### Converting Decimal numbers to Binary Numbers\n",
    "\n",
    "* Binary representation is important in computer science since all values stored within a computer exists as a string of binary digits, a string of 0's and 1's. \n",
    "* Integer values are common data items that are represented using the decimal number system, or base 10. \n",
    "    * Example: 233(base 10) = 11101001 \n",
    "    $$2 * 10^2 + 3 * 10^1 + 3 * 10^0$$\n",
    "    and\n",
    "    $$1*2^7+1*2^6+1*2^5+0*2^4+1*2^3+0*2^2+0*2^1+1*2^0$$\n",
    "* But how can we easily convert integer values into binary numbers ?\n",
    "    * The answer is an algorithm called **Divide by 2** that uses a stack to keep track of the digits for the binary result.\n",
    "    "
   ]
  },
  {
   "cell_type": "code",
   "execution_count": 41,
   "metadata": {
    "collapsed": false
   },
   "outputs": [
    {
     "name": "stdout",
     "output_type": "stream",
     "text": [
      "11101001\n",
      "11110111100\n"
     ]
    }
   ],
   "source": [
    "# Converting from Decimal to Binary\n",
    "from pythonds.basic.stack import Stack\n",
    "\n",
    "def divideBy2(decNumber):\n",
    "    s = Stack()\n",
    "    \n",
    "    while decNumber > 0:\n",
    "        rem = decNumber%2\n",
    "        s.push(rem)\n",
    "        decNumber = decNumber//2\n",
    "        \n",
    "    binString = \"\"\n",
    "    while not s.isEmpty():\n",
    "        binString = binString + str(s.pop())\n",
    "    \n",
    "    return binString\n",
    "\n",
    "print(divideBy2(233))\n",
    "print(divideBy2(1980))"
   ]
  },
  {
   "cell_type": "markdown",
   "metadata": {},
   "source": [
    "* The above binary conversion algorithm can easily be extended to perform the conversion for any base. Most common encodings in computer science are binary, octal (base 8) and hexadecimal (base 16)\n",
    "* Decimal number **233** = **351(base 8) and E9(base 16)**\n",
    "    $$3*8^2 + 5*8^1 + 1*8^0$$\n",
    "    and\n",
    "    $$14*16^1+9*16^0$$\n",
    "* The *Divide by 2* idea can simply replaced with a more general **Divide by base**. "
   ]
  },
  {
   "cell_type": "code",
   "execution_count": 47,
   "metadata": {
    "collapsed": false
   },
   "outputs": [
    {
     "name": "stdout",
     "output_type": "stream",
     "text": [
      "10\n",
      "31\n",
      "3676\n",
      "3736\n",
      "100\n"
     ]
    }
   ],
   "source": [
    "# Converting from Decimal to any Base\n",
    "from pythonds.basic.stack import Stack\n",
    "\n",
    "def baseConverter(decNumber,base):\n",
    "    digits = \"0123456789ABCDEF\"\n",
    "    s = Stack()\n",
    "    \n",
    "    while decNumber > 0:\n",
    "        rem = decNumber % base\n",
    "        s.push(rem)\n",
    "        decNumber = decNumber//base\n",
    "        \n",
    "    newString = \"\"\n",
    "    while not s.isEmpty():\n",
    "        newString = newString + digits[s.pop()]\n",
    "    \n",
    "    return newString\n",
    "\n",
    "print(baseConverter(26,26))\n",
    "print(baseConverter(25,8))\n",
    "print(baseConverter(1982,8))\n",
    "print(baseConverter(2014,8))\n",
    "print(baseConverter(256,16))\n"
   ]
  },
  {
   "cell_type": "markdown",
   "metadata": {},
   "source": [
    "### Infix, Prefix and Postfix Expressions\n",
    "\n",
    "* **B * C** : This type of notation is referred to as **infix** since the operator is *in* between the two operands.\n",
    "* **A + B * C** : Which operands do they work on ? Does the *+* work on A and B or does the * take B and C ? The expression is ambiguous. \n",
    "* Each operator has a **precedence** level. Operators of higher precedence are used before operators of lower precedence. The only thing that can change that order is the presence of parentheses. \n",
    "    * The precedence order for arithmetic operators places multiplication and division above addition and subtraction.\n",
    "    * If two operators of equal precedence appear, then a left-to-right ordering or associativity is used. \n",
    "* **A + B * C**: B and C are multiplied first, and A is added to that result.\n",
    "* **(A + B) * C**: Parentheses will force addition of A and B first, followed by multiplication with C.\n",
    "* **A + B + C**: The leftmost + would be done first.\n",
    "* **Fully Parenthesized Expression**: A+B*C+D = ((A+(B*C))+D)\n",
    "* **Prefix expression format**: A+B = +AB || A+B*C = +A*BC || (A+B)*C = *+ABC\n",
    "* **Postfix expression format**: A+B = AB+ || A+B*C = ABC*+ || (A+B)*C = AB+C*\n",
    "* **NOTE**: Only infix notations requires the addtional symbols (like parenthesis). The order of operations within prefix and postfix expressions is completely determined by the position of the operator and nothing else. \n",
    "* Complex Expression: (A+B) * C - (D-E) * (F+G)\n",
    "    * With Parentheses: (((A+B) * C) - ((D-E) * (F+G)))\n",
    "    * Prefix: **-\\* +AB C \\* -DE +FG**\n",
    "    * Postfix: **AB+ C \\* DE- FG+ \\* -**\n"
   ]
  },
  {
   "cell_type": "markdown",
   "metadata": {},
   "source": [
    "### General Infix-to-Postfix conversion\n",
    "\n",
    "* Considering expression A + B \\* C (infix) vs ABC\\*+ (postfix). \n",
    "* Operands A, B and C stay in their relative positions. Only operators change position in prefix/postfix expression formats.\n",
    "* The order of the operators in the original expression is **reversed** in the resulting **postfix** expression. For e.g. in above expression, + is at the end since the next operator \\* has higher precedence over addition.\n",
    "* Because of this reversal of order, it makes sense to consider using a stack to keep the operators until they are needed. \n",
    "* As we scan the infix expression from left to right, we will use a stack to keep the operators. This will provide the reversal that we mentioned above. \n",
    "* The top of the stack will always be the most recent saved operator. \n",
    "* The following steps will produce a string of tokens in **postfix** order.\n",
    "    1. Create an empty stack called **opstack** for keeping operators. Create an empty list for output.\n",
    "    2. Convert the input infix string to a **list** by using the string method **split**.\n",
    "    3. Scan the token list from left to right.\n",
    "        * If the token is an operand(A,B,C,etc.), append it to the end of the output list.\n",
    "        * If the token is a left parenthesis, push it on the opstack.\n",
    "        * If the token is a right parenthesis, pop the opstack until the corresponding left parenthesis is removed. Append each operator to the end of the output list. \n",
    "        * If the token is an operator, \\*,/,+,-, push it on the opstack. However, first remove any operators already on the opstack that have higher or equal precedence and append them to the output list.\n",
    "    4. When the input expression has been completely processed, check the opstack. Any operators still on the stack can be removd and appended to the end of the output list."
   ]
  },
  {
   "cell_type": "code",
   "execution_count": 6,
   "metadata": {
    "collapsed": false
   },
   "outputs": [
    {
     "name": "stdout",
     "output_type": "stream",
     "text": [
      "A B * C D * +\n",
      "A B + C * D E - F G + * -\n"
     ]
    }
   ],
   "source": [
    "from pythonds.basic.stack import Stack\n",
    "\n",
    "def infixToPostfix(infixexpr):\n",
    "    prec = {}\n",
    "    prec[\"*\"] = 3\n",
    "    prec[\"/\"] = 3\n",
    "    prec[\"+\"] = 2\n",
    "    prec[\"-\"] = 2\n",
    "    prec[\"(\"] = 1\n",
    "    opStack = Stack()\n",
    "    postfixList = []\n",
    "    tokenList = infixexpr.split()\n",
    "    \n",
    "    for token in tokenList:\n",
    "        if token in \"ABCDEFGHIJKLMNOPQRSTUVWXYZ\" or token in \"0123456789\":\n",
    "            postfixList.append(token)\n",
    "        elif token == '(':\n",
    "            opStack.push(token)\n",
    "        elif token == ')':\n",
    "            topToken = opStack.pop()\n",
    "            while topToken != '(':\n",
    "                postfixList.append(topToken)\n",
    "                topToken = opStack.pop()\n",
    "        else:\n",
    "            while (not opStack.isEmpty()) and (prec[opStack.peek()] >= prec[token]):\n",
    "                postfixList.append(opStack.pop())\n",
    "            opStack.push(token)\n",
    "    \n",
    "    while not opStack.isEmpty():\n",
    "        postfixList.append(opStack.pop())\n",
    "    return \" \".join(postfixList)\n",
    "\n",
    "print(infixToPostfix(\"A * B + C * D\"))\n",
    "print(infixToPostfix(\"( A + B ) * C - ( D - E ) * ( F + G )\"))\n",
    "\n"
   ]
  },
  {
   "cell_type": "markdown",
   "metadata": {},
   "source": [
    "### Postfix Evaluation\n",
    "\n",
    "* **Algorithm for Postfix Evaluation**\n",
    "    1. Create an empty stack called **operandStack**\n",
    "    2. Convert the string to a list by using the string method **split**\n",
    "    3. Scan the token left to right.\n",
    "        * If the token is an operand, convert it from a string to an integer and push the value onto the **operandStack**\n",
    "        * If the token is an operator **\\*,/,+ or -**, it will need two operands. Pop the **operandStack** twice. The first pop is the second operand and the second pop is the first operand. Perform the arithmetic operation. Push the result back on the operandStack.\n",
    "    4. When the input expression has been completely processed, the result is on the stack. Pop the operandStack and return the value. "
   ]
  },
  {
   "cell_type": "code",
   "execution_count": 8,
   "metadata": {
    "collapsed": false
   },
   "outputs": [
    {
     "name": "stdout",
     "output_type": "stream",
     "text": [
      "3.0\n"
     ]
    }
   ],
   "source": [
    "from pythonds.basic.stack import Stack\n",
    "\n",
    "def postfixEval(postfixExpr):\n",
    "    operandStack = Stack()\n",
    "    tokenList = postfixExpr.split()\n",
    "    \n",
    "    for token in tokenList:\n",
    "        if token in \"0123456789\":\n",
    "            operandStack.push(int(token))\n",
    "        else:\n",
    "            operand2 = operandStack.pop()\n",
    "            operand1 = operandStack.pop()\n",
    "            result = doMath(token,operand1,operand2)\n",
    "            operandStack.push(result)\n",
    "    return operandStack.pop()\n",
    "\n",
    "def doMath(op,op1,op2):\n",
    "    if op == \"*\":\n",
    "        return op1 * op2\n",
    "    elif op == \"/\":\n",
    "        return op1 / op2\n",
    "    elif op == \"+\":\n",
    "        return op1 + op2\n",
    "    else:\n",
    "        return op1 - op2\n",
    "\n",
    "print(postfixEval('7 8 + 3 2 + /'))"
   ]
  },
  {
   "cell_type": "markdown",
   "metadata": {},
   "source": [
    "## Lists\n",
    "\n",
    "* A **list** is a collection of items where each item holds a relative position with respect to the others. \n",
    "* More specifically we will refer to this type of list as an unordered list.\n",
    "* We can refer to the beginning of the list(the first item) or the end of the list(the last item). \n",
    "* A common example of list structure in Python: [54,26,93,17,77,31]\n",
    "\n",
    "### The unordered list ADT\n",
    "\n",
    "Some possible **unordered list operations** are given below\n",
    "* **List()** creates a new list that is empty.It needs no parameters and returns an empty list.\n",
    "* **add(item)** adds a new item to the list. It needs the item and returns nothing. \n",
    "* **remove(item)** removes the item from the list. It needs the item and modifies the list. Assume the item is present in the list.\n",
    "* **search(item)** searches for the item in the list. It needs the item and returns a boolean value.\n",
    "* **isEmpty** tests to see whether the list is empty. It needs no parameters and returns a boolean value.\n",
    "* **size()** returns the number of items in the list. It needs no parameters and returns an integer.\n",
    "* **append(item)** adds a new item to the end of the list making it the last item in the collection. it needs the item and returns nothing.\n",
    "* **index(item)** returns the position of item in the list. It needs the item and returns the index.\n",
    "* **insert(pos,item)** adds a new item to the list at position pos. It needs an item and returns nothing. \n",
    "* **pop()** removes and returns the last item in the list. It needs nothing and returns an item. \n",
    "* **pop(pos)** removes and returns the item at position pos. It needs the position and returns the item."
   ]
  },
  {
   "cell_type": "markdown",
   "metadata": {},
   "source": [
    "### Linked Lists : Unordered list\n",
    "\n",
    "* In order to implement an unordered list, we will construct what is commonly known as **Linked list**.\n",
    "* Recall that we need to be sure that we can maintain the **relative positioning** of the items. However, there is no requirement that we maintain that positioning in **continuous memory**.\n",
    "* It is important to note that the location of the first item of the list must be explicitly specified. Once we know where the first item is, the first item can tell us the location of next item and so on. \n",
    "* The external reference is often referred to as the **head** of the list. Similarly, the last item needs to know that there is no next item.\n",
    "\n",
    "### The Node Class\n",
    "\n",
    "* **Node** is the basic building block for the linked list. \n",
    "* Each Node object must hold at least two pieces of information. First, the node must contain the list item itself. Which is called the **data field** of the Node. In addition, each Node must hold a **reference** to the next node. "
   ]
  },
  {
   "cell_type": "code",
   "execution_count": 17,
   "metadata": {
    "collapsed": false
   },
   "outputs": [
    {
     "data": {
      "text/plain": [
       "93"
      ]
     },
     "execution_count": 17,
     "metadata": {},
     "output_type": "execute_result"
    }
   ],
   "source": [
    "class Node:\n",
    "    def __init__(self,initdata):\n",
    "        self.data = initdata\n",
    "        self.next = None\n",
    "        \n",
    "    def getData(self):\n",
    "        return self.data\n",
    "    \n",
    "    def getNext(self):\n",
    "        return self.next\n",
    "    \n",
    "    def setData(self,newdata):\n",
    "        self.data = newdata\n",
    "    \n",
    "    def setNext(self,newnext):\n",
    "        self.next = newnext\n",
    "\n",
    "temp = Node(93)\n",
    "temp.getData()\n",
    "\n"
   ]
  },
  {
   "cell_type": "markdown",
   "metadata": {},
   "source": [
    "* A reference to **None** will denote the fact that there is no next node.\n",
    "* It is always a good idea to explicitly assign **None** to your initial next reference values.\n",
    "\n",
    "### The unordered list class\n",
    "\n",
    "* The unordered list will be built from a collection of nodes, each linked to the next by explicit references. \n",
    "* The **UnorderedList** class must maintain a reference to the first node."
   ]
  },
  {
   "cell_type": "code",
   "execution_count": 20,
   "metadata": {
    "collapsed": true
   },
   "outputs": [],
   "source": [
    "class unorderedList:\n",
    "    \n",
    "    def __init__(self):\n",
    "        self.head = None\n",
    "\n",
    "mylist = unorderedList()"
   ]
  },
  {
   "cell_type": "markdown",
   "metadata": {},
   "source": [
    "* Initially when we construct a list, there are no items.The assignment statements creates the linked list representation. \n",
    "* The **head** of the list refers to the first node which contains the first item of the list. In turn, that node holds reference to the next node(the next item) and so on.\n",
    "* It is **very important** to note that the list class itself does not contain any node objects. Instead it contains a single reference to only the first node in the linked structure. \n"
   ]
  },
  {
   "cell_type": "code",
   "execution_count": 21,
   "metadata": {
    "collapsed": true
   },
   "outputs": [],
   "source": [
    "def isEmpty(self):\n",
    "    return self.head == None"
   ]
  },
  {
   "cell_type": "markdown",
   "metadata": {},
   "source": [
    "* The **isEmpty** method, simply checks to see if the head of the list is a reference to **None**.\n",
    "* Since a new list is empty, the constructor and the check for empty must be consistent with one another. The shows the advantage to using the reference **None** to denote \"end\" of the linked list. \n",
    "* In Python, **None** can be compared to any **reference**.\n",
    "* Two references are **equal** if they both refer to the same object. "
   ]
  },
  {
   "cell_type": "code",
   "execution_count": 28,
   "metadata": {
    "collapsed": false
   },
   "outputs": [
    {
     "name": "stdout",
     "output_type": "stream",
     "text": [
      "6\n",
      "True\n",
      "False\n",
      "True\n",
      "7\n",
      "6\n",
      "5\n",
      "4\n",
      "False\n"
     ]
    }
   ],
   "source": [
    "# Complete UnorderedList class\n",
    "\n",
    "class Node:\n",
    "    def __init__(self,initdata):\n",
    "        self.data = initdata\n",
    "        self.next = None\n",
    "\n",
    "    def getData(self):\n",
    "        return self.data\n",
    "\n",
    "    def getNext(self):\n",
    "        return self.next\n",
    "\n",
    "    def setData(self,newdata):\n",
    "        self.data = newdata\n",
    "\n",
    "    def setNext(self,newnext):\n",
    "        self.next = newnext\n",
    "\n",
    "\n",
    "class UnorderedList:\n",
    "\n",
    "    def __init__(self):\n",
    "        self.head = None\n",
    "\n",
    "    def isEmpty(self):\n",
    "        return self.head == None\n",
    "    \n",
    "    def add(self,item):\n",
    "        temp = Node(item)\n",
    "        temp.setNext(self.head)\n",
    "        self.head = temp\n",
    "    \n",
    "    def size(self):\n",
    "        current = self.head\n",
    "        count=0\n",
    "        \n",
    "        while current != None:\n",
    "            count = count + 1\n",
    "            current = current.getNext()\n",
    "        \n",
    "        return count\n",
    "    \n",
    "    def search(self,item):\n",
    "        current = self.head\n",
    "        found = False\n",
    "        \n",
    "        while current != None and not found:\n",
    "            if current.getData() == item:\n",
    "                found = True\n",
    "            else:\n",
    "                current = current.getNext()\n",
    "                \n",
    "        return found\n",
    "    \n",
    "    def remove(self,item):\n",
    "        current = self.head\n",
    "        previous = None\n",
    "        found = False\n",
    "        \n",
    "        while not found:\n",
    "            if current.getData() == item:\n",
    "                found = True\n",
    "            else:\n",
    "                previous = current\n",
    "                current = current.getNext()\n",
    "        \n",
    "        if previous == None:\n",
    "            self.head = current.getNext()\n",
    "        else:\n",
    "            previous.setNext(current.getNext())\n",
    "\n",
    "mylist = UnorderedList()\n",
    "\n",
    "mylist.add(31)\n",
    "mylist.add(77)\n",
    "mylist.add(17)\n",
    "mylist.add(93)\n",
    "mylist.add(26)\n",
    "mylist.add(54)\n",
    "\n",
    "print(mylist.size())\n",
    "print(mylist.search(93))\n",
    "print(mylist.search(100))\n",
    "\n",
    "mylist.add(100)\n",
    "print(mylist.search(100))\n",
    "print(mylist.size())\n",
    "\n",
    "mylist.remove(54)\n",
    "print(mylist.size())\n",
    "mylist.remove(93)\n",
    "print(mylist.size())\n",
    "mylist.remove(31)\n",
    "print(mylist.size())\n",
    "print(mylist.search(93))"
   ]
  },
  {
   "cell_type": "markdown",
   "metadata": {},
   "source": [
    "### The Ordered List ADT\n",
    "\n",
    "* The structure of an ordered list is a collection of items where each item holds a relative position that is based upon some underlying characteristic of the item. \n",
    "* The ordering is typically either ascending or descending and we assume that list items have a meaningful comparison operation that is already defined. \n",
    "* **Ordered List Operations**\n",
    "    * **OrderedList()** creates a new ordered list that is empty. It needs no parameters and returns an empty list.\n",
    "    * **add(item)** adds a new item to the list making sure that the *order is preserved*. It needs the item and returns nothing. Assume the item is not already in the list.\n",
    "    * **remove(item)** removes the item from the list. It needs the item and modifies the list. Assume the item is present in the list.\n",
    "    * **search(item)** searches for the item in the list. It needs the item and returns a boolean value.\n",
    "    * **isEmpty()** tests to see whether the list is empty. It needs no parameters and returns a boolean value.\n",
    "    * **size()** returns the number of items in the list. It needs no parameters and returns an integer.\n",
    "    * **index(item)** returns the position of item in the list. It needs the item and returns the index. Assume the item is in the list.\n",
    "    * **pop()** removes and returns the last item in the list. It needs nothing and returns an item. Assume the list has at least one item.\n",
    "    * **pop(pos)** removes and returns the item at position pos. It needs the position and returns the item. Assume the item is in the list."
   ]
  },
  {
   "cell_type": "markdown",
   "metadata": {},
   "source": [
    "### Ordered List Implementation\n",
    "\n",
    "* Note: In ordered lists, the relative positions of the items are based on some underlying characteristic.\n",
    "* Operations such as **isEmpty, size and remove** are the same as unordered list.\n",
    "* Operations **search** and **add** will require some modification.\n",
    "* **Search in ordered list**: Once the value in the node becomes greater than the item we are searching for, the search can stop and return **False**. "
   ]
  },
  {
   "cell_type": "code",
   "execution_count": 29,
   "metadata": {
    "collapsed": true
   },
   "outputs": [],
   "source": [
    "def search(self,item):\n",
    "    current = self.head\n",
    "    found = False\n",
    "    stop = False\n",
    "    while current != None and not found and not stop:\n",
    "        if current.getData() == item:\n",
    "            found = True\n",
    "        else:\n",
    "            if current.getData() > item:\n",
    "                stop = True\n",
    "            else:\n",
    "                current = current.getNext()\n",
    "    \n",
    "    return found\n",
    "        "
   ]
  },
  {
   "cell_type": "code",
   "execution_count": 30,
   "metadata": {
    "collapsed": true
   },
   "outputs": [],
   "source": [
    "# add item in ordered List\n",
    "\n",
    "def add(self,item):\n",
    "    current = self.head\n",
    "    previous = None\n",
    "    stop = False\n",
    "    \n",
    "    while current != None and not stop:\n",
    "        if current.getData() > item:\n",
    "            stop = True\n",
    "        else:\n",
    "            previous = current\n",
    "            current = current.getNext()\n",
    "    \n",
    "    temp = Node(item)\n",
    "    if previous == None:\n",
    "        temp.setNext(self.head)\n",
    "        self.head = temp\n",
    "    else:\n",
    "        temp.setNext(current)\n",
    "        previous.setNext(temp)\n",
    "\n",
    "    "
   ]
  },
  {
   "cell_type": "markdown",
   "metadata": {},
   "source": [
    "### Analysis of Linked Lists\n",
    "\n",
    "* Consider a linked list that has **n** nodes.\n",
    "* The **isEmpty** method is **O(1)** since it requires one step to check the head reference for **None**\n",
    "* **size** method is **O(n)**, as it will always require full traversal of the linked list to determine the size of the linked list.\n",
    "* Search, remove and add for an ordered list, all require traversal process. Thus worst case complexity for these operations will be **O(n)**.\n"
   ]
  },
  {
   "cell_type": "markdown",
   "metadata": {},
   "source": [
    "## What is a Queue ?\n",
    "\n",
    "* A queue is an ordered collection of items where the addition of new items happens at one end, call the **rear**, and the removal of existing items occurs at the other end, called the **front**.\n",
    "* The most recently added item in the queue must wait at the end of the collection. The item that has been in the collection the longest is at the front. This ordering principle is sometimes called **FIFO, first-in first-out**.\n",
    "* The simplest examples of a queue:\n",
    "    * A line for movie ticket\n",
    "    * A line for check-out at the grocery store\n",
    "    * All the print tasks form a queue, with FIFO basis.\n",
    "    * Operating systems use a number of different queues to control processes within a computer (queuing algorithm to schedule and execute tasks). \n",
    "    * As we type, sometimes keystrokes get ahead of the characters that appear on the screen. This is due to the computer doing other work at that moment. The keystrokes are being placed in a queue-like buffer so that they can eventually be displayed on the screen in the proper order.\n",
    "\n",
    "### Queue ADT\n",
    "\n",
    "Below are some of queue operations:\n",
    "* **Queue()** creates a new queue that is empty. It needs no parameters and returns an empty queue.\n",
    "* **enqueue(item)** adds a new item to the rear of the queue. It needs the item and returns nothing.\n",
    "* **dequeue()** removes the front item from the queue. It needs no parameters and returns the item. The queue is modified.\n",
    "* **isEmpty()** tests to see whether the queue is empty. It needs no parameters and returns a boolean value.\n",
    "* **size()** returns the number of items in the queue. It needs no parameters and returns an integer.\n"
   ]
  },
  {
   "cell_type": "markdown",
   "metadata": {},
   "source": [
    "### Implementing a Queue in Python\n",
    "\n",
    "* We can use the power and simplicity of the list collection to build the internal representation of the queue. \n",
    "* We need to decide which end of the list to use as the rear and which to use as the front. Implementation below assumes the rear is at position 0 in the list. \n",
    "* This allows us to use the **insert** function on lists to add new elements to the rear of the queue. The **pop** operation can be used to remove the front element(the last element of the list). \n",
    "* Recall that this also means that **enqueue** will be **O(n)** and dequeue will be **O(1)**\n"
   ]
  },
  {
   "cell_type": "code",
   "execution_count": 35,
   "metadata": {
    "collapsed": false
   },
   "outputs": [
    {
     "name": "stdout",
     "output_type": "stream",
     "text": [
      "3\n"
     ]
    },
    {
     "data": {
      "text/plain": [
       "2"
      ]
     },
     "execution_count": 35,
     "metadata": {},
     "output_type": "execute_result"
    }
   ],
   "source": [
    "class Queue:\n",
    "    def __init__(self):\n",
    "        self.items = []\n",
    "        \n",
    "    def isEmpty(self):\n",
    "        return self.items == []\n",
    "    \n",
    "    def enqueue(self, item):\n",
    "        self.items.insert(0,item)\n",
    "    \n",
    "    def dequeue(self):\n",
    "        return self.items.pop()\n",
    "    \n",
    "    def size(self):\n",
    "        return len(self.items)\n",
    "\n",
    "q = Queue()\n",
    "\n",
    "q.enqueue(4)\n",
    "q.enqueue('dog')\n",
    "q.enqueue(True)\n",
    "print(q.size())\n",
    "q.isEmpty()\n",
    "q.dequeue()\n",
    "q.size()"
   ]
  },
  {
   "cell_type": "markdown",
   "metadata": {},
   "source": [
    "### Simulation: Hot Potato\n",
    "\n",
    "* Let's consider the children's game HOT POTATO. In this game children line up in a circle and pass an item from neighbor to neighbor as fast as they can. At a certain point in the game, the action is stopped and the child who has the item(the potato) is removed from the circle. Play continues until only one child is left.\n"
   ]
  },
  {
   "cell_type": "code",
   "execution_count": 38,
   "metadata": {
    "collapsed": false
   },
   "outputs": [
    {
     "name": "stdout",
     "output_type": "stream",
     "text": [
      "Ankur\n"
     ]
    }
   ],
   "source": [
    "from pythonds.basic.queue import Queue\n",
    "\n",
    "def hotPotato(namelist, num):\n",
    "    simqueue = Queue()\n",
    "    for name in namelist:\n",
    "        simqueue.enqueue(name)\n",
    "    \n",
    "    while simqueue.size() > 1:        \n",
    "        for i in range(num):\n",
    "            simqueue.enqueue(simqueue.dequeue())\n",
    "        \n",
    "        simqueue.dequeue()\n",
    "        \n",
    "    return simqueue.dequeue()\n",
    "\n",
    "print(hotPotato([\"Nana\",\"Nani\",\"Naisha\",\"Ankur\",\"Anu\",\"Dada\",\"Dadi\"],7))"
   ]
  },
  {
   "cell_type": "markdown",
   "metadata": {},
   "source": [
    "### Simulation: Printing Tasks\n",
    "\n",
    "Printing task simulation steps:\n",
    "1. Create a queue of print tasks. Each task will be given a timestamp upon its arrival (enqueue(task)). The queue is empty at start(isEmpty() = True).\n",
    "2. For each second(currentSecond)\n",
    "    * Does a new print task get created ? If so, add it to the queue with the **currentSecond** as the timestamp.\n",
    "    * If the printer is not busy and if a task is waiting,\n",
    "        * Remove the next task from the print queue (dequeue) and assign it to the printer.\n",
    "        * Subtract the timestamp from the **currentSecond** to compute the waiting time for that task.\n",
    "        * Append the waiting time for that task to a list for later processing.\n",
    "        * Based on the number of pages in the print task, figure out how much time will be required.\n",
    "    * The printer now does one second of printing if necessary. It also subtracts one second from the time required for that task.\n",
    "    * If the task has been completed, in other words the time required has reached zero, the printer is no longer busy.\n",
    "3. After the simulation is complete, compute the average waiting time from the list of waiting times generated. "
   ]
  },
  {
   "cell_type": "code",
   "execution_count": 39,
   "metadata": {
    "collapsed": true
   },
   "outputs": [],
   "source": [
    "# Python Implementation -------------To Do----------------------"
   ]
  },
  {
   "cell_type": "markdown",
   "metadata": {},
   "source": [
    "## Dequeue\n",
    "\n",
    "* A **dequeue** also known as double-ended queue, is an ordered collection of items similar to the queue. \n",
    "* **dequeue** is different from regular queue, because of the unrestrictive nature of adding and removing items. New items can be added on either ends of the queue and items can be removed from either ends too. \n",
    "* This hybrid linear structure provides all the capabilities of stack and queues in a single data structure. \n",
    "* Some of the **dequeue operations**\n",
    "    * **Deque()** creates a new deque that is empty. It needs no parameters and returns an empty deque.\n",
    "    * **addFront(item)** adds a new item to the front of the deque. It needs the item and returns nothing.\n",
    "    * **addRear(item)** adds a new item to the rear of the deque. It needs the item and returns nothing.\n",
    "    * **removeFront()** removes the front item from the deque. It needs no parameters and returns the item. The deque is modified.\n",
    "    * **removeRear()** removes the rear item from the deque. It needs no parameters and returns the item. The deque is modified.\n",
    "    * **isEmpty()** tests to see whether the deque is empty. It needs no parameters and returns a boolean value.\n",
    "    * **size()** returns the number of items in the deque. It needs no parameters and returns an integer."
   ]
  },
  {
   "cell_type": "code",
   "execution_count": 49,
   "metadata": {
    "collapsed": false
   },
   "outputs": [
    {
     "name": "stdout",
     "output_type": "stream",
     "text": [
      "True\n",
      "4\n",
      "False\n",
      "8.4\n",
      "True\n"
     ]
    }
   ],
   "source": [
    "# Implementing a Deque in Python\n",
    "\n",
    "class Deque:\n",
    "    def __init__(self):\n",
    "        self.items = []\n",
    "    \n",
    "    def isEmpty(self):\n",
    "        return self.items == []\n",
    "    \n",
    "    def addFront(self,item):\n",
    "        self.items.append(item)\n",
    "    \n",
    "    def addRear(self,item):\n",
    "        self.items.insert(0,item)\n",
    "    \n",
    "    def removeFront(self):\n",
    "        return self.items.pop()\n",
    "    \n",
    "    def removeRear(self):\n",
    "        return self.items.pop(0)\n",
    "    \n",
    "    def size(self):\n",
    "        return len(self.items)\n",
    "    \n",
    "d=Deque()\n",
    "print(d.isEmpty())\n",
    "d.addRear(4)\n",
    "d.addRear('dog')\n",
    "d.addFront('cat')\n",
    "d.addFront(True)\n",
    "print(d.size())\n",
    "print(d.isEmpty())\n",
    "d.addRear(8.4)\n",
    "print(d.removeRear())\n",
    "print(d.removeFront())"
   ]
  },
  {
   "cell_type": "markdown",
   "metadata": {},
   "source": [
    "* In this **dequeue** implementation adding and removing items from the front is **O(1)** whereas adding and removing from the rear is **O(n)**."
   ]
  },
  {
   "cell_type": "markdown",
   "metadata": {},
   "source": [
    "### Palindrome-Checker\n",
    "\n",
    "* An intersting problem that can be easily solved using the deque data structure is the classic palindrome problem. \n",
    "* A **palindrome** is a string that reads the smae forward and backward, for example *radar, toot, madam etc.\n",
    "* We would like to construct an algorithm to input a string of characters and check whether it is a palindrome.\n"
   ]
  },
  {
   "cell_type": "code",
   "execution_count": 54,
   "metadata": {
    "collapsed": false
   },
   "outputs": [
    {
     "name": "stdout",
     "output_type": "stream",
     "text": [
      "True\n",
      "False\n"
     ]
    }
   ],
   "source": [
    "class Deque:\n",
    "    def __init__(self):\n",
    "        self.items = []\n",
    "    \n",
    "    def isEmpty(self):\n",
    "        return self.items == []\n",
    "    \n",
    "    def addFront(self,item):\n",
    "        self.items.append(item)\n",
    "    \n",
    "    def addRear(self,item):\n",
    "        self.items.insert(0,item)\n",
    "    \n",
    "    def removeFront(self):\n",
    "        return self.items.pop()\n",
    "    \n",
    "    def removeRear(self):\n",
    "        return self.items.pop(0)\n",
    "    \n",
    "    def size(self):\n",
    "        return len(self.items)\n",
    "\n",
    "def palchecker(aString):\n",
    "    chardequeue = Deque()\n",
    "    \n",
    "    for ch in aString:\n",
    "        chardequeue.addRear(ch)\n",
    "    \n",
    "    stillEqual = True\n",
    "    \n",
    "    while chardequeue.size() > 1 and stillEqual:\n",
    "        if chardequeue.removeFront() != chardequeue.removeRear():\n",
    "            stillEqual = False\n",
    "    \n",
    "    return stillEqual\n",
    "\n",
    "print(palchecker(\"radar\"))\n",
    "print(palchecker(\"popular\"))"
   ]
  }
 ],
 "metadata": {
  "anaconda-cloud": {},
  "kernelspec": {
   "display_name": "Python [default]",
   "language": "python",
   "name": "python3"
  },
  "language_info": {
   "codemirror_mode": {
    "name": "ipython",
    "version": 3
   },
   "file_extension": ".py",
   "mimetype": "text/x-python",
   "name": "python",
   "nbconvert_exporter": "python",
   "pygments_lexer": "ipython3",
   "version": "3.5.2"
  }
 },
 "nbformat": 4,
 "nbformat_minor": 1
}
