{
 "cells": [
  {
   "cell_type": "code",
   "execution_count": 2,
   "metadata": {
    "collapsed": false
   },
   "outputs": [
    {
     "data": {
      "application/javascript": [
       "IPython.notebook.set_autosave_interval(0)"
      ]
     },
     "metadata": {},
     "output_type": "display_data"
    },
    {
     "name": "stdout",
     "output_type": "stream",
     "text": [
      "Autosave disabled\n"
     ]
    }
   ],
   "source": [
    "%autosave 0"
   ]
  },
  {
   "cell_type": "markdown",
   "metadata": {},
   "source": [
    "## Objective\n",
    "\n",
    "* To review the ideas of computer science, programming and problme-solving\n",
    "* To understand abstraction and the role it plays in the problem-solving process.\n",
    "* To understand and implement the notion of abstract data type.\n",
    "* To review the Python programming language\n",
    "\n",
    "### What is Computer Science?\n",
    "* Computer science is the study of problems, problem-solving, and the solutions that come out of the problem solving process. \n",
    "* Given a problem, a computer scientist's goal is to develop an **algorithm**, a step-by-step list of instructions for solving any instance of the problem that might arise. \n",
    "* Algorithms are finite processes that if followed will solve the problem. Algorithms are solutions. \n",
    "* Computer science can be thought of as the study of algorithms. \n",
    "\n",
    "### What is Programming ?\n",
    "\n",
    "* Programming is the process of taking an algorithm and encoding it into a notation, a programming language, so that it can be executed by a computer. \n",
    "* Note that without an algorithm there can be no program. \n",
    "* Programming is often the way that we create a representation for our solutions. \n",
    "* Programming language must provide a notational way to represent both the process and the data. To this end, languages provide **control constructs and data types**. \n",
    "* Control constructs allow algorithmic steps to be represented in a convenient yet unambiguous way. At the minimum, algorithms require constructs that perform sequential precessing, selection for decision-making, and iteration for repetitive control. \n",
    "* All data items in the computer are represented as strings of binary digits. **Data types** provide an interpretation for this binary data so that we can think about the data in terms that makes sense with respect to the problem being solved. These low-level, built-in data types(sometimes called the **primitive data types**) provide the building blocks for algorithm development. \n",
    "\n",
    "### Why study Data Structures and Abstract Data Types ?\n",
    "\n",
    "* To manage the complexity of problems and the problem-solving process, computer scientists use abstractions to allow them to focus on the **big picture**, without getting lost in the details. \n",
    "* By creating models of the problem domain, we are able to utilize a better and more efficient problem-solving process. \n",
    "* These models allow us to describe the data that our algorithms will manipulate in a much more consistent way with respect to the problem iteself. \n",
    "* We referred to **procedural abstraction** as a process that hides the details of a particular function to allow the users or clients to view it at a very high level. e.g. *math.sqrt(16)*\n",
    "* **Data abstraction**: An **abstract data type**, sometimes abbreviated **ADT**, is a logical description of how we view the data and the operations that are allowed without regrard to how they will be implemented. This means that we are concerned only with what the data is representing and not with how it will eventually be constructed. \n",
    "* By providing this level of abstraction, we are creating an **encapsulation** around the data. \n",
    "* The idea is that by encapsulating the details of the implementation, we are hiding them from the user's view. This is called **information hiding**. \n",
    "* The implementation of an **ADT**, often referred to as a **data structure**, will require that we provide a physical view of the data using some **collection of programming constructs and primitive data types**. \n",
    "* the seperation of these two perspectives will allow us to define the complex data models for our problems without giving any indication as to the details of how the model will actually be built. This provides an **implementation-independent** view of the data. \n",
    "* Since there will usually be many different ways to implement an abstract data type, this implementation-independece allows the programmer to swtich the details of the implementation without changing the way the user of the data interacts with it. The user can remain focused on the problem-solving process. \n",
    "\n",
    "### Why Study Algorithms? \n",
    "\n",
    "* Computer scientists learn by experience. We learn by seeing others solve problems and by solving problems by ourselves. \n",
    "* Being exposed to different problem-solving techniques and seeing how different algorithms are designed helps us to take on the next challenging problem that we are given. \n",
    "* By considering a number of different algorithms, we can begin to **develop pattern recognition** so that the next time a similar problem arises, we are better able to solve it. \n",
    "* As we study algorithms, we can learn analysis techniques that allow us to compare and contrast solutions based solely on their own characteristics, not the characteristics of the program or computer used to implement them.\n",
    "* As computer scientists, in addition to our ability to **solve problems**, we will also need to know and understand **solution evaluation techniques**. \n",
    "\n",
    "### Basic Python:\n",
    "\n",
    "* Python is a modern, easy-to-learn, object-oriented programming language. It has a powerful set of built-in-data types and easy-to-use control constructs. \n",
    "* Since Python is an **interpreted language**, it is most easily reviewed by simply looking at and describing **interactive sessions**. \n",
    "\n",
    "### Getting started with Data:\n",
    "\n",
    "* Since Python supports the object-oriented programming paradigm, this means that Python considers data to be the focal point of the problem-solving-process. \n",
    "* In Python we define a **class** to be a description of what the **data look like (the state)** and what the **data can do(the behavior)**. \n",
    "* **Classes** are analogous to **ADT** because a user of a class only sees the **state** and **behavior** of data item. \n",
    "* Data items are called **objects** in the object-oriented paradigm. **An object is an instance of a class**. \n"
   ]
  },
  {
   "cell_type": "code",
   "execution_count": 3,
   "metadata": {
    "collapsed": false
   },
   "outputs": [
    {
     "name": "stdout",
     "output_type": "stream",
     "text": [
      "14\n",
      "20\n",
      "1024\n",
      "2.0\n",
      "2.3333333333333335\n",
      "2\n",
      "1\n",
      "0.5\n",
      "0\n",
      "3\n",
      "1267650600228229401496703205376\n"
     ]
    }
   ],
   "source": [
    "# Built-in Atomic Data Types\n",
    "print(2+3*4)\n",
    "print((2+3)*4)\n",
    "print(2**10)\n",
    "print(6/3)\n",
    "print(7/3)\n",
    "print(7//3)\n",
    "print(7%3)\n",
    "print(3/6)\n",
    "print(3//6)\n",
    "print(3%6)\n",
    "print(2**100)"
   ]
  },
  {
   "cell_type": "code",
   "execution_count": 4,
   "metadata": {
    "collapsed": false
   },
   "outputs": [
    {
     "name": "stdout",
     "output_type": "stream",
     "text": [
      "False\n",
      "True\n",
      "True\n"
     ]
    }
   ],
   "source": [
    "print(5==10)\n",
    "print(10>5)\n",
    "print((5>=1) and (5 <=10))"
   ]
  },
  {
   "cell_type": "markdown",
   "metadata": {},
   "source": [
    "* A Python variable is created when a name is used for the first time on the left-hand side of an assignment statement. \n",
    "* Assignment statements provide a way to associate a name with a value. \n",
    "* The variable will hold a reference to a piece of data and not the data itself. "
   ]
  },
  {
   "cell_type": "code",
   "execution_count": 5,
   "metadata": {
    "collapsed": false
   },
   "outputs": [
    {
     "name": "stdout",
     "output_type": "stream",
     "text": [
      "0\n",
      "True\n"
     ]
    }
   ],
   "source": [
    "theSum = 0\n",
    "print(theSum)\n",
    "\n",
    "theSum = True\n",
    "print(theSum)"
   ]
  },
  {
   "cell_type": "markdown",
   "metadata": {},
   "source": [
    "* In the first assignment statement **theSum = 0**, the type of the variable is integer as that is the type of data currently being referred to by **theSum**. If the type of the data changes to a boolean value **theSum = True**, so does the type of the variable(**theSum** is now a type boolean). \n",
    "* The assignment statement changes the reference being held by the variable. This is a dynamic characteristic of Python. The same variable can refer to many different type of data. \n",
    "\n",
    "### Built-in Collection Data Types\n",
    "\n",
    "* Python has a number of very powerful built-in collection classes. **Lists, strings, and tuples** are ordered collections that are very similar in general structure but have specific differences that must be understood for them to be used properly. \n",
    "* **Sets and Dictionaries** are unordered collections. \n",
    "* A **list** is an **ordered collection** of **zerot is or more references** to Python data objects. \n",
    "* Lists are written as comma-delimited values enclosed in square brackets. The empty list simply **[ ]**. Lists are **hetrogeneous**, meaning that the data objects need not all be from the same class and the collection can be assigned to a variable as below."
   ]
  },
  {
   "cell_type": "code",
   "execution_count": 6,
   "metadata": {
    "collapsed": false
   },
   "outputs": [
    {
     "name": "stdout",
     "output_type": "stream",
     "text": [
      "[]\n",
      "[1, 3, True, 6.5]\n"
     ]
    }
   ],
   "source": [
    "myList = []\n",
    "print(myList)\n",
    "myList = [1, 3, True, 6.5]\n",
    "print(myList)"
   ]
  },
  {
   "cell_type": "markdown",
   "metadata": {},
   "source": [
    "* Since lists are considered to be **sequentially ordered**, they support a number of operations that can be applied to any Python sequence. \n",
    "    * **indexing**: [ ], access an element of a sequence.\n",
    "    * **concatenation**: +, Combine sequences together\n",
    "    * **repetition**: \\*, Concatenate a repeated number of times\n",
    "    * **memebership**: in, Ask whether an item is in a sequence\n",
    "    * **length**: len, Ask the number of items in the sequence\n",
    "    * **slicing**: [:], Extract a part of a sequence\n",
    "* Note: The indices for lists(sequences) start counting with **0**. \n",
    "* Note: The **slice** operation, **myList[1:3]**, returns a list of items starting with the item indexed by 1 up to **BUT** not including the item indexed by 3. \n",
    "* Sometimes, you will want to initialize a list. This can quickly be accomplished by using **repetition**. "
   ]
  },
  {
   "cell_type": "code",
   "execution_count": 7,
   "metadata": {
    "collapsed": false
   },
   "outputs": [
    {
     "name": "stdout",
     "output_type": "stream",
     "text": [
      "[0, 0, 0, 0, 0, 0]\n"
     ]
    }
   ],
   "source": [
    "myList = [0]*6\n",
    "print(myList)"
   ]
  },
  {
   "cell_type": "markdown",
   "metadata": {},
   "source": [
    "* One very **important aside** relating to the repetition operator is that the result is a **repetition of references** to the data objects in the sequence. "
   ]
  },
  {
   "cell_type": "code",
   "execution_count": 8,
   "metadata": {
    "collapsed": false
   },
   "outputs": [
    {
     "name": "stdout",
     "output_type": "stream",
     "text": [
      "[[1, 2, 3, 4], [1, 2, 3, 4], [1, 2, 3, 4]]\n",
      "[[1, 2, 45, 4], [1, 2, 45, 4], [1, 2, 45, 4]]\n"
     ]
    }
   ],
   "source": [
    "myList = [1,2,3,4]\n",
    "A = [myList] * 3\n",
    "print(A)\n",
    "myList[2]=45\n",
    "print(A)"
   ]
  },
  {
   "cell_type": "markdown",
   "metadata": {},
   "source": [
    "* variable **A** holds a collection of three references to the original list called **myList**. Note that a change to one element of **myList** shows up in all three occurrences in **A**. \n",
    "* Lists support a number of methods that will be used to build data structures. \n",
    "    * **append**: alist.append(item); Adds a new item to the end of a list\n",
    "    * **insert**: alist.insert(i, item); Inserts an item to the i position in the list\n",
    "    * **pop**: alist.pop(); Removes and returns the last item in a list\n",
    "    * **pop**: alist.pop(i); Removes and returns the i item in a list\n",
    "    * **sort**: alist.sort(); Modifies a list to be sorted\n",
    "    * **reverse**: alist.reverse(); Modifies a list to be in reverse order\n",
    "    * **del**: del alist[i]; Deletes the item in the i position\n",
    "    * **index**: alist.index(item); Returns the index of the first occurrence of item\n",
    "    * **count**: alist.count(item); Returns the number of occurrences of item\n",
    "    * **remove**: alist.remove(item); Removes the first occurrence of item"
   ]
  },
  {
   "cell_type": "code",
   "execution_count": 9,
   "metadata": {
    "collapsed": false
   },
   "outputs": [
    {
     "name": "stdout",
     "output_type": "stream",
     "text": [
      "[1024, 3, True, 6.5, False]\n",
      "[1024, 3, 4.5, True, 6.5, False]\n",
      "False\n",
      "3\n",
      "[1024, 4.5, True, 6.5]\n",
      "[1024, 4.5, 6.5]\n",
      "[4.5, 6.5, 1024]\n",
      "[1024, 6.5, 4.5]\n",
      "1\n",
      "2\n",
      "[1024, 4.5]\n",
      "[4.5]\n"
     ]
    }
   ],
   "source": [
    "myList = [1024, 3, True, 6.5]\n",
    "myList.append(False)\n",
    "print(myList)\n",
    "myList.insert(2, 4.5)\n",
    "print(myList)\n",
    "print(myList.pop())\n",
    "print(myList.pop(1))\n",
    "print(myList)\n",
    "myList.pop(2)\n",
    "print(myList)\n",
    "myList.sort()\n",
    "print(myList)\n",
    "myList.reverse()\n",
    "print(myList)\n",
    "print(myList.count(6.5))\n",
    "print(myList.index(4.5))\n",
    "myList.remove(6.5)\n",
    "print(myList)\n",
    "del myList[0]\n",
    "print(myList)"
   ]
  },
  {
   "cell_type": "code",
   "execution_count": 10,
   "metadata": {
    "collapsed": false
   },
   "outputs": [
    {
     "name": "stdout",
     "output_type": "stream",
     "text": [
      "25\n"
     ]
    }
   ],
   "source": [
    "print((15).__add__(10)) # integer object (15) to execute add method"
   ]
  },
  {
   "cell_type": "code",
   "execution_count": 11,
   "metadata": {
    "collapsed": false
   },
   "outputs": [
    {
     "name": "stdout",
     "output_type": "stream",
     "text": [
      "range(0, 10)\n",
      "[0, 1, 2, 3, 4, 5, 6, 7, 8, 9]\n",
      "range(5, 10)\n",
      "[5, 6, 7, 8, 9]\n",
      "[5, 7, 9]\n",
      "[10, 9, 8, 7, 6, 5, 4, 3, 2]\n"
     ]
    }
   ],
   "source": [
    "# range() produces a range object that represents a sequence of values\n",
    "print(range(10))\n",
    "print(list(range(10)))\n",
    "print(range(5,10))\n",
    "print(list(range(5,10)))\n",
    "print(list(range(5,10,2)))\n",
    "print(list(range(10,1,-1)))"
   ]
  },
  {
   "cell_type": "markdown",
   "metadata": {},
   "source": [
    "* **Strings** are sequential collections of zero or more letters, numbers and other symbols. We call these letters, numbers and other symbols **characters**. \n",
    "* **Literal string** values are differentiated from identifiers by using quotation marks(either single or double)"
   ]
  },
  {
   "cell_type": "code",
   "execution_count": 12,
   "metadata": {
    "collapsed": false
   },
   "outputs": [
    {
     "name": "stdout",
     "output_type": "stream",
     "text": [
      "David\n",
      "i\n",
      "DavidDavid\n",
      "5\n",
      "DAVID\n",
      "  David   \n",
      "2\n",
      "['Da', 'id']\n"
     ]
    }
   ],
   "source": [
    "print(\"David\")\n",
    "myName = \"David\"\n",
    "print(myName[3])\n",
    "print(myName * 2)\n",
    "print(len(myName))\n",
    "print(myName.upper())\n",
    "print(myName.center(10))\n",
    "print(myName.find('v'))\n",
    "print(myName.split('v'))"
   ]
  },
  {
   "cell_type": "markdown",
   "metadata": {},
   "source": [
    "* **split** will take a string and return a **list of strings** using the split character as a division point. \n",
    "* If no division is specified, the split method looks for **whitespace characters** such as tab, newline and space. \n",
    "* A major **difference between lists and strings** is that lists can be modified while strings cannot. This is referred to as **mutability**. \n",
    "* **Lists are mutable, strings are immutable**. \n"
   ]
  },
  {
   "cell_type": "code",
   "execution_count": 13,
   "metadata": {
    "collapsed": false
   },
   "outputs": [
    {
     "name": "stdout",
     "output_type": "stream",
     "text": [
      "[1024, 3, True, 6.5]\n"
     ]
    },
    {
     "ename": "TypeError",
     "evalue": "'str' object does not support item assignment",
     "output_type": "error",
     "traceback": [
      "\u001b[0;31m---------------------------------------------------------------------------\u001b[0m",
      "\u001b[0;31mTypeError\u001b[0m                                 Traceback (most recent call last)",
      "\u001b[0;32m<ipython-input-13-6b297c3bc066>\u001b[0m in \u001b[0;36m<module>\u001b[0;34m()\u001b[0m\n\u001b[1;32m      3\u001b[0m \u001b[0mprint\u001b[0m\u001b[1;33m(\u001b[0m\u001b[0mmyList\u001b[0m\u001b[1;33m)\u001b[0m\u001b[1;33m\u001b[0m\u001b[0m\n\u001b[1;32m      4\u001b[0m \u001b[0mmyName\u001b[0m \u001b[1;33m=\u001b[0m \u001b[1;34m'David'\u001b[0m\u001b[1;33m\u001b[0m\u001b[0m\n\u001b[0;32m----> 5\u001b[0;31m \u001b[0mmyName\u001b[0m\u001b[1;33m[\u001b[0m\u001b[1;36m0\u001b[0m\u001b[1;33m]\u001b[0m\u001b[1;33m=\u001b[0m\u001b[1;34m'X'\u001b[0m\u001b[1;33m\u001b[0m\u001b[0m\n\u001b[0m\u001b[1;32m      6\u001b[0m \u001b[0mprint\u001b[0m\u001b[1;33m(\u001b[0m\u001b[0mmyName\u001b[0m\u001b[1;33m)\u001b[0m\u001b[1;33m\u001b[0m\u001b[0m\n",
      "\u001b[0;31mTypeError\u001b[0m: 'str' object does not support item assignment"
     ]
    }
   ],
   "source": [
    "myList = [1, 3, True, 6.5]\n",
    "myList[0]=2**10\n",
    "print(myList)\n",
    "myName = 'David'\n",
    "myName[0]='X'\n",
    "print(myName)"
   ]
  },
  {
   "cell_type": "markdown",
   "metadata": {},
   "source": [
    "* **Tuples** are very similar to lists in that they are **hetrogeneous sequences of data**. The **difference** is that **tuples are immutable**, like strings. A tuple cannot be changed. \n",
    "* Tuples are written as comma-delimited values enclosed by **parentheses**. As sequences they can use any operation defined above (for lists)."
   ]
  },
  {
   "cell_type": "code",
   "execution_count": null,
   "metadata": {
    "collapsed": false
   },
   "outputs": [],
   "source": [
    "myTuple = (2, True, 4.96)\n",
    "print(myTuple)\n",
    "print(len(myTuple))\n",
    "print(myTuple[0])\n",
    "print(myTuple * 3)\n",
    "print(myTuple[0:2])\n",
    "#changing value of an item in tuple throws item assignment error\n",
    "myTuple[1]=False\n",
    "print(myTuple)"
   ]
  },
  {
   "cell_type": "markdown",
   "metadata": {},
   "source": [
    "### Set\n",
    "\n",
    "* A **set** is an unordered collection of zero or more immutable Python data objects. **Sets** do not allow **duplicates** and are written as comma-delimited values enclused in **curly braces**. \n",
    "* The empty set is represented by **set()**. Sets are **heterogeneous**, and the collection can be assigned to a variable. "
   ]
  },
  {
   "cell_type": "code",
   "execution_count": null,
   "metadata": {
    "collapsed": false
   },
   "outputs": [],
   "source": [
    "mySet = {3, 6, \"cat\", 4.5, False}\n",
    "print(mySet)"
   ]
  },
  {
   "cell_type": "markdown",
   "metadata": {},
   "source": [
    "* Even though sets are not considered to be sequential, they do support a few of the familiar operations presented earlier:\n",
    "    * **membership**: in; set membership\n",
    "    * **length**: len; returns the cardinality of the set\n",
    "    * ** | **: aset| otherset; Returns a new set with all elements from both sets (**aset.union(otherset)**)\n",
    "    * ** & **: aset & otherset; Returns a new set with only those elements common to both sets (**aset.intersetion(otherset)**)\n",
    "    * ** - **: aset - otherset; Returns a new set with all items from the first set not in second set.(**aset.differences(otherset)**)\n",
    "    * ** <= **: aset <= otherset; Asks whether all elements of the first set are in the second. (**aset.issubset(otherset)**)"
   ]
  },
  {
   "cell_type": "code",
   "execution_count": null,
   "metadata": {
    "collapsed": false
   },
   "outputs": [],
   "source": [
    "mySet = {False, 4.5, 3, 6, 'cat'}\n",
    "print(len(mySet))\n",
    "print(False in mySet)\n",
    "print(\"dog\" in mySet)"
   ]
  },
  {
   "cell_type": "markdown",
   "metadata": {},
   "source": [
    "* **add**: aset.add(item); Adds item to the set\n",
    "* **remove**: aset.remove(item); removes item from the set\n",
    "* **pop**: aset.pop(); Removes an arbitrary element from the set\n",
    "* **clear**: aset.clear(); removes all elements from the set"
   ]
  },
  {
   "cell_type": "markdown",
   "metadata": {},
   "source": [
    "### Dictionary\n",
    "\n",
    "* **Dictionaries** are unordered Python collections. They are collections of associated pairs of items where each pari consists of a **key** and a **value**. \n",
    "* Dictionaries are written as comma-delimited **key:value** pairs enclused in curly braces. "
   ]
  },
  {
   "cell_type": "code",
   "execution_count": null,
   "metadata": {
    "collapsed": false
   },
   "outputs": [],
   "source": [
    "capitals = {'Iowa':'DesMoines','Wisconsin':'Madison'}\n",
    "capitals"
   ]
  },
  {
   "cell_type": "markdown",
   "metadata": {},
   "source": [
    "* We can manipulate a dictionary by accessing a value via its key or by adding another key-value pair. \n",
    "* The syntax for access looks much like a sequence access except that instead of using the index of the item we use the key value. To add a new value is similar."
   ]
  },
  {
   "cell_type": "code",
   "execution_count": null,
   "metadata": {
    "collapsed": false
   },
   "outputs": [],
   "source": [
    "capitals\n",
    "print(capitals['Iowa'])\n",
    "capitals['Utah'] = 'SaltLakeCity'\n",
    "print(capitals)\n",
    "capitals['California'] = 'Sacramento'\n",
    "print(capitals)\n",
    "print(len(capitals))\n",
    "for k in capitals:\n",
    "    print(capitals[k],\" is the capital of \", k)"
   ]
  },
  {
   "cell_type": "markdown",
   "metadata": {},
   "source": [
    "* It is important to note that the dictionary is maintained in no particular order with respect to the keys. \n",
    "* The placement of the key is dependent on the idea of **hashing**. \n",
    "* Dictionaries have both **methods** and **operators**. \n",
    "* The **keys**, **values**, and **items** methods all return objects that contain the values of interest. You can use the **list** function to convert them to lists. \n",
    "* There are 2 variations on the **get** method. If the **key** is not present in the dictionary, **get** will return **None**. However, a second optional parameter can specify a return value instead. \n",
    "* **Operators**:\n",
    "    * **[ ]** : myDict[k]; Returns the value associated with k, otherwise its an error.\n",
    "    * **in** : key in adict; Returns **True** if key is in the dictionary, **False** otherwise\n",
    "    * **del**: del adict[key]; Removes the entry from the dictionary."
   ]
  },
  {
   "cell_type": "code",
   "execution_count": null,
   "metadata": {
    "collapsed": false
   },
   "outputs": [],
   "source": [
    "phoneext = {'david':1410,'brad':1137}\n",
    "print(phoneext)\n",
    "print(phoneext.keys())\n",
    "print(phoneext.values())\n",
    "mylist = list(phoneext.keys())\n",
    "print(mylist)\n",
    "print(phoneext.items())\n",
    "mylist = list(phoneext.items())\n",
    "print(mylist)\n",
    "print(phoneext.get(\"kent\"))\n",
    "print(phoneext.get(\"kent\",\"NO ENTRY\"))"
   ]
  },
  {
   "cell_type": "markdown",
   "metadata": {},
   "source": [
    "### Input and Output\n",
    "\n",
    "* We often have a need to interact with users, either to get data or to provide some sort of result. \n",
    "* Python provides us with a function that allows us to ask a user to enter some data and returns a **reference to the data** in the form of a string.  The function is called **input**. \n",
    "* Pythons input function takes a single parameter that is a **string**. This string is often called the **prompt** because it contains some helpful text prompting the user to enter something. "
   ]
  },
  {
   "cell_type": "code",
   "execution_count": null,
   "metadata": {
    "collapsed": false
   },
   "outputs": [],
   "source": [
    "aName = input('Please enter your name: ')\n",
    "print(\"Your name in all capitals is \", aName.upper(),\n",
    "        \"and has length \", len(aName))"
   ]
  },
  {
   "cell_type": "markdown",
   "metadata": {},
   "source": [
    "* It is important to note that the value returned from the **input** function will be a string representing the exact characters that were entered after the prompt. \n",
    "* If you want this string interpreted as another type, you must provide the type conversion explicitly. "
   ]
  },
  {
   "cell_type": "code",
   "execution_count": null,
   "metadata": {
    "collapsed": false
   },
   "outputs": [],
   "source": [
    "sradius = input(\"Please enter the radius of the circle \")\n",
    "radius = float(sradius)\n",
    "diameter = 2 * radius\n",
    "print(diameter)"
   ]
  },
  {
   "cell_type": "markdown",
   "metadata": {},
   "source": [
    "### String formatting\n",
    "\n",
    "* **print** function provides a very simple way to output values from a Python program. \n",
    "* **print** takes **zero or more parameters** and displays them using a single blank as the default separator. It is possible to change the separator character by setting the **sep** argument. In addition, each print ends with a newline character by default. This behavior can be changed by setting the **end** argument. "
   ]
  },
  {
   "cell_type": "code",
   "execution_count": null,
   "metadata": {
    "collapsed": false
   },
   "outputs": [],
   "source": [
    "print(\"Hello\")\n",
    "print(\"Hello\",\"World\")\n",
    "print(\"Hellow\",\"World\",sep=\"***\")\n",
    "print(\"Hellow\",\"World\",end=\"***\")"
   ]
  },
  {
   "cell_type": "markdown",
   "metadata": {},
   "source": [
    "* Is is often useful to have more control over the look of your output. Fortunately, Python provides us with an alternate called **formatted strings**. A formatted string is a template in which words or spaces that will remain constant are combined with **placeholders for variables** that will be inserted into the string. "
   ]
  },
  {
   "cell_type": "code",
   "execution_count": null,
   "metadata": {
    "collapsed": false
   },
   "outputs": [],
   "source": [
    "aname=\"Ankur\"\n",
    "age=\"35\"\n",
    "print(aName, \"is\", age, \"years old.\")"
   ]
  },
  {
   "cell_type": "code",
   "execution_count": null,
   "metadata": {
    "collapsed": false
   },
   "outputs": [],
   "source": [
    "aname=\"Ankur\"\n",
    "age=35\n",
    "print(\"%s is %d years old.\" % (aName, age))"
   ]
  },
  {
   "cell_type": "markdown",
   "metadata": {},
   "source": [
    "* The **%** operator is a string operator called the **format operator**. \n",
    "* The format string may contain one or more conversion specificatoins.\n",
    "* A conversion character tells the format operator what type of value is going to be inserted into that position in the string. \n",
    "* **Character and Output Format**\n",
    "    * **d,i**: Integer\n",
    "    * **u**: Unsigned integer\n",
    "    * **f**: Floating point as m.ddddd\n",
    "    * **e**: Floating point as m.ddddde+/-xx\n",
    "    * **E**: Floating point as m.dddddE+/-xx\n",
    "    * **g**: Use %e for exponents less than -4 or greater than +5, other wise use %f\n",
    "    * **c**: Single character\n",
    "    * **s**: String, or any Python data object that can be converted to a string by using the **str** function.\n",
    "    * **%**: Insert a literal % character\n",
    "\n",
    "* In addition to the format character, you can also include a **format modifier** between the **%** and the format character. \n",
    "* **Format modifiers** may be used to left-justify or right-justify the value with a specified field width. \n",
    "* Modifiers can also be used to specify the field width along with a number of digits after the decimal point. \n",
    "* **Modifier/Example/Description**\n",
    "    * **number**: %20d; Put the value in a field width of 20\n",
    "    * ** - **: %-20d; Put the value in a field 20 character width, left-justified\n",
    "    * ** + **: %+20d; Put the value in a field 20 character width, right-justified\n",
    "    * ** 0 **: %020d; Put the value in a field 20 characters wide, fill in with **leading zeros**.\n",
    "    * ** . **: %20.2f; Put the value in a field 20 characters wide with 2 characters to the right of the decimal point.\n",
    "    * **(name)**: %(name)d; Get the value from the supplied dictionary using **name** as the key.\n",
    "\n",
    "* The right side of the format operator is a collection of values that will be inserted into the format string. The collection will be either a **tuple or a dictionary**. \n",
    "* If the collection is a **tuple**, the values are inserted in order of position. That is, the first element in the tuple corresponds to the first format character in the format string. \n",
    "* If the collection is a dictionary, the values are inserted according to their keys. In this case all format characters must use **(name)** modifier to specify the name of the key.\n",
    "* In addition to format strings that use format characters and format modifiers, Python strings also include a **format** method that can be used in conjunction with a new **Formatter** class to implement complex string formatting. \n"
   ]
  },
  {
   "cell_type": "code",
   "execution_count": null,
   "metadata": {
    "collapsed": false
   },
   "outputs": [],
   "source": [
    "price = 24\n",
    "item = \"banana\"\n",
    "print(\"The %s costs %d cents\"%(item,price))\n",
    "print(\"The %+10s costs %5.2f cents\"%(item,price))\n",
    "itemdict = {\"item\":\"banana\",\"cost\":24}\n",
    "print(\"The %(item)s costs %(cost)7.1f cents\"%itemdict)"
   ]
  },
  {
   "cell_type": "markdown",
   "metadata": {},
   "source": [
    "### Control Structures\n",
    "\n",
    "* Algorithms require two important control structures: **iteration and selection**\n",
    "* For **iteration**, Python provides a standard **while** statement and a very powerful **for** statement. "
   ]
  },
  {
   "cell_type": "code",
   "execution_count": null,
   "metadata": {
    "collapsed": false
   },
   "outputs": [],
   "source": [
    "# While statement\n",
    "counter = 1\n",
    "while counter <= 5:\n",
    "    print(counter)\n",
    "    counter = counter + 1"
   ]
  },
  {
   "cell_type": "code",
   "execution_count": null,
   "metadata": {
    "collapsed": false
   },
   "outputs": [],
   "source": [
    "# compound while statement\n",
    "done = False\n",
    "while counter <= 10 and not done:\n",
    "    ..."
   ]
  },
  {
   "cell_type": "markdown",
   "metadata": {},
   "source": [
    "* The **for** statement can be used to iterate over the members of a collection, so long as the collection is a sequence (lists, tuples, strings). "
   ]
  },
  {
   "cell_type": "code",
   "execution_count": 14,
   "metadata": {
    "collapsed": false
   },
   "outputs": [
    {
     "name": "stdout",
     "output_type": "stream",
     "text": [
      "1\n",
      "3\n",
      "6\n",
      "2\n",
      "5\n"
     ]
    }
   ],
   "source": [
    "for item in [1, 3, 6, 2, 5]:\n",
    "    print(item)"
   ]
  },
  {
   "cell_type": "code",
   "execution_count": 15,
   "metadata": {
    "collapsed": false
   },
   "outputs": [
    {
     "name": "stdout",
     "output_type": "stream",
     "text": [
      "0\n",
      "1\n",
      "4\n",
      "9\n",
      "16\n"
     ]
    }
   ],
   "source": [
    "for item in range(5):\n",
    "    print(item**2)"
   ]
  },
  {
   "cell_type": "markdown",
   "metadata": {},
   "source": [
    "* The **range** function will return a range object representing the sequence 0,1,2,3,4 and each value will be assigned to variable **item**. \n",
    "* The other very useful version of this iteration structure is used to process each character of a string. "
   ]
  },
  {
   "cell_type": "code",
   "execution_count": 17,
   "metadata": {
    "collapsed": false
   },
   "outputs": [
    {
     "name": "stdout",
     "output_type": "stream",
     "text": [
      "['c', 'a', 't', 'd', 'o', 'g', 'r', 'a', 'b', 'b', 'i', 't']\n"
     ]
    }
   ],
   "source": [
    "wordlist = ['cat', 'dog', 'rabbit']\n",
    "letterlist = []\n",
    "for aword in wordlist:\n",
    "    for aletter in aword:\n",
    "        letterlist.append(aletter)\n",
    "\n",
    "print(letterlist)"
   ]
  },
  {
   "cell_type": "markdown",
   "metadata": {},
   "source": [
    " * **Selection statements** allow programmers to ask questions and then, based on the result, perform different actions. Most programming languages provide two versions of this useful construct: the **ifelse** and the **if**. "
   ]
  },
  {
   "cell_type": "code",
   "execution_count": 20,
   "metadata": {
    "collapsed": false
   },
   "outputs": [
    {
     "name": "stdout",
     "output_type": "stream",
     "text": [
      "sorry, value is negative\n"
     ]
    }
   ],
   "source": [
    "import math\n",
    "\n",
    "n = -2\n",
    "if n < 0:\n",
    "    print(\"sorry, value is negative\")\n",
    "else:\n",
    "    print(math.sqrt(n))"
   ]
  },
  {
   "cell_type": "markdown",
   "metadata": {},
   "source": [
    "* There is an alternative method for creating list that uses iteration and selection constructs known as **list comprehension**. "
   ]
  },
  {
   "cell_type": "code",
   "execution_count": 21,
   "metadata": {
    "collapsed": false
   },
   "outputs": [
    {
     "name": "stdout",
     "output_type": "stream",
     "text": [
      "[1, 4, 9, 16, 25, 36, 49, 64, 81, 100]\n"
     ]
    }
   ],
   "source": [
    "sqlist = [x*x for x in range(1,11)]\n",
    "print(sqlist)"
   ]
  },
  {
   "cell_type": "code",
   "execution_count": 22,
   "metadata": {
    "collapsed": false
   },
   "outputs": [
    {
     "name": "stdout",
     "output_type": "stream",
     "text": [
      "[1, 9, 25, 49, 81]\n"
     ]
    }
   ],
   "source": [
    "sqlist = [x*x for x in range(1,11) if x%2 != 0]\n",
    "print(sqlist)"
   ]
  },
  {
   "cell_type": "code",
   "execution_count": 23,
   "metadata": {
    "collapsed": false
   },
   "outputs": [
    {
     "name": "stdout",
     "output_type": "stream",
     "text": [
      "['C', 'M', 'P', 'R', 'H', 'N', 'S', 'N']\n"
     ]
    }
   ],
   "source": [
    "novowel = [ch.upper() for ch in 'comprehension' if ch not in 'aeiou']\n",
    "print(novowel)"
   ]
  },
  {
   "cell_type": "markdown",
   "metadata": {},
   "source": [
    "### Exception Handling\n",
    "\n",
    "* There are **2** types of errors that typically occur when writing programs. \n",
    "* The **first**, known as a **syntax error**."
   ]
  },
  {
   "cell_type": "code",
   "execution_count": 24,
   "metadata": {
    "collapsed": false
   },
   "outputs": [
    {
     "ename": "SyntaxError",
     "evalue": "invalid syntax (<ipython-input-24-8f028d5fd575>, line 1)",
     "output_type": "error",
     "traceback": [
      "\u001b[0;36m  File \u001b[0;32m\"<ipython-input-24-8f028d5fd575>\"\u001b[0;36m, line \u001b[0;32m1\u001b[0m\n\u001b[0;31m    for i in range(10)\u001b[0m\n\u001b[0m                      ^\u001b[0m\n\u001b[0;31mSyntaxError\u001b[0m\u001b[0;31m:\u001b[0m invalid syntax\n"
     ]
    }
   ],
   "source": [
    "for i in range(10)\n",
    "    print(i)"
   ]
  },
  {
   "cell_type": "markdown",
   "metadata": {},
   "source": [
    "* In above case, the Python interpreter has found that it cannot complete the processing of this instruction since it does not conform to the rules of the language. \n",
    "* The **second** error, known as a **logic error**, denotes a situation where the program executes but gives the wrong result. \n",
    "    * This can be due to an error in the underlying algorithm\n",
    "    * an error in your translation of that algorithm. \n",
    "    * Some bad logic errors are, divide by zero, accessing list item when item is outside the bounds of the list. \n",
    "    * In these cases, logic error leads to a runtime error that causes the program to terminate. \n",
    "    * These types of runtime errors are typically called **exceptions**.\n",
    "    * Most programming languages provide a way to deal with these **exceptions** that will allow the programmer to have some type of **intervention** if they so choose. \n",
    "    * In addition, programmers can create their own exceptions if they detect a situation in the program execution that warrants it. \n",
    "    * When an exception occurs, we say that it has been **raised**. You can **handle** the exception that has been raised by using a **try statement**. \n"
   ]
  },
  {
   "cell_type": "code",
   "execution_count": 26,
   "metadata": {
    "collapsed": false
   },
   "outputs": [
    {
     "name": "stdout",
     "output_type": "stream",
     "text": [
      "Please enter an integer -23\n"
     ]
    },
    {
     "ename": "ValueError",
     "evalue": "math domain error",
     "output_type": "error",
     "traceback": [
      "\u001b[0;31m---------------------------------------------------------------------------\u001b[0m",
      "\u001b[0;31mValueError\u001b[0m                                Traceback (most recent call last)",
      "\u001b[0;32m<ipython-input-26-9fefa9dede5d>\u001b[0m in \u001b[0;36m<module>\u001b[0;34m()\u001b[0m\n\u001b[1;32m      3\u001b[0m \u001b[1;33m\u001b[0m\u001b[0m\n\u001b[1;32m      4\u001b[0m \u001b[0manumber\u001b[0m \u001b[1;33m=\u001b[0m \u001b[0mint\u001b[0m\u001b[1;33m(\u001b[0m\u001b[0minput\u001b[0m\u001b[1;33m(\u001b[0m\u001b[1;34m\"Please enter an integer \"\u001b[0m\u001b[1;33m)\u001b[0m\u001b[1;33m)\u001b[0m\u001b[1;33m\u001b[0m\u001b[0m\n\u001b[0;32m----> 5\u001b[0;31m \u001b[0mprint\u001b[0m\u001b[1;33m(\u001b[0m\u001b[0mmath\u001b[0m\u001b[1;33m.\u001b[0m\u001b[0msqrt\u001b[0m\u001b[1;33m(\u001b[0m\u001b[0manumber\u001b[0m\u001b[1;33m)\u001b[0m\u001b[1;33m)\u001b[0m\u001b[1;33m\u001b[0m\u001b[0m\n\u001b[0m",
      "\u001b[0;31mValueError\u001b[0m: math domain error"
     ]
    }
   ],
   "source": [
    "# value error exception\n",
    "import math\n",
    "\n",
    "anumber = int(input(\"Please enter an integer \"))\n",
    "print(math.sqrt(anumber))\n"
   ]
  },
  {
   "cell_type": "markdown",
   "metadata": {},
   "source": [
    "* We can handle this exception by **calling the print function from within a try block**. \n",
    "* A corresponding **except** block **catches** the exception and prints a message back to the user in the event that an exception occurs."
   ]
  },
  {
   "cell_type": "code",
   "execution_count": 28,
   "metadata": {
    "collapsed": false
   },
   "outputs": [
    {
     "name": "stdout",
     "output_type": "stream",
     "text": [
      "Please enter an integer -23\n",
      "Bad value for square root\n",
      "Using absolute value instead\n",
      "4.795831523312719\n"
     ]
    }
   ],
   "source": [
    "# value error exception\n",
    "import math\n",
    "\n",
    "anumber = int(input(\"Please enter an integer \"))\n",
    "try:\n",
    "    print(math.sqrt(anumber))\n",
    "except:\n",
    "    print(\"Bad value for square root\")\n",
    "    print(\"Using absolute value instead\")\n",
    "    print(math.sqrt(abs(anumber)))\n"
   ]
  },
  {
   "cell_type": "markdown",
   "metadata": {},
   "source": [
    "* It is also possible for a programmer to **cause a runtime exception** by using the **raise** statement. \n",
    "* Note that the program would still terminate, but now the exception that caused the termination is something explicitly created by the programmer. \n",
    "* There are many kinds of exceptions that can be rasied in addition to the **RuntimeError**."
   ]
  },
  {
   "cell_type": "code",
   "execution_count": 29,
   "metadata": {
    "collapsed": false
   },
   "outputs": [
    {
     "name": "stdout",
     "output_type": "stream",
     "text": [
      "Please enter an integer -233\n"
     ]
    },
    {
     "ename": "RuntimeError",
     "evalue": "You can't use a negative number, try again",
     "output_type": "error",
     "traceback": [
      "\u001b[0;31m---------------------------------------------------------------------------\u001b[0m",
      "\u001b[0;31mRuntimeError\u001b[0m                              Traceback (most recent call last)",
      "\u001b[0;32m<ipython-input-29-afce0839975c>\u001b[0m in \u001b[0;36m<module>\u001b[0;34m()\u001b[0m\n\u001b[1;32m      4\u001b[0m \u001b[0manumber\u001b[0m \u001b[1;33m=\u001b[0m \u001b[0mint\u001b[0m\u001b[1;33m(\u001b[0m\u001b[0minput\u001b[0m\u001b[1;33m(\u001b[0m\u001b[1;34m\"Please enter an integer \"\u001b[0m\u001b[1;33m)\u001b[0m\u001b[1;33m)\u001b[0m\u001b[1;33m\u001b[0m\u001b[0m\n\u001b[1;32m      5\u001b[0m \u001b[1;32mif\u001b[0m \u001b[0manumber\u001b[0m \u001b[1;33m<\u001b[0m \u001b[1;36m0\u001b[0m\u001b[1;33m:\u001b[0m\u001b[1;33m\u001b[0m\u001b[0m\n\u001b[0;32m----> 6\u001b[0;31m     \u001b[1;32mraise\u001b[0m \u001b[0mRuntimeError\u001b[0m\u001b[1;33m(\u001b[0m\u001b[1;34m\"You can't use a negative number, try again\"\u001b[0m\u001b[1;33m)\u001b[0m\u001b[1;33m\u001b[0m\u001b[0m\n\u001b[0m\u001b[1;32m      7\u001b[0m \u001b[1;32melse\u001b[0m\u001b[1;33m:\u001b[0m\u001b[1;33m\u001b[0m\u001b[0m\n\u001b[1;32m      8\u001b[0m     \u001b[0mprint\u001b[0m\u001b[1;33m(\u001b[0m\u001b[0mmath\u001b[0m\u001b[1;33m.\u001b[0m\u001b[0msqrt\u001b[0m\u001b[1;33m(\u001b[0m\u001b[0manumber\u001b[0m\u001b[1;33m)\u001b[0m\u001b[1;33m)\u001b[0m\u001b[1;33m\u001b[0m\u001b[0m\n",
      "\u001b[0;31mRuntimeError\u001b[0m: You can't use a negative number, try again"
     ]
    }
   ],
   "source": [
    "# raise runtime exception\n",
    "import math\n",
    "\n",
    "anumber = int(input(\"Please enter an integer \"))\n",
    "if anumber < 0:\n",
    "    raise RuntimeError(\"You can't use a negative number, try again\")\n",
    "else:\n",
    "    print(math.sqrt(anumber))\n",
    "\n"
   ]
  },
  {
   "cell_type": "markdown",
   "metadata": {},
   "source": [
    "### Functions\n",
    "\n",
    "* We can hide the details of any computation by defining a **function**.\n",
    "* A **function** definition requires a **name**, a group of **parameters**, and a **body**. It may also explicity **return a value**. \n"
   ]
  },
  {
   "cell_type": "code",
   "execution_count": 34,
   "metadata": {
    "collapsed": false
   },
   "outputs": [
    {
     "data": {
      "text/plain": [
       "81"
      ]
     },
     "execution_count": 34,
     "metadata": {},
     "output_type": "execute_result"
    }
   ],
   "source": [
    "def square(n):\n",
    "    return n**2\n",
    "\n",
    "square(square(3))"
   ]
  },
  {
   "cell_type": "code",
   "execution_count": 39,
   "metadata": {
    "collapsed": false
   },
   "outputs": [
    {
     "data": {
      "text/plain": [
       "4.898979485566356"
      ]
     },
     "execution_count": 39,
     "metadata": {},
     "output_type": "execute_result"
    }
   ],
   "source": [
    "def squareroot(n):\n",
    "    root = n/2 # initial guess will be 1/2 of n\n",
    "    for k in range(20):\n",
    "        root = (1/2) * (root + (n/root))\n",
    "    \n",
    "    return root\n",
    "\n",
    "squareroot(24)"
   ]
  },
  {
   "cell_type": "code",
   "execution_count": 41,
   "metadata": {
    "collapsed": false
   },
   "outputs": [
    {
     "name": "stdout",
     "output_type": "stream",
     "text": [
      "0.03571428571428571\n"
     ]
    }
   ],
   "source": [
    "import random\n",
    "\n",
    "def generateOne(strlen):\n",
    "    alphabet = \"abcdefghijklmnopqrstuvwxyz \"\n",
    "    res = \"\" \n",
    "    for i in range(strlen):\n",
    "        res = res + alphabet[random.randrange(27)]\n",
    "    \n",
    "    return res\n",
    "\n",
    "def score(goal, teststring):\n",
    "    numSame = 0\n",
    "    for i in range(len(goal)):\n",
    "        if goal[i] == teststring[i]:\n",
    "            numSame = numSame + 1\n",
    "    return numSame/len(goal)\n",
    "\n",
    "def main():\n",
    "    goalstring = 'methinks it is like a weasel'\n",
    "    newstring = generateOne(28)\n",
    "    best = 0\n",
    "    newscore = score(goalstring,newstring)\n",
    "    while newscore < 1:\n",
    "        if newscore >= best:\n",
    "            print newscore, newstring\n",
    "            best = newstring\n",
    "        newstring = generateOneOne(28)\n",
    "        newscore = score(goalstring,newstring)\n",
    "\n",
    "main()\n"
   ]
  },
  {
   "cell_type": "markdown",
   "metadata": {},
   "source": [
    "## Object Oriented Programming\n",
    "\n",
    "* One of the most powerful features in an OOP langauge is the ability to allow a programmer(problem solver) to create new classes that model data that is needed to solve the problem.\n",
    "* We use **ADT** to provide the logical description of what a data object looks like (its state) and what it can do (its methods). \n",
    "* By building a **class** that implements an **ADT**, a programmer can take advantage of the abstraction process and at the same time provide the details necessary to actually use the abstraction in a program.\n",
    "* Whenever we want to implement an ADT, we wil do so with a new class.\n",
    "* In Python, we define a new class by providing a name and a set of method definitions that are syntactically similar to function definitions. "
   ]
  },
  {
   "cell_type": "code",
   "execution_count": 50,
   "metadata": {
    "collapsed": false
   },
   "outputs": [
    {
     "name": "stdout",
     "output_type": "stream",
     "text": [
      "3 / 5\n",
      "3/5\n"
     ]
    }
   ],
   "source": [
    "class Fraction:\n",
    "    \n",
    "    def __init__(self,top,bottom):\n",
    "        self.num=top\n",
    "        self.den=bottom\n",
    "    \n",
    "    def __str__(self):\n",
    "        return str(self.num)+\"/\"+str(self.den)\n",
    "    \n",
    "    def show(self):\n",
    "        print(self.num,\"/\",self.den)\n",
    "\n",
    "myfraction = Fraction(3,5)\n",
    "myfraction.show()\n",
    "print(myfraction)"
   ]
  },
  {
   "cell_type": "markdown",
   "metadata": {},
   "source": [
    "* The first method that all classes should provide is the **constructor**.\n",
    "* The constructor defines the way in which **data objects** are created.\n",
    "* In Python, the constructor method is always called __init__\n",
    "* **self** is a special parameter that will always be used as a reference back to the **object itself**. It must always be the first formal parameter, however, it will never be given an actual parameter value upon invocation. \n",
    "* Fractions require two pieces of state data, the numerator and the denominator. The notation **self.num** in the constructor defines the **fraction** object to have an internal data object called **num** as part of its state. The values of the two formal parameters are initially assigned to the state, allowing the new **fraction** object to know its starting value. \n",
    "* To create an instance of the **Fraction** class, we must invoke the constructor. This happens by using the name of the class and passing actual values for the necessary state.\n",
    "* In Python, all classes have a set of standard methods that are provided but many not work properly. One of these, **__str__**, is the method to **convert an object into a string**. Default implementation for this method is to **return instance address string**. "
   ]
  },
  {
   "cell_type": "code",
   "execution_count": null,
   "metadata": {
    "collapsed": true
   },
   "outputs": [],
   "source": []
  }
 ],
 "metadata": {
  "kernelspec": {
   "display_name": "Python [default]",
   "language": "python",
   "name": "python3"
  },
  "language_info": {
   "codemirror_mode": {
    "name": "ipython",
    "version": 3
   },
   "file_extension": ".py",
   "mimetype": "text/x-python",
   "name": "python",
   "nbconvert_exporter": "python",
   "pygments_lexer": "ipython3",
   "version": "3.5.2"
  }
 },
 "nbformat": 4,
 "nbformat_minor": 1
}
