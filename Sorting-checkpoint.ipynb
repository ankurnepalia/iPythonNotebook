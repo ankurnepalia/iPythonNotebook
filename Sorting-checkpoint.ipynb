{
 "cells": [
  {
   "cell_type": "code",
   "execution_count": 16,
   "metadata": {
    "collapsed": false
   },
   "outputs": [
    {
     "data": {
      "application/javascript": [
       "IPython.notebook.set_autosave_interval(0)"
      ]
     },
     "metadata": {},
     "output_type": "display_data"
    },
    {
     "name": "stdout",
     "output_type": "stream",
     "text": [
      "Autosave disabled\n"
     ]
    }
   ],
   "source": [
    "from IPython.display import Latex\n",
    "%autosave 0"
   ]
  },
  {
   "cell_type": "markdown",
   "metadata": {},
   "source": [
    "## Sorting\n",
    "\n",
    "* **Sorting** is the process of placing elements from a collection in some kind of order. \n",
    "* Examples of sorting:\n",
    "    * Sorting list of words alphabetically or by length\n",
    "    * Sorting list of cities by population, by area, or zip codes\n",
    "* Like searching, the efficiency of a sorting algorithm is related to the number of items being processed. \n",
    "* Operations that can be used to **Analyze** a sorting process:\n",
    "    * First, it will be necessary to compare two values to see which is smaller or larger. In order to sort a collection, some systematic way is needed to compare values to see if they are out of order. **Total number of comparisons** will be the most common way to **measure** a sort procedure.\n",
    "    * Second, when values are not in correct position with respect to one another, it may be necessary to **exchange them**. This exchange is a **costly operation** and the total number of exchanges will also be important for evaluating the overall efficiency of the algorithm. "
   ]
  },
  {
   "cell_type": "markdown",
   "metadata": {},
   "source": [
    "## The Bubble Sort\n",
    "\n",
    "* The bubble sort makes multiple passes through a list. \n",
    "* It **compares adjacent items** and **exchanges** those that are out of order.\n",
    "* **Each pass** through the list places the **next largest value** in its proper place.\n",
    "* In essence, each item **\"bubbles up\"** to the location where it belongs.\n",
    "* If there are **n** items in the list, then there are **n-1 pairs** of items that need to be compared on the first pass. \n",
    "* At the start of the second pass, the largest value is now in place. There are **n-1** items left to sort, meaning that there will be **n-2 pairs** to compare. \n",
    "* Since each pass places the next largest value in place, the total number of passes necessary will be **n-1**. \n",
    "* After completing the **n-1** plasses, the **smallest item** must be in the correct position with no further processing required.\n"
   ]
  },
  {
   "cell_type": "code",
   "execution_count": 17,
   "metadata": {
    "collapsed": false
   },
   "outputs": [],
   "source": [
    "# SWAP routine in most programming languages, with temporary storage\n",
    "# temp = alist[i]\n",
    "# alist[i] = alist[j]\n",
    "# alist[j] = temp\n",
    "\n",
    "# SWAP routine in python, using simultaneous assingments\n",
    "# alist[i],alist[j] = alist[j],alist[i]"
   ]
  },
  {
   "cell_type": "code",
   "execution_count": 18,
   "metadata": {
    "collapsed": false
   },
   "outputs": [
    {
     "name": "stdout",
     "output_type": "stream",
     "text": [
      "[17, 20, 26, 31, 44, 54, 55, 77, 93]\n"
     ]
    }
   ],
   "source": [
    "# The Bubble Sort\n",
    "def bubbleSort(alist):\n",
    "    for passnum in range(len(alist)-1,0,-1):\n",
    "        for i in range(passnum):\n",
    "            if alist[i] > alist[i+1]:\n",
    "                alist[i],alist[i+1] = alist[i+1],alist[i]\n",
    "                \n",
    "alist = [54, 26, 93, 17, 77, 31, 44, 55, 20]\n",
    "bubbleSort(alist)\n",
    "print(alist)\n",
    "    "
   ]
  },
  {
   "cell_type": "markdown",
   "metadata": {},
   "source": [
    "### Analyze Bubble Sort\n",
    "\n",
    "* Regardless of how the items are arranged in the initial list, **n-1 passes** will be made to sort a list of size **n**.\n",
    "* The total number of comparisons is the sum of the first **n-1 integers**.\n",
    "* Sum of the first **n** integers = $$n(n+1)/2 = n^2/2 + n/2$$\n",
    "* Sum of the first **n-1** integers = $$(n-1)(n)/2 = n^2/2 - n/2$$. Which is $$O(n^2)$$ comparisons.\n"
   ]
  },
  {
   "cell_type": "code",
   "execution_count": 19,
   "metadata": {
    "collapsed": false
   },
   "outputs": [
    {
     "name": "stdout",
     "output_type": "stream",
     "text": [
      "[20, 30, 40, 50, 60, 70, 80, 90, 100, 110]\n"
     ]
    }
   ],
   "source": [
    "# The Bubble sort algorithm\n",
    "def shortBubbleSort(alist):\n",
    "    exchanges = True\n",
    "    passnum = len(alist)-1\n",
    "    while passnum > 0 and exchanges:\n",
    "        exchanges = False\n",
    "        for i in range(passnum):\n",
    "            if alist[i] > alist[i+1]:\n",
    "                exchanges = True\n",
    "                alist[i],alist[i+1] = alist[i+1],alist[i]\n",
    "        passnum = passnum-1\n",
    "\n",
    "alist = [20,30,40,90,50,60,70,80,100,110]\n",
    "shortBubbleSort(alist)\n",
    "print(alist)\n",
    "    "
   ]
  },
  {
   "cell_type": "markdown",
   "metadata": {},
   "source": [
    "## The Selection Sort\n",
    "\n",
    "* The **selection sort** improves on the bubble sort by making **only one pass** through the list.\n",
    "* In order to do this, a selection sort looks for the largest value as it makes a pass and, after completing the pass, places it in the proper location.\n",
    "* Even in selection sort (like bubble sort), after the first pass, the largest item is in the correct place. After the second pass, next largest is in its place. This process continues and requires **(n-1)** passes to sort **n** items. "
   ]
  },
  {
   "cell_type": "code",
   "execution_count": 20,
   "metadata": {
    "collapsed": false
   },
   "outputs": [
    {
     "name": "stdout",
     "output_type": "stream",
     "text": [
      "[17, 20, 26, 31, 44, 54, 55, 77, 93]\n"
     ]
    }
   ],
   "source": [
    "# Selection sort algorithm - my version\n",
    "def selectionSort(alist):\n",
    "    listLen = len(alist)\n",
    "    while listLen > 1:\n",
    "        location = 0\n",
    "        for i in range(listLen):\n",
    "            if  alist[i] > alist[location]:\n",
    "                location = i\n",
    "        \n",
    "        if location != listLen-1:\n",
    "            alist[location],alist[listLen-1] = alist[listLen-1],alist[location]\n",
    "        \n",
    "        listLen = listLen-1\n",
    "\n",
    "alist = [54,26,93,17,77,31,44,55,20]\n",
    "selectionSort(alist)\n",
    "print(alist)\n",
    "        "
   ]
  },
  {
   "cell_type": "code",
   "execution_count": 21,
   "metadata": {
    "collapsed": false
   },
   "outputs": [
    {
     "name": "stdout",
     "output_type": "stream",
     "text": [
      "[17, 20, 26, 31, 44, 54, 55, 77, 93]\n"
     ]
    }
   ],
   "source": [
    "# Selection sort algorithm - other version\n",
    "def altSelectionSort(alist):\n",
    "    for fillslot in range(len(alist)-1,0,-1):\n",
    "        location = 0\n",
    "        for i in range(1,fillslot+1):\n",
    "            if alist[i] > alist[location]:\n",
    "                location = i\n",
    "        \n",
    "        alist[location],alist[fillslot] = alist[fillslot],alist[location]\n",
    "\n",
    "alist = [54,26,93,17,77,31,44,55,20]\n",
    "selectionSort(alist)\n",
    "print(alist)"
   ]
  },
  {
   "cell_type": "markdown",
   "metadata": {},
   "source": [
    "### Analyze Selection Sort\n",
    "* Selection sort makes the same number of comparisons as the bubble sort and is therefore also $$O(n^2)$$\n",
    "* However, due to reduction in the number of exchanges, the selection sort typically executes faster in benchmark studies."
   ]
  },
  {
   "cell_type": "markdown",
   "metadata": {},
   "source": [
    "## The Insertion Sort\n",
    "\n",
    "* Insertion sort is of order $$O(n^2)$$, but works slightly better than bubble and selection sort.\n",
    "* Insertion sort, always maintains a sorted sublist in the lower positions of the list.\n",
    "* Each new item is then **\"inserted\"** back into the previous sublist such that the sorted sublist is one item larger.\n",
    "* Insert sort algorithm:\n",
    "    * We begin by assuming that a list with one item(position 0) is already sorted. \n",
    "    * On each pass, one for each item 1 through n-1, the current item is checked against those in the already sorted sublist. \n",
    "    * As we look back into the already sorted sublist, we shift those items that are greater to the right. When we reach a smaller item or the end of the sublist, the current item can be inserted.\n",
    "* The maximum number of comparisons for an insertion sort is the sum of the first n-1 integers. Again this is $$O(n^2)$$.\n",
    "* Note: In general, a **shift operation** requires approximately a third of the processing work of an **exchange operation**, since only one assignment is performed. \n",
    "* In benchmark studies, insertion sort will show very good performance."
   ]
  },
  {
   "cell_type": "code",
   "execution_count": 22,
   "metadata": {
    "collapsed": false
   },
   "outputs": [
    {
     "name": "stdout",
     "output_type": "stream",
     "text": [
      "[1, 17, 20, 26, 31, 44, 54, 55, 77, 93]\n"
     ]
    }
   ],
   "source": [
    "# Insertion Sort algrorithm.\n",
    "def insertionSort(alist):\n",
    "    for i in range(1,len(alist)):\n",
    "        currentvalue = alist[i]\n",
    "        j = i\n",
    "        \n",
    "        while j > 0 and alist[j-1] > currentvalue:\n",
    "            alist[j] = alist[j-1]\n",
    "            j = j-1\n",
    "        \n",
    "        alist[j] = currentvalue\n",
    "        \n",
    "alist = [54,26,93,17,77,31,44,55,20,1]\n",
    "insertionSort(alist)\n",
    "print(alist)  "
   ]
  },
  {
   "cell_type": "markdown",
   "metadata": {},
   "source": [
    "## The Shell Sort\n",
    "\n",
    "* The **Shell sort** sometimes called the **diminishing increment sort**, improves on the insertion sort by breaking the original list into a number of smaller subsets, each of which is sorted using an **insertion sort**. \n",
    "* The unique way that these sublists are choosen is the key to shell sort.\n",
    "* The shell sort uses an increment **i**, sometimes called the **gap**, to create a sublist by choosing all items that are **i** items apart.\n",
    "\n",
    "### Analyze Shell Sort\n",
    "\n",
    "* The final set includes **incsertion sort** with gap=0. This final insertion sort does not need to do very many comparisons(or shifts), since the list has been pre-sorted by earlier incremental insertion sorts. \n",
    "    * In other words, each pass produces a list that is **more sorted** than the previous one. This makes the final pass very efficient. \n",
    "* The running time of shell sort falls somewhere between $$O(n)$$ and $$O(n^2)$$.\n"
   ]
  },
  {
   "cell_type": "code",
   "execution_count": 23,
   "metadata": {
    "collapsed": false
   },
   "outputs": [
    {
     "name": "stdout",
     "output_type": "stream",
     "text": [
      "After increments of size 4 The list is [20, 26, 55, 17, 54, 31, 93, 44, 77]\n",
      "After increments of size 2 The list is [20, 93, 54, 26, 55, 31, 77, 44, 17]\n",
      "After increments of size 1 The list is [17, 20, 26, 31, 44, 54, 55, 77, 93]\n",
      "[17, 20, 26, 31, 44, 54, 55, 77, 93]\n"
     ]
    }
   ],
   "source": [
    "# Shell Sort Algorithm\n",
    "def shellSort(alist):\n",
    "    sublistcount = len(alist)//2\n",
    "    while sublistcount > 0:\n",
    "        \n",
    "        for startposition in range(sublistcount):\n",
    "            gapInsertionSort(alist,startposition,sublistcount)\n",
    "        \n",
    "        print(\"After increments of size\", sublistcount, \"The list is\", alist)\n",
    "        \n",
    "        sublistcount = sublistcount//2\n",
    "        \n",
    "def gapInsertionSort(alist,start,gap):\n",
    "    for i in range(start+gap,len(alist),gap):\n",
    "        currenvalue = alist[i]\n",
    "        position = i\n",
    "        \n",
    "        while position > 0 and alist[position-gap] > currenvalue:\n",
    "            alist[position]=alist[position-gap]\n",
    "            position=position-gap\n",
    "        \n",
    "        alist[position]=currenvalue\n",
    "\n",
    "alist = [54,26,93,17,77,31,44,55,20]\n",
    "shellSort(alist)\n",
    "print(alist)"
   ]
  },
  {
   "cell_type": "markdown",
   "metadata": {},
   "source": [
    "## The Merge Sort\n",
    "\n",
    "* Merge sort uses **divide and conquer** strategy for sorting items.\n",
    "* Merge sort is a **recursive algorithm** that continually splits a list in half.\n",
    "* If the list is empty or has one item, it is sorted (**base case**)\n",
    "* If the list is more than one item, we **split the list** and **recursively invoke** a merge sort on both halves. \n",
    "* Once the two halves are sorted, the fundamental operation, called a **merge** is performed. \n",
    "* **Merging** is the process of taking two smaller sorted lists and combining them together into a single sorted list. "
   ]
  },
  {
   "cell_type": "code",
   "execution_count": 24,
   "metadata": {
    "collapsed": false
   },
   "outputs": [
    {
     "name": "stdout",
     "output_type": "stream",
     "text": [
      "Splitting  [54, 26, 93, 17, 77, 31, 44, 55, 20]\n",
      "Splitting  [54, 26, 93, 17]\n",
      "Splitting  [54, 26]\n",
      "Splitting  [54]\n",
      "Merging  [54]\n",
      "Splitting  [26]\n",
      "Merging  [26]\n",
      "Merging  [26, 54]\n",
      "Splitting  [93, 17]\n",
      "Splitting  [93]\n",
      "Merging  [93]\n",
      "Splitting  [17]\n",
      "Merging  [17]\n",
      "Merging  [17, 93]\n",
      "Merging  [17, 26, 54, 93]\n",
      "Splitting  [77, 31, 44, 55, 20]\n",
      "Splitting  [77, 31]\n",
      "Splitting  [77]\n",
      "Merging  [77]\n",
      "Splitting  [31]\n",
      "Merging  [31]\n",
      "Merging  [31, 77]\n",
      "Splitting  [44, 55, 20]\n",
      "Splitting  [44]\n",
      "Merging  [44]\n",
      "Splitting  [55, 20]\n",
      "Splitting  [55]\n",
      "Merging  [55]\n",
      "Splitting  [20]\n",
      "Merging  [20]\n",
      "Merging  [20, 55]\n",
      "Merging  [20, 44, 55]\n",
      "Merging  [20, 31, 44, 55, 77]\n",
      "Merging  [17, 20, 26, 31, 44, 54, 55, 77, 93]\n",
      "[17, 20, 26, 31, 44, 54, 55, 77, 93]\n"
     ]
    }
   ],
   "source": [
    "# Merge Sort\n",
    "def mergeSort(alist):\n",
    "    print(\"Splitting \",alist)\n",
    "\n",
    "    if len(alist) > 1:              # Base Case\n",
    "        mid = len(alist)//2\n",
    "        lefthalf = alist[:mid]\n",
    "        righthalf = alist[mid:]\n",
    "        \n",
    "        mergeSort(lefthalf)\n",
    "        mergeSort(righthalf)\n",
    "        \n",
    "        i=0\n",
    "        j=0\n",
    "        k=0\n",
    "        while i < len(lefthalf) and j < len(righthalf):\n",
    "            if lefthalf[i] < righthalf[j]:\n",
    "                alist[k] = lefthalf[i]\n",
    "                i=i+1\n",
    "            else:\n",
    "                alist[k] = righthalf[j]\n",
    "                j=j+1\n",
    "            k=k+1\n",
    "        \n",
    "        while i < len(lefthalf):\n",
    "            alist[k] = lefthalf[i]\n",
    "            i=i+1\n",
    "            k=k+1\n",
    "            \n",
    "        while j < len(righthalf):\n",
    "            alist[k] = righthalf[j]\n",
    "            j=j+1\n",
    "            k=k+1\n",
    "        \n",
    "    print(\"Merging \", alist)\n",
    "\n",
    "alist = [54,26,93,17,77,31,44,55,20]\n",
    "mergeSort(alist)\n",
    "print(alist)"
   ]
  },
  {
   "cell_type": "markdown",
   "metadata": {},
   "source": [
    "### Analyze Merge Sort\n",
    "\n",
    "* Two distinct functions make up the implementation of **merge sort**:\n",
    "    * First, the list is **split** into halves. We can divide the list in half **log(n)** times, where **n** is the length of the list.\n",
    "    * Second, process is to **merge** items in the lists. Each item in the list will eventually be processed and placed on the **sorted list**. So the merge operation which results in a list of size **n** requires **n operations**. \n",
    "* Thus the result of this analysis is that **log(n) splits**, each of which costs **n** for a total of **nlog(n)**.\n",
    "* A **merge sort** is an **O(nlog(n)) algorithm**\n",
    "* <font color='red'>Note: mergeSort function requires extra space to hold the two halves as they are extracted with the slicing operations. This additional space can be a critical factor if the list is large and can make this sort problematic when working on large data sets.</font>"
   ]
  },
  {
   "cell_type": "markdown",
   "metadata": {},
   "source": [
    "## The Quick Sort\n",
    "\n",
    "* The **quick sort** uses **divide and conquer** to gain the same advantage as the merge sort, while **not using additional storage**.\n",
    "    * <font color='red'>Disadvantage: If the list is not divided in half, we will see that the performance is diminished</font>\n",
    "* A quick sort first selects a value, which is called the **pivot value**.  Although there are many ways to choose the pivot value, we will simply use the **first item in the list**. \n",
    "* Role of the pivot value is to assist with spliting the list.\n",
    "* The actual position where the pivot value belongs in the final sorted list, commonly called the **split point**, will be used to divide the list for subsequent calls to the quick sort. \n",
    "* After choosing the pivot value, **partition** process will happen next. Pivot value will help in finding the split point and at the same time move other items to the appropriate side of the list, either less than or greater than the pivot value.\n",
    "* Partitioning begins by locating **two position markers**. The **leftmark** and **rightmark** and the begining and end of the remaining items (excluding pivot value) in the list.\n",
    "* **Goal of the partition process** is to move items that are on the wrong side with respect to the pivot value while also, **converging on the split point**. \n",
    "    * We begin by incrementing **leftmark** until we locate a value that is greater than the pivot value. \n",
    "    * We then decrement **rightmark** until we find a value that is less than the pivot value. \n",
    "    * At this point we have discovered two items that are out of place with respect to the eventual split point. \n",
    "    * Now we can **exchange** these two items and then repeat the process again.\n",
    "    * At the point where **rightmark** becomes less than **leftmark**, we stop. The position of the **rightmark is the split point**.\n",
    "    * The **pivot value** can be **exchanged** with the contents of the **split point** and the pivot value is now in place. \n",
    "    * The list can now be divided at the split point and the quick sort can be invoked **recursively** on the two hlaves. "
   ]
  },
  {
   "cell_type": "code",
   "execution_count": 25,
   "metadata": {
    "collapsed": false
   },
   "outputs": [
    {
     "name": "stdout",
     "output_type": "stream",
     "text": [
      "[17, 20, 26, 31, 44, 54, 55, 77, 93]\n"
     ]
    }
   ],
   "source": [
    "# The Quick Sort algorithm\n",
    "def quickSort(alist):\n",
    "    quickSortHelper(alist,0,len(alist)-1)\n",
    "\n",
    "def quickSortHelper(alist,first,last):\n",
    "    if first < last:\n",
    "        splitpoint = partition(alist,first,last)\n",
    "        \n",
    "        quickSortHelper(alist,first,splitpoint-1)\n",
    "        quickSortHelper(alist,splitpoint+1,last)\n",
    "\n",
    "def partition(alist, first, last):\n",
    "    pivotvalue = alist[first]\n",
    "    leftmark = first+1\n",
    "    rightmark = last\n",
    "    \n",
    "    done = False\n",
    "    while not done:\n",
    "        while alist[leftmark] <= pivotvalue and leftmark <= rightmark:\n",
    "            leftmark = leftmark+1\n",
    "\n",
    "        while alist[rightmark] >= pivotvalue and rightmark >= leftmark:\n",
    "            rightmark = rightmark-1\n",
    "\n",
    "        if rightmark < leftmark:\n",
    "            done = True\n",
    "        else:\n",
    "            alist[leftmark],alist[rightmark]=alist[rightmark],alist[leftmark]\n",
    "        \n",
    "    alist[first],alist[rightmark]=alist[rightmark],alist[first]\n",
    "    \n",
    "    return rightmark\n",
    "\n",
    "alist = [54,26,93,17,77,31,44,55,20]\n",
    "quickSort(alist)\n",
    "print(alist)\n",
    "    \n",
    "    \n",
    "    "
   ]
  },
  {
   "cell_type": "markdown",
   "metadata": {},
   "source": [
    "### Analyze Quick Sort\n",
    "\n",
    "* For a list of length **n**, if the partition always occurs in the **middle** of the list, there will be **log(n)** divisions. \n",
    "* In order to find the **split point**, each of the **n** items needs to be checked against the pivot value. The result is **nlog(n)**.\n",
    "* **Advantage over merge sort**: no additional memory needed.\n",
    "* Unfortunately, in the **worst case**, the split point may not be in the middle and can be very skewed to the left or the right, leaving a very uneven division. In this case the result is an **$$O(n^2)$$** sort with all the overhead that recursion requires.\n",
    "* To alleviate the potential of **uneven division**, we can use a technique call **median of three**. To choose the **pivot value**, we can consider the **first, middle and last** elements in the list. "
   ]
  },
  {
   "cell_type": "markdown",
   "metadata": {},
   "source": [
    "## Summary\n",
    "\n",
    "* A bubble sort, a selection sort, and an insertion sort are $$O(n^2)$$ algorithms.\n",
    "* A shell sort improves on the insertion sort by sorting incremental sublists. It falls between $$O(n)$$ and $$O(n^2)$$.\n",
    "* A merge sort is $$O(nlogn)$$, but requires additional space for the merging process.\n",
    "* A quick sort is $$O(nlogn)$$, but may degrade to $$O(n^2)$$ if the split points are not near the middle of the list. It does not require additional space."
   ]
  }
 ],
 "metadata": {
  "anaconda-cloud": {},
  "kernelspec": {
   "display_name": "Python [default]",
   "language": "python",
   "name": "python3"
  },
  "language_info": {
   "codemirror_mode": {
    "name": "ipython",
    "version": 3
   },
   "file_extension": ".py",
   "mimetype": "text/x-python",
   "name": "python",
   "nbconvert_exporter": "python",
   "pygments_lexer": "ipython3",
   "version": "3.5.2"
  }
 },
 "nbformat": 4,
 "nbformat_minor": 1
}
