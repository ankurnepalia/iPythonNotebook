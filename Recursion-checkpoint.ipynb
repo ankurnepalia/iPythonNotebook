{
 "cells": [
  {
   "cell_type": "code",
   "execution_count": 88,
   "metadata": {
    "collapsed": false
   },
   "outputs": [
    {
     "data": {
      "application/javascript": [
       "IPython.notebook.set_autosave_interval(0)"
      ]
     },
     "metadata": {},
     "output_type": "display_data"
    },
    {
     "name": "stdout",
     "output_type": "stream",
     "text": [
      "Autosave disabled\n"
     ]
    }
   ],
   "source": [
    "%autosave 0"
   ]
  },
  {
   "cell_type": "markdown",
   "metadata": {},
   "source": [
    "## Objectives\n",
    "\n",
    "* To understand that complex problems that may otherwise be difficult to solve may have a simple recursive solution\n",
    "* To learn how to formulate programs recursively\n",
    "* To understand and apply the three laws of recursion\n",
    "* To understand recursion as a form of iteration\n",
    "* To implement the recursive formulation of a problem\n",
    "* To understand how recursion is implemented by a computer system."
   ]
  },
  {
   "cell_type": "markdown",
   "metadata": {},
   "source": [
    "## What is Recursion?\n",
    "\n",
    "* **Recursion** is a method of solving problems that involves breaking a problem down into smaller and smaller subproblems until you get to a small enough problem that it can be solved trivially.\n",
    "* Usually recursion involves a function calling itself.\n",
    "* Recursion allows us to write elegant solutions to problems that may otherwise be very difficult to program."
   ]
  },
  {
   "cell_type": "code",
   "execution_count": 89,
   "metadata": {
    "collapsed": false
   },
   "outputs": [
    {
     "name": "stdout",
     "output_type": "stream",
     "text": [
      "25\n"
     ]
    }
   ],
   "source": [
    "# Calculating the sum of a list of numbers (iterative method)\n",
    "def listsum(numList):\n",
    "    sum=0\n",
    "    \n",
    "    for i in numList:\n",
    "        sum = sum + i\n",
    "    return sum\n",
    "\n",
    "print(listsum([1,3,5,7,9]))"
   ]
  },
  {
   "cell_type": "code",
   "execution_count": 90,
   "metadata": {
    "collapsed": false
   },
   "outputs": [
    {
     "name": "stdout",
     "output_type": "stream",
     "text": [
      "25\n"
     ]
    }
   ],
   "source": [
    "# Calculating the sum of a list of numbers (recursive method)\n",
    "def listsum(numList):\n",
    "    if len(numList) == 1:\n",
    "        return numList[0]\n",
    "    else:\n",
    "        return numList[0] + listsum(numList[1:])\n",
    "\n",
    "print(listsum([1,3,5,7,9]))"
   ]
  },
  {
   "cell_type": "markdown",
   "metadata": {},
   "source": [
    "### The 3 Laws of Recursion\n",
    "\n",
    "1. A recursive algorithm must have a **base case**\n",
    "2. A recursive algorithm must **change its state** and move towards the base case.\n",
    "3. A recursive algorithm must **call iteself**, recursively.\n",
    "\n",
    "A **base case** is the condition that allows the algorithm to stop recursing.\n",
    "A **change of state** means that some data that the algorithm is using is modified. "
   ]
  },
  {
   "cell_type": "markdown",
   "metadata": {},
   "source": [
    "### Converting an Integer to a string in any base\n",
    "\n",
    "* Recursive formulation of this problem is very elegant\n",
    "* Example: Using base **10** and the number __769__. It is easy to convert a number less than 10 to its string equivalent by looking it up in a sequence like __convString=\"0123456789\"__. For eg. if the number is **9**, then the string is **convString[9]** or __\"9\"__.\n",
    "* If we can arrange to break up the number __769__ into three single-digit numbers, 7, 6, and 9, then converting it to a string is simple. \n",
    "* Knowing what our base is suggests that the overall algorithm will involve three components:\n",
    "    * Reduce the original number to a series of single-digit numbers.\n",
    "    * Convert the single digit-number to a string using a lookup.\n",
    "    * Concatenate the single-digit strings together to form the final result.\n",
    "* The **next step** is to figure out **how to change state** and make progress towards the base case. Using integer division to divide 769 by 10, we get 76 with a remainder 9. This gives us two good results. \n",
    "    * First, the remainder is a number less than our base that can be converted to string immediately by lookup.\n",
    "    * Second, we get a number that is smaller than our original and moves us towards the base case of having a single number less than our base. \n",
    "\n"
   ]
  },
  {
   "cell_type": "code",
   "execution_count": 91,
   "metadata": {
    "collapsed": false
   },
   "outputs": [
    {
     "name": "stdout",
     "output_type": "stream",
     "text": [
      "967\n",
      "DA5\n",
      "0101\n"
     ]
    }
   ],
   "source": [
    "# Recursively converting from integer to string\n",
    "def toStr(n, base):\n",
    "    convertString = \"0123456789ABCDEF\"\n",
    "    if n < base:\n",
    "        return convertString[n]\n",
    "    else:\n",
    "        return  convertString[n%base] + toStr(n//base,base)\n",
    "\n",
    "print(toStr(769,10))\n",
    "print(toStr(1453,16))\n",
    "print(toStr(10,2))"
   ]
  },
  {
   "cell_type": "code",
   "execution_count": 92,
   "metadata": {
    "collapsed": false
   },
   "outputs": [
    {
     "name": "stdout",
     "output_type": "stream",
     "text": [
      "False\n"
     ]
    }
   ],
   "source": [
    "# Write a function that checks strings for palindrome's. \n",
    "def palindrome(astring):\n",
    "    astring = astring.replace(\" \",\"\")\n",
    "    astring = astring.lower()\n",
    "    ispalindrome = False\n",
    "    length = len(astring)\n",
    "    if length <= 2 and astring[0] == astring[length-1]:\n",
    "        ispalindrome = True\n",
    "        return ispalindrome\n",
    "    else: \n",
    "        if astring[0] == astring[length-1]:\n",
    "            astring = astring[1:-1]\n",
    "            return palindrome(astring)\n",
    "        else:\n",
    "            ispalindrome = False\n",
    "            return ispalindrome\n",
    "\n",
    "\n",
    "print(palindrome(\"lb\"))"
   ]
  },
  {
   "cell_type": "code",
   "execution_count": 93,
   "metadata": {
    "collapsed": false
   },
   "outputs": [
    {
     "name": "stdout",
     "output_type": "stream",
     "text": [
      "Livenotonevil\n"
     ]
    }
   ],
   "source": [
    "astring = \"Live not on evil\"\n",
    "print(astring.replace(\" \",\"\"))"
   ]
  },
  {
   "cell_type": "markdown",
   "metadata": {},
   "source": [
    "### Stack Frames: Implementing Recursion\n",
    "\n",
    "Slight modification in the above code for **Converting an integer to a string**, by pushing the strings onto a **stack** prior to making the recursive call."
   ]
  },
  {
   "cell_type": "code",
   "execution_count": 1,
   "metadata": {
    "collapsed": false
   },
   "outputs": [
    {
     "name": "stdout",
     "output_type": "stream",
     "text": [
      "5AD\n",
      "1010\n"
     ]
    }
   ],
   "source": [
    "# Converting an integer to a String using a Stack\n",
    "from pythonds.basic.stack import Stack\n",
    "\n",
    "rStack = Stack()\n",
    "\n",
    "def toStr(n, base):\n",
    "    convertString = \"0123456789ABCDEF\"\n",
    "    while n > 0:\n",
    "        if n < base:\n",
    "            rStack.push(convertString[n])\n",
    "        else:\n",
    "            rStack.push(convertString[n % base])\n",
    "        n = n//base\n",
    "    result = \"\"\n",
    "    while not rStack.isEmpty():\n",
    "        result = result + str(rStack.pop())\n",
    "    return result\n",
    "\n",
    "print(toStr(1453,16))\n",
    "print(toStr(10,2))"
   ]
  },
  {
   "cell_type": "markdown",
   "metadata": {},
   "source": [
    "Above example shows how Python implements a recursive function call. When a function is called in Python, a **stack frame** is allocated to handle the local variables of the function. When the function returns, the return value is left on top of the stack for the calling function to access. \n",
    "\n",
    "The stack frames also provide a **scope** for the variables used by the function. Even though we are calling the same function over and over, each call creates a new scope for the variables that are local to the function."
   ]
  },
  {
   "cell_type": "markdown",
   "metadata": {},
   "source": [
    "### Visualizing Recursion:\n",
    "\n"
   ]
  },
  {
   "cell_type": "code",
   "execution_count": 2,
   "metadata": {
    "collapsed": false
   },
   "outputs": [],
   "source": [
    "import turtle\n",
    "\n",
    "myTurtle = turtle.Turtle()\n",
    "myWin = turtle.Screen()\n",
    "\n",
    "def drawSpiral(myTurtle, lineLen):\n",
    "    if lineLen > 0:\n",
    "        myTurtle.forward(lineLen)\n",
    "        myTurtle.right(90)\n",
    "        drawSpiral(myTurtle,lineLen-5)\n",
    "\n",
    "drawSpiral(myTurtle,100)\n",
    "myWin.exitonclick()"
   ]
  },
  {
   "cell_type": "markdown",
   "metadata": {},
   "source": [
    "### Sierpinski Triangle\n"
   ]
  },
  {
   "cell_type": "code",
   "execution_count": 1,
   "metadata": {
    "collapsed": true
   },
   "outputs": [],
   "source": [
    "import turtle\n",
    "\n",
    "def drawTriangle(points,color,myTurtle):\n",
    "    myTurtle.fillcolor(color)\n",
    "    myTurtle.up()\n",
    "    myTurtle.goto(points[0][0],points[0][1])\n",
    "    myTurtle.down()\n",
    "    myTurtle.begin_fill()\n",
    "    myTurtle.goto(points[1][0],points[1][1])\n",
    "    myTurtle.goto(points[2][0],points[2][1])\n",
    "    myTurtle.goto(points[0][0],points[0][1])\n",
    "    myTurtle.end_fill()\n",
    "\n",
    "def getMid(p1,p2):\n",
    "    return ( (p1[0]+p2[0]) / 2, (p1[1] + p2[1]) / 2)\n",
    "\n",
    "def sierpinski(points,degree,myTurtle):\n",
    "    colormap = ['blue','red','green','white','yellow',\n",
    "                'violet','orange']\n",
    "    drawTriangle(points,colormap[degree],myTurtle)\n",
    "    if degree > 0:\n",
    "        sierpinski([points[0],\n",
    "                        getMid(points[0], points[1]),\n",
    "                        getMid(points[0], points[2])],\n",
    "                   degree-1, myTurtle)\n",
    "        sierpinski([points[1],\n",
    "                        getMid(points[0], points[1]),\n",
    "                        getMid(points[1], points[2])],\n",
    "                   degree-1, myTurtle)\n",
    "        sierpinski([points[2],\n",
    "                        getMid(points[2], points[1]),\n",
    "                        getMid(points[0], points[2])],\n",
    "                   degree-1, myTurtle)\n",
    "\n",
    "def main():\n",
    "   myTurtle = turtle.Turtle()\n",
    "   myWin = turtle.Screen()\n",
    "   myPoints = [[-100,-50],[0,100],[100,-50]]\n",
    "   sierpinski(myPoints,3,myTurtle)\n",
    "   myWin.exitonclick()\n",
    "\n",
    "main()\n"
   ]
  },
  {
   "cell_type": "markdown",
   "metadata": {},
   "source": [
    "### Tower of Hanoi\n",
    "\n",
    "* The number of moves required to correctly move a tower of 64 disks is **2^64-1 = 18,446,744,073,709,551,615** \n",
    "* Here is a high-level outline of how to move a tower from the starting pole, to the goal pole, using the intermediate pole:\n",
    "    1. Move a tower of height-1 to an intermediate pole, using the final pole. \n",
    "    2. Move the remaining disk to the final pole.\n",
    "    3. Move the tower of height-1 from the intermediate pole to the final pole using the original pole. \n",
    "\n",
    "The simplest Tower of Hanoi problem is a tower of one disk. In this case, we need to move only a single disk to its final destination. **A tower of one disk will be our base case**.\n",
    "\n",
    "The steps outlined above move us towards the base case by reducing the height of the tower in steps 1 and 3.\n"
   ]
  },
  {
   "cell_type": "code",
   "execution_count": 4,
   "metadata": {
    "collapsed": false
   },
   "outputs": [
    {
     "name": "stdout",
     "output_type": "stream",
     "text": [
      "moving disk from  A to  B\n",
      "moving disk from  A to  C\n",
      "moving disk from  B to  C\n",
      "moving disk from  A to  B\n",
      "moving disk from  C to  A\n",
      "moving disk from  C to  B\n",
      "moving disk from  A to  B\n"
     ]
    }
   ],
   "source": [
    "# Solving Tower of Hanoi Recursively\n",
    "def moveTower(height, fromPole, toPole, withPole):\n",
    "    if height >= 1:\n",
    "        moveTower(height-1, fromPole, withPole, toPole)\n",
    "        moveDisk(fromPole, toPole)\n",
    "        moveTower(height-1, withPole, toPole, fromPole)\n",
    "\n",
    "def moveDisk(fp,tp):\n",
    "    print(\"moving disk from \",fp,\"to \", tp)\n",
    "\n",
    "moveTower(3, \"A\", \"B\", \"C\")"
   ]
  },
  {
   "cell_type": "markdown",
   "metadata": {},
   "source": [
    "### Dynamic Programming\n",
    "\n",
    "* Many programs in computer science are written to optimize some value.\n",
    "* **Dynamic programming** is one strategy for these types of optimizatoin problems, for example:\n",
    "    * Find the shortest path between two points\n",
    "    * Find the line that best fits a set of points.\n",
    "    * Find the smallest set of objects that satisfies some criteria.\n",
    "\n",
    "* A classic example of an optimization problem involves **making change using the fewest coins**. \n",
    "    * Suppose you are a programmer for a vending machine manufacturer. Your company wants to streamline effort by giving out the fewest possible coins in change for each transaction. Suppose a customer puts in a dollar bill and purchases an item for 37 cents. What is the smallest number of coins you can use to make change? The answer is six coins: two quarters, one dime, and three pennies. \n",
    "    * How did we arrive at the answer of six coins? We start with the largest coin in our arsenal (a quarter) and use as many of those as possible, then we go to the next lowest coin value and use as many of those as possible. This first approach is called a **greedy method** because we try to solve as big a piece of the problem as possible.\n",
    "    * Optimizing this solution using **Recursion**\n",
    "        * **Base Case**: If we are trying to make change for the same amount as the value of one of our coins, the answer is easy, **one coin**.\n",
    "        * If the change is different from coin value list, we want to find the miniumum of a penny + the number of coins needed to make change for the now reduced change amount of (originalchange - penny).\n",
    "        * numCoins = min(1 + numCoins(originalchange - 1)\n",
    "        * numCoins = min(1 + numCoins(originalchange - 5)\n",
    "        * numCoins = min(1 + numCoins(originalchange - 10)\n",
    "        * numCoins = min(1 + numCoins(originalchange - 25)\n"
   ]
  },
  {
   "cell_type": "code",
   "execution_count": 6,
   "metadata": {
    "collapsed": false
   },
   "outputs": [
    {
     "name": "stdout",
     "output_type": "stream",
     "text": [
      "6\n",
      "4\n"
     ]
    }
   ],
   "source": [
    "# Recursively counting coins with table lookup\n",
    "def recDC(coinValueList, change, knownResults):\n",
    "    minCoins = change\n",
    "    if change in coinValueList:\n",
    "        knownResults[change] = 1\n",
    "        return 1\n",
    "    elif knownResults[change] > 0:\n",
    "        return knownResults[change]\n",
    "    else:\n",
    "        for i in [c for c in coinValueList if c <= change]:\n",
    "            numCoins = 1 + recDC(coinValueList, change-i, knownResults)\n",
    "            \n",
    "            if numCoins < minCoins:\n",
    "                minCoins = numCoins\n",
    "                knownResults[change] = minCoins\n",
    "    return minCoins\n",
    "\n",
    "print(recDC([1,5,10,25], 63, [0]*64))\n",
    "print(recDC([1,5,10,25], 17, [0]*64))"
   ]
  },
  {
   "cell_type": "markdown",
   "metadata": {},
   "source": [
    "* A truly Dynamic Programming algorithm will take a more systematic approach to the problem.\n",
    "* This solution is going to start with making change for one cent and systematically work its way up to the amount of change we require. \n",
    "* This guarantees us that at each step of the algorithm we already know the minimum number of coins needed to make change for any smaller amount. \n"
   ]
  },
  {
   "cell_type": "code",
   "execution_count": null,
   "metadata": {
    "collapsed": true
   },
   "outputs": [],
   "source": []
  }
 ],
 "metadata": {
  "anaconda-cloud": {},
  "kernelspec": {
   "display_name": "Python [default]",
   "language": "python",
   "name": "python3"
  },
  "language_info": {
   "codemirror_mode": {
    "name": "ipython",
    "version": 3
   },
   "file_extension": ".py",
   "mimetype": "text/x-python",
   "name": "python",
   "nbconvert_exporter": "python",
   "pygments_lexer": "ipython3",
   "version": "3.5.2"
  }
 },
 "nbformat": 4,
 "nbformat_minor": 1
}
