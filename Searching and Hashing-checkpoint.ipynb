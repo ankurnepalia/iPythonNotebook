{
 "cells": [
  {
   "cell_type": "code",
   "execution_count": 68,
   "metadata": {
    "collapsed": false
   },
   "outputs": [
    {
     "data": {
      "application/javascript": [
       "IPython.notebook.set_autosave_interval(0)"
      ]
     },
     "metadata": {},
     "output_type": "display_data"
    },
    {
     "name": "stdout",
     "output_type": "stream",
     "text": [
      "Autosave disabled\n"
     ]
    }
   ],
   "source": [
    "%autosave 0"
   ]
  },
  {
   "cell_type": "markdown",
   "metadata": {},
   "source": [
    "## Searching and Hashing\n",
    "\n",
    "**Objective**\n",
    "* Explain and implement sequential search and binary search\n",
    "* Understand the idea of hashing as a search technique\n",
    "* Introduce the map abstract data type\n",
    "* Implement map abstract data type using hashing\n",
    "\n"
   ]
  },
  {
   "cell_type": "markdown",
   "metadata": {},
   "source": [
    "### Searching\n",
    "\n",
    "**Searching** is the algorithmic process of finding a particular item in a collection of items. A search typically answers either *True* or *False* as to whether the item is present in a collection. \n",
    "\n",
    "In Python, there is a very easy way to ask whether an item is in a list of items. We use the **in** operator. "
   ]
  },
  {
   "cell_type": "code",
   "execution_count": 47,
   "metadata": {
    "collapsed": false
   },
   "outputs": [
    {
     "data": {
      "text/plain": [
       "True"
      ]
     },
     "execution_count": 47,
     "metadata": {},
     "output_type": "execute_result"
    }
   ],
   "source": [
    "15 in [2, 12, 15, 31, 5]\n"
   ]
  },
  {
   "cell_type": "markdown",
   "metadata": {},
   "source": [
    "## The Sequential Search\n",
    "\n",
    "* When data items are stored in a collection of list, we say that they have a linear or sequential relationship. \n",
    "* Each data item is stored in a position relative to the other. In Python lists, these **relative positions** are the **index values** of the individual items. \n",
    "* Since these *index values* are *ordered*, it is possible to visit them in sequence. This process gives rise to our first searching technique, the **sequential search**.\n",
    "\n",
    "**How sequential search works**: Starting at the first item in the list, we simply move from item to item, following the underlying sequential ordering until we either find what we were looking for or run out of items. If we run out of items, we discovered that search item was not present in the list collection.\n",
    "\n"
   ]
  },
  {
   "cell_type": "code",
   "execution_count": 48,
   "metadata": {
    "collapsed": false
   },
   "outputs": [
    {
     "name": "stdout",
     "output_type": "stream",
     "text": [
      "True\n",
      "False\n"
     ]
    }
   ],
   "source": [
    "# Sequential Search Implementation\n",
    "def sequentialSearch(alist, item):\n",
    "    pos=0\n",
    "    found=False\n",
    "    \n",
    "    while pos < len(alist) and not found:\n",
    "        if alist[pos] == item:\n",
    "            found = True\n",
    "        else:\n",
    "            pos = pos + 1\n",
    "    \n",
    "    return found\n",
    "\n",
    "testlist = [2, 10, 43, 12, 44, 34, 94, 23, 59]\n",
    "print(sequentialSearch(testlist, 34))\n",
    "print(sequentialSearch(testlist, 80))"
   ]
  },
  {
   "cell_type": "markdown",
   "metadata": {},
   "source": [
    "### Analyze Sequential Search\n",
    "\n",
    "* For searching, the **basic unit of computation** is the number of comparisons performed. \n",
    "* Another assumption is that the list of items is **not ordered**. In other words, the probability that the item we are looking for is in any particular position is exactly the same for each position of the list.\n",
    "* **If the item is present**: *Best Case*: **1**; *Worst Case*: **O(n)**; *Average Case*: **O(n/2)**\n",
    "* **If the item NOT present**: *Best Case*: **O(n)**; *Worst Case*: **O(n)**; *Average Case*: **O(n)**\n"
   ]
  },
  {
   "cell_type": "code",
   "execution_count": 49,
   "metadata": {
    "collapsed": false
   },
   "outputs": [
    {
     "name": "stdout",
     "output_type": "stream",
     "text": [
      "False\n",
      "True\n"
     ]
    }
   ],
   "source": [
    "# Sequential Search for ordered list\n",
    "def orderedSequentialSearch(alist, item):\n",
    "    pos=0\n",
    "    found=False\n",
    "    stopSearch=False\n",
    "    \n",
    "    while pos < len(alist) and not found and not stopSearch:\n",
    "        if alist[pos] == item:\n",
    "            found = True\n",
    "        else:\n",
    "            if alist[pos] > item:\n",
    "                stopSearch=True\n",
    "            else:\n",
    "                pos = pos + 1\n",
    "    \n",
    "    return found\n",
    "\n",
    "testlist = [0, 1, 2, 8, 13, 17, 19, 32, 42,]\n",
    "print(orderedSequentialSearch(testlist, 3))\n",
    "print(orderedSequentialSearch(testlist, 13))"
   ]
  },
  {
   "cell_type": "markdown",
   "metadata": {},
   "source": [
    "A sequential search is improved by ordering the list only in the case where we do not find the item.\n",
    "* If the item NOT present: Best Case: 1; Worst Case: O(n); Average Case: O(n/2)"
   ]
  },
  {
   "cell_type": "markdown",
   "metadata": {},
   "source": [
    "## The Binary Search\n",
    "\n",
    "* It is possible to take greater advantage of the ordered list if we are clever with our comparisons. \n",
    "\n",
    "* Instead of searching the list in sequence, a **binary search** will start by examining the **middle item**. If that item is the one we are searching for, we are done. If it is **not the correct item**, we can use the ordered nature of the list to **eliminate half of the remaining items** by either choosing **lower half of the list** or **uppper half of the list** based on the value of the search item being less than or greater than the middle value respectively. Keep repeating this process until we find the item or the list is exhausted.\n",
    "* This algorithm is a great example of a **divide and conquer** strategy. We divide the problem into smaller pieces, solve the smaller pieces, and then reassemble the whole problem to get result.\n"
   ]
  },
  {
   "cell_type": "code",
   "execution_count": 50,
   "metadata": {
    "collapsed": true
   },
   "outputs": [],
   "source": [
    "def binarySearch(alist, item):\n",
    "    first=0\n",
    "    last=len(alist)-1\n",
    "    found=False\n",
    "    \n",
    "    while first <= last and not found:\n",
    "        midpoint = (first + last)//2\n",
    "        if alist[midpoint] == item:\n",
    "            found = True\n",
    "        else:\n",
    "            if alist[midpoint] > item:\n",
    "                last = midpoint-1\n",
    "            else:\n",
    "                first = midpoint+1\n",
    "    \n",
    "    return found\n",
    "\n"
   ]
  },
  {
   "cell_type": "code",
   "execution_count": 51,
   "metadata": {
    "collapsed": false
   },
   "outputs": [
    {
     "name": "stdout",
     "output_type": "stream",
     "text": [
      "False\n",
      "True\n"
     ]
    }
   ],
   "source": [
    "testlist = [0, 1, 2, 8, 13, 17, 19, 32, 42,]\n",
    "print(binarySearch(testlist, 3))\n",
    "print(binarySearch(testlist, 13))"
   ]
  },
  {
   "cell_type": "markdown",
   "metadata": {},
   "source": [
    "**Binary Search Algorithm**: First check the middle item in the ordered list. If the item we are searching is **less than** the middle item, we can simply perform a binary search on the left half of the original list. Likewise, if the item is **greater than** the middle item, we can perform binary search on the right half of the original list.Either way, this is a **recursive call** to the binary search function passing a smaller list."
   ]
  },
  {
   "cell_type": "code",
   "execution_count": 52,
   "metadata": {
    "collapsed": false
   },
   "outputs": [
    {
     "name": "stdout",
     "output_type": "stream",
     "text": [
      "True\n",
      "False\n"
     ]
    }
   ],
   "source": [
    "# Recursive implementation of Binary Search\n",
    "def recursiveBinarySearch(alist, item):\n",
    "    if len(alist) == 0:\n",
    "        return False\n",
    "    else:\n",
    "        midpoint = len(alist)//2\n",
    "        if alist[midpoint] == item:\n",
    "            return True\n",
    "        else:\n",
    "            if item < alist[midpoint]:\n",
    "                return recursiveBinarySearch(alist[:midpoint], item)\n",
    "            else:\n",
    "                return recursiveBinarySearch(alist[midpoint+1:], item)\n",
    "\n",
    "testlist = [3, 5, 6, 8, 11, 12, 14, 15, 17, 18]\n",
    "print(recursiveBinarySearch(testlist, 8))\n",
    "print(recursiveBinarySearch(testlist, 13))\n",
    "    "
   ]
  },
  {
   "cell_type": "markdown",
   "metadata": {},
   "source": [
    "### Analysis of Binary Search\n",
    "\n",
    "* In Binary Search algorithm, each comparison eliminates about half of the remaining items from consideration. \n",
    "* What is the maximum number of comparisons this algorithm will require to check the entire list? \n",
    "    * Start with **n** items, after 1st comparison **n/2** items left\n",
    "    * After 2nd comparison **n/4** items will be left. Subsequently, **n/8**, **n/16**.\n",
    "    * After ith comparison, **n/2^i** items will be left.\n",
    "* When we split the list enough times, we end up with a list that has just one item left. Either that is the item we are searching for or not.\n",
    "* So after **i** comparison we have **n/2^i = 1**. Solving for **i** gives us **i = log(n)**.\n",
    "* The maximum number of comparisons is **logarithmic log(n)** with respect to the number of items in the list. Therefore, the **Binary Search** is **O(log(n))**.\n",
    "\n",
    "**Note**: The recursive call *recursiveBinarySearch(alist[:midpoint],item)*, uses the **slice operator** to create left half of the list. Here we assume that slice operation takes constant time, BUT in Python slice operators is **O(k)**\n",
    "\n",
    "* Even though binary search is better than sequential search, for small *n* values, the additonal cost of sorting is probably not worth it.\n",
    "* If we can sort once and search multiple times, then the cost of sorting is not significant.\n",
    "* For **large lists**, sorting even once can be **very expensive**, such that using sequential search from start may be a better choice."
   ]
  },
  {
   "cell_type": "markdown",
   "metadata": {},
   "source": [
    "## Hashing\n",
    "\n",
    "* **Hasing** is the concept of building a data structure that can be searched in **O(1)** time.\n",
    "* If every item is where it should be, then the search can use a single comparison to discover the presence of an item. (which is typically not the case).\n",
    "* A **hash table** is a collection of items which are stored in such a way as to make it easy to find them later.\n",
    "* Each position of the hash table, often called a **slot**, can hold an item and is named by an integer value starting at 0. \n",
    "* We can implement a hash table by using a **list** with each element initialized to the special Python value **none**.\n",
    "* The **mapping** between an **item** and the **slot** where that item belongs in the hash table is called the **hash function**.\n",
    "* A **hash function** will take any item in the collection and return an integer in the range of slot names, between **0** and **m-1**.\n",
    "* Example of a hash function can be **remainder method**, simply take an item from collection and divide it by the table size, returning the remainder as its **hash value** (h(item) = item%11).\n",
    "* This *remainder method* (modulo arithmetic) will typically be present in some form in all hash functions, since the result must be in the range of slot names.\n",
    "* **Load Factor** is commonly denoted by **lambda = numberofitems/tablesize**. \n",
    "* **Search an item**: simply use the hash function to compute the slot name for the item and then check the hash table to see if this item is present. This searching opeartion is constant time i.e. **O(1)**\n",
    "* When two or more items compute to have the same slot, we have a **collision**. "
   ]
  },
  {
   "cell_type": "markdown",
   "metadata": {},
   "source": [
    "### Hash Function\n",
    "\n",
    "* Given a collection of items, a hash function that maps each item into a **unique slot** is referred to as a **perfect hash function**. \n",
    "* Our goal is to create a hash funciton that *minimizes the number of collisions*, is *easy to compute* and *evenly distributes the items* in the hash table.\n",
    "* The **folding method** for constructing hash functions begin by dividing the item into equal-size pieces(last piece may not be of equal size). These pieces are then added together to give the resulting hash value. \n",
    "    * Example: one of item is phone number 436-555-4601\n",
    "    * Take the digits and dive them into groups of 2(43,65,55,46,01).\n",
    "    * Afer adding them, 43+65+55+46+01=210. Assume hash table of size 11. \n",
    "    * Thus, 210%11=1, so the phone number hashs to slot 1. \n",
    "* Mid-square method: We first square the item, and then extract some portion of the resulting digits.\n",
    "    * Example: if the item is *44*, we would first compute 44^2=1936. \n",
    "    * Extract the middle two digits, 93, and perform the remainder step. 93%11=5.\n",
    "* Hash functions can also be created for charcter-based items such as **strings**.\n",
    "    * Example: The word \"cat\" can be thought of as a sequence of *ordinal values*. "
   ]
  },
  {
   "cell_type": "code",
   "execution_count": 53,
   "metadata": {
    "collapsed": false
   },
   "outputs": [
    {
     "name": "stdout",
     "output_type": "stream",
     "text": [
      "99\n",
      "97\n",
      "116\n"
     ]
    }
   ],
   "source": [
    "print(ord('c'))\n",
    "print(ord('a'))\n",
    "print(ord('t'))"
   ]
  },
  {
   "cell_type": "markdown",
   "metadata": {},
   "source": [
    "* Take these three ordinal values and add them up, and use the remainder method to get a hash value. 99+97+116=312, applying remainder method, 312%11=4. \n",
    "* Thus, string 'Cat' goes in the slot 4 of the hash table. "
   ]
  },
  {
   "cell_type": "code",
   "execution_count": 54,
   "metadata": {
    "collapsed": false
   },
   "outputs": [
    {
     "name": "stdout",
     "output_type": "stream",
     "text": [
      "3\n",
      "2\n"
     ]
    }
   ],
   "source": [
    "def hash(astring, tablesize):\n",
    "    sum=0\n",
    "    for pos in range(len(astring)):\n",
    "        sum=sum+(ord(astring[pos])*(pos+1)) #(pos+1) helps solving anagrams problem\n",
    "    \n",
    "    return sum%tablesize\n",
    "\n",
    "print(hash(\"cat\", 11))\n",
    "print(hash(\"tac\", 11))"
   ]
  },
  {
   "cell_type": "markdown",
   "metadata": {},
   "source": [
    "### Collision Resolution\n",
    "\n",
    "* When two items hash to same slot, we mush have a systematic method for placing the second item in the hash table. This process is called **collision resolution**.\n",
    "* One method of collision resulution is to start at the original has value position and then move in a sequential manner through the slots until we encounter the first slot that is empty. This collision resolution process is referred to as **open addressing**. \n",
    "* By systematically visiting each slot one at a time, we are performing an open addressing technique called **linear probing**.\n",
    "* A disadvantage to linear probing is the tendency for **clustering**, items become clustered in the table. This means that if many collisions occur at the same hash value, a number of surrounding slots will be filled by the linear probing resolution. \n",
    "* **Rehasing**, is the process of looking for another slot after a collision has occured. With simple **linear probming** the rehash function is **newhashvalue = rehash(oldhashvalue)** where **rehash(pos)=(pos+1)%sizeoftable**. **Plus 3** rehash can be defined as **rehash(pos) = (pos+3)%sizeoftable**. \n",
    "* In general **rehash(pos) = (pos + skp)%sizeoftable**. It is important to note that **size of the skip** must be such that all the slots in the table will eventually be visited. To ensure this could happen, **table size be a prime number**.\n",
    "* **Quadratic Probming**: uses a skip consisting of successive **perfect squares**. Example, if the hash value is **h**, the successive hash values are **h+1, h+4, h+9, h+16 and so on**. \n",
    "* **Chaining**: Allows many items to exist at the same location in the hash table. This is by allowing each slot to hold a reference to a collection(or chain) of items.\n",
    "    * When we want to search for an item, we use the hash function to generate the slot where it should reside. Since each slot holds a collection, we use a searching technique to decide whether the item is present. \n",
    "    * The advantage is that on average there are likely to be many fewer items in each slot, so the search is perhanps more efficient. \n",
    "\n"
   ]
  },
  {
   "cell_type": "markdown",
   "metadata": {},
   "source": [
    "## Implementing the Map Abstract Data Type\n",
    "\n",
    "* **Dictionary**: One of the most useful collections in Python. Dictionary is an associative data type, where you can store **key-data** pair.\n",
    "* **key** is used to look up the **associated data value**. This idea is often referred to as **map**.\n",
    "* **map abstract data type** is defined as an unordered collection of associations between a key and a data value. **keys** in a map are all **unique** so that there is a one-to-one relationship between key and value.\n",
    "* **Map operations**:\n",
    "    * **map()** : Create a new, empty map. It returns an empty map collection\n",
    "    * **put(key,val)** : Add a new key-value pair to the map. If key already exists then replace the old value with new value.\n",
    "    * **get(key)** : Given a key, return the value stored in the map or *none* otherwise.\n",
    "    * **del** : Delete the key-value pairs stored in the map\n",
    "    * **len()** : Return the number of key-value pairs stored in the map.\n",
    "    * **in** Return *true* for a statement of the form *key in map*, if the given key is in the map, *false* otherwise."
   ]
  },
  {
   "cell_type": "code",
   "execution_count": 56,
   "metadata": {
    "collapsed": true
   },
   "outputs": [],
   "source": [
    "class HashTable:\n",
    "    def __init__(self):\n",
    "        self.size = 11\n",
    "        self.slots = [None] * self.size\n",
    "        self.data = [None] * self.size"
   ]
  },
  {
   "cell_type": "markdown",
   "metadata": {},
   "source": [
    "**hashfunction** implements the simple remainder method.\n",
    "**collision detection** technique is linear probing with a +1 rehash function."
   ]
  },
  {
   "cell_type": "code",
   "execution_count": 58,
   "metadata": {
    "collapsed": true
   },
   "outputs": [],
   "source": [
    "def put(self, key, data):\n",
    "    hashvalue = self.hashfunction(key,len(self.slots))\n",
    "    \n",
    "    if self.slots[hashvalue] == None:\n",
    "        self.slots[hashvalue] = key\n",
    "        self.data[hashvalue] = data\n",
    "    else:\n",
    "        if self.slots[hashvalue] == key:\n",
    "            self.data[hashvalue] = data #replace value\n",
    "        else:\n",
    "            nextslot = self.rehash(hashvalue,len(self.slots))\n",
    "            while self.slots[nextslot] !=None and self.slots[nextslot] != key:\n",
    "                nextslot = self.rehash(nextslot,len(self.slots))\n",
    "            \n",
    "            if self.slots[nextslot] == None:\n",
    "                self.slots[nextslot] = key\n",
    "                self.data[nextslot] = data\n",
    "            else:\n",
    "                self.data[nextslot] = data #replace value\n",
    "\n",
    "def hashfunction(self,key,size):\n",
    "    return key%size\n",
    "\n",
    "def rehash(self,oldhash,size):\n",
    "    return (oldhash+1)%size"
   ]
  },
  {
   "cell_type": "markdown",
   "metadata": {},
   "source": [
    "* **get** function begins by computing the initial hash value. If the value is not in the intial slot, **rehash** is used to locate the next possible slot position. "
   ]
  },
  {
   "cell_type": "code",
   "execution_count": 60,
   "metadata": {
    "collapsed": false
   },
   "outputs": [],
   "source": [
    "def get(self,key):\n",
    "    startslot = self.hashfunction(key,len(self.slots))\n",
    "    \n",
    "    data = None\n",
    "    stop = False\n",
    "    found = False\n",
    "    position = startslot\n",
    "    while self.slot[position] != None and not found and not stop:\n",
    "        if self.slots[position] == key:\n",
    "            found = True\n",
    "            data = self.data[position]\n",
    "        else:\n",
    "            position=self.rehash(position,len(self.slots))\n",
    "            if position == startslot:\n",
    "                stop = True\n",
    "    return data\n",
    "\n",
    "def __getitem__(self,key):\n",
    "    return self.get(key)\n",
    "\n",
    "def __setitem__(self,key,data):\n",
    "    self.put(key,data)"
   ]
  },
  {
   "cell_type": "markdown",
   "metadata": {},
   "source": [
    "**Full hash table implementation with example**"
   ]
  },
  {
   "cell_type": "code",
   "execution_count": 67,
   "metadata": {
    "collapsed": false
   },
   "outputs": [
    {
     "name": "stdout",
     "output_type": "stream",
     "text": [
      "[77, 44, 55, 20, 26, 93, 17, None, None, 31, 54]\n",
      "['bird', 'goat', 'pig', 'chicken', 'dog', 'lion', 'tiger', None, None, 'cow', 'cat']\n"
     ]
    }
   ],
   "source": [
    "class HashTable:\n",
    "    def __init__(self):\n",
    "        self.size = 11\n",
    "        self.slots = [None] * self.size\n",
    "        self.data = [None] * self.size\n",
    "\n",
    "    def put(self,key,data):\n",
    "      hashvalue = self.hashfunction(key,len(self.slots))\n",
    "\n",
    "      if self.slots[hashvalue] == None:\n",
    "        self.slots[hashvalue] = key\n",
    "        self.data[hashvalue] = data\n",
    "      else:\n",
    "        if self.slots[hashvalue] == key:\n",
    "          self.data[hashvalue] = data  #replace\n",
    "        else:\n",
    "          nextslot = self.rehash(hashvalue,len(self.slots))\n",
    "          while self.slots[nextslot] != None and \\\n",
    "                          self.slots[nextslot] != key:\n",
    "            nextslot = self.rehash(nextslot,len(self.slots))\n",
    "\n",
    "          if self.slots[nextslot] == None:\n",
    "            self.slots[nextslot]=key\n",
    "            self.data[nextslot]=data\n",
    "          else:\n",
    "            self.data[nextslot] = data #replace\n",
    "\n",
    "    def hashfunction(self,key,size):\n",
    "         return key%size\n",
    "\n",
    "    def rehash(self,oldhash,size):\n",
    "        return (oldhash+1)%size\n",
    "\n",
    "    def get(self,key):\n",
    "      startslot = self.hashfunction(key,len(self.slots))\n",
    "\n",
    "      data = None\n",
    "      stop = False\n",
    "      found = False\n",
    "      position = startslot\n",
    "      while self.slots[position] != None and  \\\n",
    "                           not found and not stop:\n",
    "         if self.slots[position] == key:\n",
    "           found = True\n",
    "           data = self.data[position]\n",
    "         else:\n",
    "           position=self.rehash(position,len(self.slots))\n",
    "           if position == startslot:\n",
    "               stop = True\n",
    "      return data\n",
    "\n",
    "    def __getitem__(self,key):\n",
    "        return self.get(key)\n",
    "\n",
    "    def __setitem__(self,key,data):\n",
    "        self.put(key,data)\n",
    "\n",
    "H=HashTable()\n",
    "H[54]=\"cat\"\n",
    "H[26]=\"dog\"\n",
    "H[93]=\"lion\"\n",
    "H[17]=\"tiger\"\n",
    "H[77]=\"bird\"\n",
    "H[31]=\"cow\"\n",
    "H[44]=\"goat\"\n",
    "H[55]=\"pig\"\n",
    "H[20]=\"chicken\"\n",
    "\n",
    "print(H.slots)\n",
    "print(H.data)"
   ]
  },
  {
   "cell_type": "code",
   "execution_count": 69,
   "metadata": {
    "collapsed": false
   },
   "outputs": [
    {
     "name": "stdout",
     "output_type": "stream",
     "text": [
      "chicken\n"
     ]
    }
   ],
   "source": [
    "print(H[20])"
   ]
  },
  {
   "cell_type": "code",
   "execution_count": 70,
   "metadata": {
    "collapsed": false
   },
   "outputs": [
    {
     "name": "stdout",
     "output_type": "stream",
     "text": [
      "None\n"
     ]
    }
   ],
   "source": [
    "print(H[99])"
   ]
  },
  {
   "cell_type": "markdown",
   "metadata": {},
   "source": [
    "### Analysis of Hashing\n",
    "\n",
    "* In best case *(with no collision)* hashing would provide **O(1)** constant time search technique.\n",
    "* Load Factor is commonly denoted by **lambda = numberofitems/tablesize**.\n",
    "    * If **lambda is small**, then there is lower chances of collisions, means that items are more likely to be in the slots where they belong.\n",
    "    * If **lambda is large**, means that table is filling up and there will be more collisions.\n",
    "    * With **Chaining** more collisions means, more number of items on each chain.\n",
    "    * **For Successful Search**: with open addressing and linear probing, the average number of comparisons is approx. 1/2(1 + 1/(1-lambda)).\n",
    "    * **For unsuccessful search** 1/2(1 + (1/(1-lambda))^2).\n",
    "    * **Successful search w/ Chaining** : 1 + lambda/2\n",
    "    * **Unsuccessful search w/ Chaining**: lambda"
   ]
  },
  {
   "cell_type": "code",
   "execution_count": null,
   "metadata": {
    "collapsed": true
   },
   "outputs": [],
   "source": []
  }
 ],
 "metadata": {
  "anaconda-cloud": {},
  "kernelspec": {
   "display_name": "Python [default]",
   "language": "python",
   "name": "python3"
  },
  "language_info": {
   "codemirror_mode": {
    "name": "ipython",
    "version": 3
   },
   "file_extension": ".py",
   "mimetype": "text/x-python",
   "name": "python",
   "nbconvert_exporter": "python",
   "pygments_lexer": "ipython3",
   "version": "3.5.2"
  }
 },
 "nbformat": 4,
 "nbformat_minor": 1
}
