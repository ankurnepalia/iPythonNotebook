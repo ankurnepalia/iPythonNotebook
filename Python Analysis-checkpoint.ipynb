{
 "cells": [
  {
   "cell_type": "code",
   "execution_count": 34,
   "metadata": {
    "collapsed": false
   },
   "outputs": [
    {
     "data": {
      "application/javascript": [
       "IPython.notebook.set_autosave_interval(0)"
      ]
     },
     "metadata": {},
     "output_type": "display_data"
    },
    {
     "name": "stdout",
     "output_type": "stream",
     "text": [
      "Autosave disabled\n"
     ]
    }
   ],
   "source": [
    "%autosave 0"
   ]
  },
  {
   "cell_type": "markdown",
   "metadata": {},
   "source": [
    "## Algorithm Analysis\n",
    "\n",
    "**Algorithm analysis** is concerned with comparing algorithms based upon the *amount of computing resources* that each algorithm uses.\n",
    "\n",
    "What does computing resources means:\n",
    "1. Amount of **space or memory** an algorithm requires to solve the problem.\n",
    "2. Amount of **time** they require to execute. Also known as **execution time** or **running time** of the algorithm.\n",
    "\n",
    "\n"
   ]
  },
  {
   "cell_type": "code",
   "execution_count": 29,
   "metadata": {
    "collapsed": false
   },
   "outputs": [
    {
     "name": "stdout",
     "output_type": "stream",
     "text": [
      "(50005000, 0.0010006427764892578)\n"
     ]
    }
   ],
   "source": [
    "# to perform Benchmark analysis.\n",
    "import time  \n",
    "\n",
    "# Sum of n integers using iteration\n",
    "def sumOfN(n):\n",
    "    start = time.time()\n",
    "    \n",
    "    theSum = 0\n",
    "    for i in range(1, n+1):\n",
    "        theSum = theSum + i\n",
    "    \n",
    "    end = time.time()\n",
    "    \n",
    "    return theSum, end-start\n",
    "\n",
    "print(sumOfN(10000))"
   ]
  },
  {
   "cell_type": "code",
   "execution_count": 30,
   "metadata": {
    "collapsed": false
   },
   "outputs": [
    {
     "name": "stdout",
     "output_type": "stream",
     "text": [
      "55.0\n"
     ]
    }
   ],
   "source": [
    "# to perform Benchmark analysis\n",
    "import time\n",
    "\n",
    "# sum of n integers without iteration\n",
    "def sumOfN1(n):\n",
    "    return(n*(n+1))/2\n",
    "\n",
    "print(sumOfN1(10))"
   ]
  },
  {
   "cell_type": "markdown",
   "metadata": {},
   "source": [
    "If we do the same benchmark measurement for sumOfN3, using five different values for n (10,000, 100,000, 1,000,000, 10,000,000, and 100,000,000), we get the following results:\n",
    "\n",
    "Sum is 50005000 required 0.00000095 seconds\n",
    "Sum is 5000050000 required 0.00000191 seconds\n",
    "Sum is 500000500000 required 0.00000095 seconds\n",
    "Sum is 50000005000000 required 0.00000095 seconds\n",
    "Sum is 5000000050000000 required 0.00000119 seconds\n",
    "\n",
    "Two important things to notice:\n",
    "1. Iterative solutions seems to do more work (slower) than non-interative solutions.\n",
    "2. Times recorded in non-iterative solution are somewhat consistent. "
   ]
  },
  {
   "cell_type": "markdown",
   "metadata": {},
   "source": [
    "## Big-O Notation\n",
    "\n",
    "* Characterize Algorithms efficiency in terms of execution time, independent of any particular program or computer, it is important to quantify the number of operations or steps that the algorithm wil require.\n",
    "\n",
    "* Execution time can be expressed as number of steps required to solve the problem.\n",
    "\n",
    "* **Summation Algorithms**: count the number of assignment statements performed to compute the sum. The parameter (n) is often referred to as the \"size\" of the problem. T(n) is the time it takes to solve a problem of size n.\n",
    "\n",
    "* Algorithm's execution time changes with respect to the size of the problem. \n",
    "\n",
    "* It turns out that the exact number of operations is not as important as determining the *most dominating part of the T(n) function*.\n",
    "\n",
    "* The **order of magnitude** function describes the part of T(n) that increases the fastest as the value of n increases. Order of magnitude is often called **Big-O** notation and written as **O(f(n))**. The function **f(n)** provides a simple representation of the dominant part of the original T(n). \n",
    "\n",
    "* For T(n)=1+n, as n gets larger, the constant 1 will become less and less significant to the final result. Thus the running time is **O(n)**.\n",
    "\n",
    "* For T(n)= 5n^2 + 27n + 1005, for small n, 1005 is the dominant part, but for larger n, the n^2 term becomes the most important. For really large n, we would say that the function T(n) has an order of magnigude **O(n^2)**.\n",
    "\n",
    "* The **worst case** performance refers to a particular data set where the algorithm performs especially poorly. Dataset for which the algorithm might have extraordinary good performance gives the **best case**. However, in most cases the algorithm performs somewhere in between these two extremes, **average case**. \n",
    "\n"
   ]
  },
  {
   "cell_type": "code",
   "execution_count": 31,
   "metadata": {
    "collapsed": false
   },
   "outputs": [],
   "source": [
    "n=1\n",
    "#3 Assignment operations\n",
    "\n",
    "a=5\n",
    "b=4\n",
    "c=3\n",
    "\n",
    "#3 n^2 operations\n",
    "\n",
    "for i in range(n):\n",
    "    for j in range(n):\n",
    "        x = i*j\n",
    "        y = j*j\n",
    "        z = i*i\n",
    "\n",
    "#2 n operations\n",
    "\n",
    "for k in range(n):\n",
    "    w = a*k + 45\n",
    "    v = b*b\n",
    "\n",
    "#1 Assignment operation\n",
    "\n",
    "d = 33"
   ]
  },
  {
   "cell_type": "markdown",
   "metadata": {},
   "source": [
    "T(n) = 3 + 3n^2 + 2n + 1\n",
    "T(n) = 3n^2 + 2n + 4\n",
    "\n",
    "By looking at the exponents, we can say that for really large n, order of magnitude is **O(n^2)**"
   ]
  },
  {
   "cell_type": "code",
   "execution_count": 32,
   "metadata": {
    "collapsed": false
   },
   "outputs": [
    {
     "name": "stdout",
     "output_type": "stream",
     "text": [
      "0\n"
     ]
    }
   ],
   "source": [
    "import time\n",
    "from random import randrange\n",
    "\n",
    "# find minimum value in a list O(n^2)\n",
    "def findMin(alist):\n",
    "    overallmin = alist[0]\n",
    "    \n",
    "    for i in alist:\n",
    "        issmallest = True\n",
    "        for j in alist:\n",
    "            if i > j:\n",
    "                issmallest = False\n",
    "        if issmallest:\n",
    "            overallmin = i\n",
    "    return overallmin\n",
    "\n",
    "# find minimum value in a list O(n)\n",
    "def findMinNew(alist):\n",
    "    minsofar = alist[0]\n",
    "    \n",
    "    for i in alist:\n",
    "        if i < minsofar:\n",
    "            minsofar = i\n",
    "    return minsofar\n",
    "\n",
    "print(findMinNew([5,3,0,3,2]))\n",
    "\n",
    "\n",
    "# for listSize in range(1000, 10001, 1000):\n",
    "#     alist = [randrange(100000) for x in range(listSize)]\n",
    "#     start = time.time()\n",
    "#     print(findMinNew(alist))\n",
    "#     end = time.time()\n",
    "#     print(\"size: %d time: %f\" % (listSize, end-start))\n",
    " \n"
   ]
  },
  {
   "cell_type": "markdown",
   "metadata": {},
   "source": [
    "## Lists\n",
    "\n",
    "Two most common operations in Lists are:\n",
    "* Indexing\n",
    "* Assigning to index position\n",
    "\n",
    "Both these operations are independent of the size of the list, **O(1)**\n",
    "\n",
    "Task to grow a list:\n",
    "* Append method = O(1)\n",
    "* Concatenate operator = O(k), k=size of the list that is being concatenated.\n",
    "\n",
    "let's look at 4 different ways we can generate a list of **n** numbers starting from *0*."
   ]
  },
  {
   "cell_type": "code",
   "execution_count": 33,
   "metadata": {
    "collapsed": false
   },
   "outputs": [],
   "source": [
    "# creating a list by concatenation\n",
    "def test1():\n",
    "    l = []\n",
    "    for i in range(1000):\n",
    "        l = l + [i]\n",
    "\n",
    "# creating a list by append method\n",
    "def test2():\n",
    "    l = []\n",
    "    for i in range(1000):\n",
    "        l.append(i)\n",
    "\n",
    "# creating a list using list comprehension\n",
    "def test3():\n",
    "    l = [i for i in range(1000)]\n",
    "    \n",
    "# Creating a list using the range function wrapped by a call to the list constructor\n",
    "def test4():\n",
    "    l = list(range(1000))\n"
   ]
  },
  {
   "cell_type": "code",
   "execution_count": 1,
   "metadata": {
    "collapsed": true
   },
   "outputs": [],
   "source": [
    "def reverselist(alist):\n",
    "    median = len(alist)//2\n",
    "    length = len(alist)\n",
    "    for i in range(median):\n",
    "        alist[i],alist[(length-1)-i]=alist[(length-1)-i],alist[i]\n",
    "\n",
    "alist = [1,2,3,4,5,6,7,8]\n",
    "reverselist(alist)"
   ]
  },
  {
   "cell_type": "code",
   "execution_count": null,
   "metadata": {
    "collapsed": true
   },
   "outputs": [],
   "source": []
  }
 ],
 "metadata": {
  "anaconda-cloud": {},
  "kernelspec": {
   "display_name": "Python [default]",
   "language": "python",
   "name": "python3"
  },
  "language_info": {
   "codemirror_mode": {
    "name": "ipython",
    "version": 3
   },
   "file_extension": ".py",
   "mimetype": "text/x-python",
   "name": "python",
   "nbconvert_exporter": "python",
   "pygments_lexer": "ipython3",
   "version": "3.5.2"
  }
 },
 "nbformat": 4,
 "nbformat_minor": 1
}
