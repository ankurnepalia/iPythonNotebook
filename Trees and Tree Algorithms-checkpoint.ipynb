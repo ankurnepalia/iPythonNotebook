{
 "cells": [
  {
   "cell_type": "code",
   "execution_count": 1,
   "metadata": {
    "collapsed": false
   },
   "outputs": [
    {
     "data": {
      "application/javascript": [
       "IPython.notebook.set_autosave_interval(0)"
      ]
     },
     "metadata": {},
     "output_type": "display_data"
    },
    {
     "name": "stdout",
     "output_type": "stream",
     "text": [
      "Autosave disabled\n"
     ]
    }
   ],
   "source": [
    "%autosave 0"
   ]
  },
  {
   "cell_type": "markdown",
   "metadata": {
    "collapsed": true
   },
   "source": [
    "## Objective\n",
    "\n",
    "* To understand what a tree data structure is and how it is used.\n",
    "* To see how trees can be used to implement a map data structure\n",
    "* To implement trees using a list\n",
    "* To implement trees using classes and references\n",
    "* To implement trees as recursive data structures\n",
    "* To implement a priority queue using a heap\n",
    "\n",
    "### Examples of Trees\n",
    "\n",
    "* Trees are used in many areas of computer science, including Operating Systems, graphics, database systems, computer networking and machine learning.\n",
    "* A tree data structure has a root, branches, and leaves.\n",
    "* Trees are hierarchical. By hierarchical, we mean that trees are structured in layers with the **more general thing near the top** and **more specific things near the bottom**.\n",
    "* At each level of the tree, we can ask questions and follow the path that agrees with our answer. \n",
    "* All the children of one node are independent of the children of another node. \n",
    "* Each leaf node is **unique**. \n",
    "* Important property of tree, you can move entire sections of a tree(called a **subtree**) to a different position in the tree without affecting the lower levels of the hierarchy.\n",
    "* Tree examples: \n",
    "    * Bilological classification of animals\n",
    "    * File system: directories or folders are structured as a tree.\n",
    "    * A web page: Each of the html tags used to create the page represents a tree. The HTML source code and the tree accompanying the source illustrates another hierarchy. Notice that each level of the tree corresponds to a level of nesting inside the HTML tags.\n",
    "\n",
    "\n",
    "### Vocabulary and Definitions\n",
    "\n",
    "* **Node**: A node is fundamental part of a tree. It can have a name, which we call the **\"key\"**. A node may also have a **\"payload\"**. \n",
    "\n",
    "* **Edge**: An edge connects two nodes to show that there is a relationship between them. Every node(*except the root*) is connected by exactly one incoming edge from another node. Each node may have several outgoing edges. \n",
    "\n",
    "* **Root**: The root of the tree is the only node in the tree that has no incoming edges. \n",
    "\n",
    "* **Path**: A path is an ordered list of nodes that are connected by edges. \n",
    "\n",
    "* **Children**: The set of nodes c that have incoming edges from the same node to are said to be the children of that node.\n",
    "\n",
    "* **Parent**: A node is the parent of all the nodes it connects to with outgoing edges. \n",
    "\n",
    "* **Sibling**: Nodes in the tree that are children of the same parent are said to be siblings. \n",
    "\n",
    "* **Subtree**: A subtree is a set of nodes and edges comprised of a parent and all the descendants of that parent. \n",
    "\n",
    "* **Leaf Node**: A leaf node is a node that has no children.\n",
    "\n",
    "* **Level**: The level of a node **n** is the **number of edges** on the path from the **root node to n**. \n",
    "\n",
    "* **Height**: The height of a tree is equal to the **maximum level of any node** in the tree.\n",
    "\n",
    "### First Definition of a Tree\n",
    "\n",
    "A tree consists of a set of nodes and a set of edges that connect paris of nodes. A tree has following properties:\n",
    "* One node of the tree is designated as the root node\n",
    "* Every node n, except the root node, is connected by an edge from exactly one other node p, where p is the parent of n.\n",
    "* A unique path traverses from the root to each node\n",
    "* If each node in the tree has a maximum of two children, we say that the tree is a **binary tree**\n",
    "\n",
    "### Second Definition of a Tree\n",
    "\n",
    "A tree is either empty or consists of a root and zero or more subtrees, each of which is also a tree. The root of each subtree is connected to the root of the parent tree by an edge. \n"
   ]
  },
  {
   "cell_type": "markdown",
   "metadata": {},
   "source": [
    "### List of Lists Representation\n",
    "\n",
    "* Using pythons list data structures\n",
    "* List based implementations provides us with a simple recursive data structure. \n",
    "* In a list of lists tree, we will store the value of the root node as the first element of the list. The second element of the list will itself be a list that represents the left subtree. The third element of the list will be another list that represents the right subtree. "
   ]
  },
  {
   "cell_type": "code",
   "execution_count": 2,
   "metadata": {
    "collapsed": false
   },
   "outputs": [
    {
     "name": "stdout",
     "output_type": "stream",
     "text": [
      "['a', ['b', ['d', [], []], ['e', [], []]], ['c', ['f', [], []], []]]\n",
      "left subtree =  ['b', ['d', [], []], ['e', [], []]]\n",
      "root =  a\n",
      "right subtree =  ['c', ['f', [], []], []]\n"
     ]
    }
   ],
   "source": [
    "myTree = ['a', #root \n",
    "          ['b', #left subtree\n",
    "           ['d', [], []],\n",
    "           ['e', [], []] ],\n",
    "          ['c', #right subtree\n",
    "           ['f', [],[]],\n",
    "           [] ]\n",
    "          ]\n",
    "\n",
    "print(myTree)\n",
    "print('left subtree = ', myTree[1])\n",
    "print('root = ', myTree[0])\n",
    "print('right subtree = ', myTree[2])"
   ]
  },
  {
   "cell_type": "markdown",
   "metadata": {},
   "source": [
    "* Notice that we can access subtrees of the list using standard list indexing. The root of the tree is **myTree[0]**. The left subtree of the root is **myTree[1]**, and the right subtree is **myTree[2]**. \n",
    "* One very nice property of this list os lists approach is that the structure of a list representing a subtree adheres to the structure defined for a tree; the structure itself is **recursive**. \n",
    "* A subtree that has a root value and two empty lists  is a **leaf** node. \n",
    "* List of lists approach generalizes to a tree that has many subtrees. In case where the tree is more than a binary tree, another subtree is just another list. "
   ]
  },
  {
   "cell_type": "code",
   "execution_count": 3,
   "metadata": {
    "collapsed": false
   },
   "outputs": [
    {
     "name": "stdout",
     "output_type": "stream",
     "text": [
      "[5, [4, [], []], []]\n",
      "[3, [9, [4, [], []], []], [7, [], [6, [], []]]]\n",
      "[3, [9, [11, [4, [], []], []], []], [7, [], [6, [], []]]]\n",
      "[6, [], []]\n"
     ]
    }
   ],
   "source": [
    "# A Python session to illustrate basic tree functions\n",
    "\n",
    "def BinaryTree(r):\n",
    "    return [r, [],[]]\n",
    "\n",
    "def insertLeft(root,newBranch):\n",
    "    t = root.pop(1)\n",
    "    if len(t) > 1:\n",
    "        root.insert(1,[newBranch,t,[]])\n",
    "    else:\n",
    "        root.insert(1,[newBranch,[],[]])\n",
    "    return root\n",
    "        \n",
    "def insertRight(root,newBranch):\n",
    "    t=root.pop(2)\n",
    "    if len(t) > 1:\n",
    "        root.insert(2,[newBranch,[],t])\n",
    "    else:\n",
    "        root.insert(2,[newBranch,[],[]])\n",
    "    return root\n",
    "\n",
    "def getRootVal(root):\n",
    "    return root[0]\n",
    "\n",
    "def setRootVal(root,newVal):\n",
    "    root[0] = newVal\n",
    "\n",
    "def getLeftChild(root):\n",
    "    return root[1]\n",
    "\n",
    "def getRightChild(root):\n",
    "    return root[2]\n",
    "\n",
    "r = BinaryTree(3)\n",
    "insertLeft(r,4)\n",
    "insertLeft(r,5)\n",
    "insertRight(r,6)\n",
    "insertRight(r,7)\n",
    "l = getLeftChild(r)\n",
    "print(l)\n",
    "\n",
    "setRootVal(l,9)\n",
    "print(r)\n",
    "insertLeft(l,11)\n",
    "print(r)\n",
    "print(getRightChild(getRightChild(r)))"
   ]
  },
  {
   "cell_type": "markdown",
   "metadata": {},
   "source": [
    "### Nodes and References\n",
    "\n",
    "* Second method to represent a tree uses nodes and references. \n",
    "* In this case we will define a **class** that has attributes for the root value, as well as the left and right subtrees. \n",
    "* The important thing to remember about this representation is that the attributes **left** and **right** will become references to other instances of the **BinaryTree** class. For example, when we insert a new left child into the tree we create another instance of **BinaryTree** and modify **self.leftChild** in the root to reference the new tree."
   ]
  },
  {
   "cell_type": "code",
   "execution_count": 4,
   "metadata": {
    "collapsed": true
   },
   "outputs": [],
   "source": [
    "class BinaryTree:\n",
    "    def __init__(self,rootObj):\n",
    "        self.key = rootObj\n",
    "        self.leftChild = None\n",
    "        self.rightChild = None"
   ]
  },
  {
   "cell_type": "markdown",
   "metadata": {},
   "source": [
    "* Just like you can store any object you like in a list, the root object of a tree can be a reference to any object. \n",
    "* Next let's look at the functions we need to build the tree beyond the root node. To add a left child to the tree, we will create a new binary tree object and set the left attribute of the root to refer to this new object. "
   ]
  },
  {
   "cell_type": "code",
   "execution_count": 5,
   "metadata": {
    "collapsed": true
   },
   "outputs": [],
   "source": [
    "def insertLeft(self,newNode):\n",
    "    if self.leftChild == None:\n",
    "        self.leftChild = BinaryTree(newNode)\n",
    "    else:\n",
    "        t = BinaryTree(newNode)\n",
    "        t.leftChild = self.leftChild\n",
    "        self.leftChild = t"
   ]
  },
  {
   "cell_type": "markdown",
   "metadata": {},
   "source": [
    "* We must consider 2 cases for insertion. \n",
    "    * The first case is characterized by a node with no existing left child. When there is no left child, simple add a node to the tree.\n",
    "    * The second case is characterized by a node with an existing left child. In this case, we insert a node and push the existing child down one level in the tree. "
   ]
  },
  {
   "cell_type": "code",
   "execution_count": 6,
   "metadata": {
    "collapsed": true
   },
   "outputs": [],
   "source": [
    "def insertRight(self,newNode):\n",
    "    if self.rightChild == None:\n",
    "        self.rightChild = BinaryTree(newNode)\n",
    "    else:\n",
    "        t = BinaryTree(newNode)\n",
    "        t.rightChild = self.rightChild\n",
    "        self.rightChild = t"
   ]
  },
  {
   "cell_type": "markdown",
   "metadata": {},
   "source": [
    "* To round out the definition for a simple binary tree data structure, we will write accessor methods for the left and right children as well as the root values."
   ]
  },
  {
   "cell_type": "code",
   "execution_count": 7,
   "metadata": {
    "collapsed": true
   },
   "outputs": [],
   "source": [
    "def getRootVal(self):\n",
    "    return self.key\n",
    "\n",
    "def setRootVal(self,obj):\n",
    "    self.key = obj\n",
    "\n",
    "def getLeftChild(self):\n",
    "    return self.leftChild\n",
    "\n",
    "def getRightChild(self):\n",
    "    return self.rightChild\n"
   ]
  },
  {
   "cell_type": "code",
   "execution_count": 8,
   "metadata": {
    "collapsed": false
   },
   "outputs": [
    {
     "name": "stdout",
     "output_type": "stream",
     "text": [
      "a\n",
      "None\n",
      "<__main__.BinaryTree object at 0x05DCC730>\n",
      "b\n",
      "<__main__.BinaryTree object at 0x05DCC750>\n",
      "c\n",
      "hello\n"
     ]
    }
   ],
   "source": [
    "# putting it all together to create Binary Tree Data Structure\n",
    "class BinaryTree:\n",
    "    def __init__(self,rootObj):\n",
    "        self.key = rootObj\n",
    "        self.leftChild = None\n",
    "        self.rightChild = None\n",
    "\n",
    "    def insertLeft(self,newNode):\n",
    "        if self.leftChild == None:\n",
    "            self.leftChild = BinaryTree(newNode)\n",
    "        else:\n",
    "            t = BinaryTree(newNode)\n",
    "            t.leftChild = self.leftChild\n",
    "            self.leftChild = t\n",
    "\n",
    "    def insertRight(self,newNode):\n",
    "        if self.rightChild == None:\n",
    "            self.rightChild = BinaryTree(newNode)\n",
    "        else:\n",
    "            t = BinaryTree(newNode)\n",
    "            t.rightChild = self.rightChild\n",
    "            self.rightChild = t\n",
    "\n",
    "    def getRootVal(self):\n",
    "        return self.key\n",
    "\n",
    "    def setRootVal(self,obj):\n",
    "        self.key = obj\n",
    "\n",
    "    def getLeftChild(self):\n",
    "        return self.leftChild\n",
    "\n",
    "    def getRightChild(self):\n",
    "        return self.rightChild\n",
    "\n",
    "r = BinaryTree('a')\n",
    "print(r.getRootVal())\n",
    "print(r.getLeftChild())\n",
    "r.insertLeft('b')\n",
    "print(r.getLeftChild())\n",
    "print(r.getLeftChild().getRootVal())\n",
    "r.insertRight('c')\n",
    "print(r.getRightChild())\n",
    "print(r.getRightChild().getRootVal())\n",
    "r.getRightChild().setRootVal('hello')\n",
    "print(r.getRightChild().getRootVal())\n"
   ]
  },
  {
   "cell_type": "markdown",
   "metadata": {},
   "source": [
    "### Parse Tree\n",
    "\n",
    "* Parse trees can be used to represent real-world constructions like sentences or mathematial expressions.\n",
    "* The hierarchy of the tree helps us understand the order of evaluation for the whole expression. \n",
    "* How to build a parse tree ?\n",
    "    * First step in building a parse tree is to break up the expression string into a list of tokens. There are 4 different kinds of tokens to consider. Left parentheses, right parentheses, operators and operands. \n",
    "    * We know that whenever we read a left parenthesis we are starting a new expression and hence we should create a new tree to correspond to that expression. Conversely, whenever we read a right parenthesis, we have finished an expression. \n",
    "    * We also know that operands are going to be leaf nodes and children of their operators. \n",
    "    * Finally, we also know that every operator is going to have both a left and a right child. \n",
    "\n",
    "Four Rules:\n",
    "1. If the current token is **'('**, add a new node as the left child of the current node, and descend to the left child. \n",
    "2. If the current token is in the list **['+', '-', '/', '\\*']**, set the root value of the current node to the operator represented by the current token. Add a new node as the right child of the current node and descend to the right child. \n",
    "3. If the current token is a **number**, set the root value of the current node to the number and return to the parent.\n",
    "4. If the current token is a **')'**, go to the parent of the current node.\n",
    "\n"
   ]
  },
  {
   "cell_type": "code",
   "execution_count": 10,
   "metadata": {
    "collapsed": false
   },
   "outputs": [
    {
     "name": "stdout",
     "output_type": "stream",
     "text": [
      "10\n",
      "5\n",
      "+\n",
      "3\n",
      "*\n"
     ]
    }
   ],
   "source": [
    "# Building a parse tree\n",
    "from pythonds.basic.stack import Stack\n",
    "from pythonds.trees.binaryTree import BinaryTree\n",
    "\n",
    "def buildParseTree(fpexp):\n",
    "    fplist = fpexp.split()\n",
    "    pStack = Stack()\n",
    "    eTree = BinaryTree('')\n",
    "    pStack.push(eTree)\n",
    "    currentTree = eTree\n",
    "    for i in fplist:\n",
    "        if i == '(':\n",
    "            currentTree.insertLeft('')\n",
    "            pStack.push(currentTree)\n",
    "            currentTree = currentTree.getLeftChild()\n",
    "        elif i not in ['+', '-', '/', '*', ')']:\n",
    "            currentTree.setRootVal(int(i))\n",
    "            currentTree = pStack.pop()\n",
    "        elif i in ['+', '-', '/', '*']:\n",
    "            currentTree.setRootVal(i)\n",
    "            currentTree.insertRight('')\n",
    "            pStack.push(currentTree)\n",
    "            currentTree = currentTree.getRightChild()\n",
    "        elif i == ')':\n",
    "            currentTree = pStack.pop()\n",
    "        else:\n",
    "            raise ValueError\n",
    "            \n",
    "    return eTree\n",
    "\n",
    "pt = buildParseTree(\"( ( 10 + 5 ) * 3 )\")\n",
    "pt.postorder() "
   ]
  },
  {
   "cell_type": "markdown",
   "metadata": {},
   "source": [
    "### Evaluate Parse Tree\n",
    "\n",
    "* After building the parse tree, we can write a function to evaluate the parse tree, returning the numerical result.\n",
    "* To write this function, we will make use of the hierarchical nature of the tree. We can replace the original tree with the simplified tree. This suggests the we can write an algorithm that evaluates a parse tree by recursively evaluating each subtree. \n",
    "* To write a recursive algorithm, we need to first identify the base case. A natural base case for recursive algorithms that operate on trees is to check for a leaf node. In a parse tree, the leaf nodes will always be operands. \n",
    "* Since numerical objects like integers and floating points require no further interpretation, the **evaluate** function can simply return the value stored in the leaf node. The recursive step that moves the function towards the base case is to call **evaluate** on both the left and right children of the current node. The recursive call effectively moves us down the tree, towards a leaf node. \n",
    "* To put the results of the two recursive calls together, we can simply apply the operator stored in the parent node to the results returned from evaluating both children. "
   ]
  },
  {
   "cell_type": "code",
   "execution_count": 19,
   "metadata": {
    "collapsed": false
   },
   "outputs": [
    {
     "name": "stdout",
     "output_type": "stream",
     "text": [
      "30\n",
      "3\n",
      "/\n",
      "4\n",
      "/\n"
     ]
    },
    {
     "data": {
      "text/plain": [
       "2.5"
      ]
     },
     "execution_count": 19,
     "metadata": {},
     "output_type": "execute_result"
    }
   ],
   "source": [
    "# Building a parse tree\n",
    "from pythonds.basic.stack import Stack\n",
    "from pythonds.trees.binaryTree import BinaryTree\n",
    "import operator\n",
    "\n",
    "def buildParseTree(fpexp):\n",
    "    fplist = fpexp.split()\n",
    "    pStack = Stack()\n",
    "    eTree = BinaryTree('')\n",
    "    pStack.push(eTree)\n",
    "    currentTree = eTree\n",
    "    for i in fplist:\n",
    "        if i == '(':\n",
    "            currentTree.insertLeft('')\n",
    "            pStack.push(currentTree)\n",
    "            currentTree = currentTree.getLeftChild()\n",
    "        elif i not in ['+', '-', '/', '*', ')']:\n",
    "            currentTree.setRootVal(int(i))\n",
    "            currentTree = pStack.pop()\n",
    "        elif i in ['+', '-', '/', '*']:\n",
    "            currentTree.setRootVal(i)\n",
    "            currentTree.insertRight('')\n",
    "            pStack.push(currentTree)\n",
    "            currentTree = currentTree.getRightChild()\n",
    "        elif i == ')':\n",
    "            currentTree = pStack.pop()\n",
    "        else:\n",
    "            raise ValueError\n",
    "            \n",
    "    return eTree\n",
    "\n",
    "# Evaluating a parse tree\n",
    "def evaluate(parseTree):\n",
    "    #opers = {'+':operator.add, '-':operator.sub, '*':operator.mul, '/':operator.truediv}\n",
    "    opers = {'+':operator.add, '-':operator.sub, '*':operator.mul, '/':operator.truediv}\n",
    "    \n",
    "    leftC = parseTree.getLeftChild()\n",
    "    rightC = parseTree.getRightChild()\n",
    "    \n",
    "    if leftC and rightC:\n",
    "        fn = opers[parseTree.getRootVal()]\n",
    "        return fn(evaluate(leftC),evaluate(rightC))\n",
    "    else:\n",
    "        return parseTree.getRootVal()\n",
    "\n",
    "\n",
    "pt = buildParseTree(\"( ( 30 / 3 ) * ( 10 + 5 ) * 3 / 4 )\")\n",
    "pt.postorder() \n",
    "evaluate(pt)"
   ]
  },
  {
   "cell_type": "markdown",
   "metadata": {},
   "source": [
    "### Tree Traversal\n",
    "\n",
    "* There are 3 commonly used patterns to visit all the nodes in a tree. The difference between these patterns is the order in which each node is visited. We call this visitation of the nodes a **\"traversal\"**. \n",
    "* The 3 traversals are called **preorder**, **inorder**, and **postorder**. \n",
    "* **preorder**: In preorder traversal, we visit the root node first, then recursively do a preorder traversal of the left subtree, followed by a recursive preorder traversal of the right subtree.\n",
    "* **inorder**: In an inorder traversal, we recursively do an inorder traversal of the left subtree, visit the root node, and finally do a recursive inorder traversal of the right subtree.\n",
    "* **postorder**: In a postorder traversal, we recursively do a postorder traversal of the left subtree and the right subtree followed by a visit to the root node. \n"
   ]
  },
  {
   "cell_type": "code",
   "execution_count": 20,
   "metadata": {
    "collapsed": true
   },
   "outputs": [],
   "source": [
    "# preorder traversal implementation as an external function\n",
    "def preorder(tree):\n",
    "    if tree:\n",
    "        print(tree.getRootVal())\n",
    "        preorder(tree.getLeftChild())\n",
    "        preorder(tree.getRightChild())\n",
    "\n",
    "# postorder traversal implementation as an external function\n",
    "def postorder(tree):\n",
    "    if tree:\n",
    "        postorder(tree.getLeftChild())\n",
    "        postorder(tree.getRightChild())\n",
    "        print(tree.getRootVal())\n",
    "\n",
    "def inorder(tree):\n",
    "    if tree:\n",
    "        inorder(tree.getLeftChild())\n",
    "        print(tree.getRootVal())\n",
    "        inorder(tree.getRightChild())\n",
    "        "
   ]
  },
  {
   "cell_type": "markdown",
   "metadata": {},
   "source": [
    "* If we perform a simple **inorder traversal** of a parse tree we get our original expression back, without any parenthesis. "
   ]
  },
  {
   "cell_type": "code",
   "execution_count": 21,
   "metadata": {
    "collapsed": true
   },
   "outputs": [],
   "source": [
    "# inorder travers to generate original expression from parse Tree\n",
    "def printexp(tree):\n",
    "    origexp = \"\"\n",
    "    if tree:\n",
    "        origexp = '(' + printexp(tree.getLeftChild())\n",
    "        origexp = origexp + str(tree.getRootVal())\n",
    "        origexp = origexp + printexp(tree.getRightChild()) + ')'\n",
    "    return origexp\n"
   ]
  },
  {
   "cell_type": "markdown",
   "metadata": {},
   "source": [
    "## Priority Queues with Binary Heaps\n",
    "\n",
    "* One important variation of a queue is called a **priority queue**. \n",
    "* A priority queue acts like a queue in that you dequeue an item by removing it from the **front**. \n",
    "* However, in a priority queue the **logical order of items** inside a queue is determined by their **priority**. The highest priority items are at the front of the queue and the lowest priority items are at the back. \n",
    "* Thus when you enqueue an item on a priority queue, the new item may move all the way to the front. \n",
    "* Priority queue is a useful data structure for some of the graph algorithms. \n",
    "* The classic way to implement a priority queue is using a data structure called a **binary heap**. \n",
    "* A binary heap will allow us both **enqueue** and **dequeue** items in $$O(log(n))$$\n",
    "* The binary heap is interesting to study because, when we **diagram the heap** it looks like a **tree**, but when we **implement** it we use only a **single list** as in internal representation. \n",
    "* The binary heap has two common variations: The **min heap**, in which the smallest key is always at the front, and the **max heap**, in which the largest key value is always at the front. \n",
    "\n",
    "### Binary Heap Operations\n",
    "\n",
    "Basic operations of binary heap are as follows:\n",
    "* **BinaryHeap()** creates a new, empty, binary heap.\n",
    "* **insert(k)** adds a new item to the heap.\n",
    "* **findMin()** returns the item with the minimum key value, leaving item in the heap.\n",
    "* **delMin()** returns the item with the minimum key value, removing the item from the heap.\n",
    "* **isEmpty()** returns true if the heap is empty, false otherwise.\n",
    "* **size()** returns the number of items in the heap.\n",
    "* **buildHeap(list)** builds a new heap from a list of keys."
   ]
  },
  {
   "cell_type": "code",
   "execution_count": 26,
   "metadata": {
    "collapsed": false
   },
   "outputs": [
    {
     "name": "stdout",
     "output_type": "stream",
     "text": [
      "3\n",
      "5\n",
      "7\n",
      "11\n"
     ]
    }
   ],
   "source": [
    "from pythonds.trees.binheap import BinHeap\n",
    "\n",
    "bh = BinHeap()\n",
    "bh.insert(5)\n",
    "bh.insert(7)\n",
    "bh.insert(3)\n",
    "bh.insert(11)\n",
    "\n",
    "print(bh.delMin())\n",
    "print(bh.delMin())\n",
    "print(bh.delMin())\n",
    "print(bh.delMin())"
   ]
  },
  {
   "cell_type": "markdown",
   "metadata": {},
   "source": [
    "## Binary Heap Implementation\n",
    "\n",
    "### The Structure Property\n",
    "\n",
    "* In order to make our heap work efficiently, we will take advantage of the logarithmic nature of the binary tree to represent our heap. \n",
    "* In order to gaurantee logarithmic performance, we must keep our tree **balanced**.\n",
    "* A **balanced binary tree** has roughly the same number of nodes in the left and right subtree of the root.\n",
    "* In our heap implementation we keep the tree balanced by creating a **complete binary tree**. \n",
    "* A **complete binary tree** is a tree in which each level has all of its nodes. The exception to this is the bottom level of the tree, which we fill in from left to right. \n",
    "* Another interesting property of a complete tree is that we can represent it using a single list.\n",
    "* Because the tree is complete, the left child of a parent(at position **p**) is the node that is found in **2p** in the list. Similarly, the right child of the parent is a position **2p+1** in the list. \n",
    "* To find the parent of any node in the tree, we can simply use Python's integer division. Given that a node is at position **n** in the list, the parent is at position **n/2**. \n",
    "* The list representation of the tree, along with the full structure property, allows us to efficiently traverse a complete binary tree using only a few simple mathematical operations. \n",
    "\n",
    "### The Heap Order Property\n",
    "\n",
    "* The method that we will use to store items in a heap relies on maintaining the heap order property. \n",
    "* The **heap order property** is as follows: In a heap, for every node **x** with parent **p**, the **key in p** is **smaller** than or **equal to** the **key in x**. **key(p) <= key(x)**\n",
    "\n",
    "### The Heap Operations"
   ]
  },
  {
   "cell_type": "code",
   "execution_count": 27,
   "metadata": {
    "collapsed": true
   },
   "outputs": [],
   "source": [
    "class BinHeap:\n",
    "    def __init__(self):\n",
    "        self.heapList = [0]\n",
    "        self.currentSize = 0\n",
    "    \n",
    "    def insert(self,k):\n",
    "        self.heapList.append(k)\n",
    "        self.currentSize = self.currentSize + 1\n",
    "        self.percUp(self.currentSize)\n",
    "    \n",
    "    def perUp(self,i):\n",
    "        while i//2 > 0:\n",
    "            if self.heapList[i] < self.heapList[i//2]:\n",
    "                self.heapList[i],self.heapList[i//2]=self.heapList[i//2],self.heapList[i]\n",
    "            i = i//2\n",
    "    \n",
    "    def delMin(self):\n",
    "        retval = self.heapList[1]\n",
    "        self.heapList[1] = self.heapList[self.currentSize]\n",
    "        self.currentSize = self.currentSize - 1\n",
    "        self.heapList.pop()\n",
    "        self.percDown(1)\n",
    "        return retval\n",
    "    \n",
    "    def percDown(self,i):\n",
    "        while (2*i) <= self.currentSize:\n",
    "            mc = self.minChild(i)\n",
    "            if self.heapList[i] > self.heapList[mc]:\n",
    "                self.heapList[i],self.heapList[mc]=self.heapList[mc],self.heapList[i]\n",
    "            i = mc\n",
    "    \n",
    "    def minChild(self,i):\n",
    "        if 2*i + 1 > self.currentSize:\n",
    "            return 2*i\n",
    "        else:\n",
    "            if self.heapList[2*i] > self.heapList[2*i + 1]:\n",
    "                return 2*i + 1\n",
    "            else:\n",
    "                return 2*i\n",
    "    "
   ]
  },
  {
   "cell_type": "markdown",
   "metadata": {},
   "source": [
    "* How to build an entire heap from a list of keys?\n",
    "    * Given a list of keys, you could easily build a heap by inserting each key one at a time. \n",
    "    * Since you are starting with a list of one item, the list is sorted and you could use binary search to find the right position to insert the next key at a cost of approximately **O(log(n))** operations. \n",
    "    * However, remember that inserting an item in the middle of the list may require **O(n)** operations to shift the rest of the list over to make room for the new key. \n",
    "    * Therefore, to insert **n** keys into the heap would require a total of **O(nlog(n))** operations. \n",
    "    * However, if we start with an entire list then we can build the whole heap in **O(n)** operations. "
   ]
  },
  {
   "cell_type": "code",
   "execution_count": 28,
   "metadata": {
    "collapsed": true
   },
   "outputs": [],
   "source": [
    "def buildHeap(self,alist):\n",
    "    i = len(alist) // 2\n",
    "    self.currentSize = len(alist)\n",
    "    self.heapList = [0] + alist[:]\n",
    "    while (i > 0):\n",
    "        self.percDown(i)\n",
    "        i = i -1\n",
    "        "
   ]
  },
  {
   "cell_type": "markdown",
   "metadata": {},
   "source": [
    "* Although we start out in the middle of the tree and work our way back toward the root, the **percDown** method ensures that the largest child is always moved down the tree. \n",
    "* Because the heap is a complete binary tree, any nodes past the halfway point will be leaves and therefore have no children. "
   ]
  },
  {
   "cell_type": "code",
   "execution_count": 34,
   "metadata": {
    "collapsed": false
   },
   "outputs": [
    {
     "name": "stdout",
     "output_type": "stream",
     "text": [
      "2\n",
      "3\n",
      "5\n",
      "6\n",
      "9\n"
     ]
    }
   ],
   "source": [
    "# complete binary heap implementation\n",
    "class BinHeap:\n",
    "    def __init__(self):\n",
    "        self.heapList = [0]\n",
    "        self.currentSize = 0\n",
    "\n",
    "\n",
    "    def percUp(self,i):\n",
    "        while i // 2 > 0:\n",
    "          if self.heapList[i] < self.heapList[i // 2]:\n",
    "             tmp = self.heapList[i // 2]\n",
    "             self.heapList[i // 2] = self.heapList[i]\n",
    "             self.heapList[i] = tmp\n",
    "          i = i // 2\n",
    "\n",
    "    def insert(self,k):\n",
    "      self.heapList.append(k)\n",
    "      self.currentSize = self.currentSize + 1\n",
    "      self.percUp(self.currentSize)\n",
    "\n",
    "    def percDown(self,i):\n",
    "      while (i * 2) <= self.currentSize:\n",
    "          mc = self.minChild(i)\n",
    "          if self.heapList[i] > self.heapList[mc]:\n",
    "              tmp = self.heapList[i]\n",
    "              self.heapList[i] = self.heapList[mc]\n",
    "              self.heapList[mc] = tmp\n",
    "          i = mc\n",
    "\n",
    "    def minChild(self,i):\n",
    "      if i * 2 + 1 > self.currentSize:\n",
    "          return i * 2\n",
    "      else:\n",
    "          if self.heapList[i*2] < self.heapList[i*2+1]:\n",
    "              return i * 2\n",
    "          else:\n",
    "              return i * 2 + 1\n",
    "\n",
    "    def delMin(self):\n",
    "      retval = self.heapList[1]\n",
    "      self.heapList[1] = self.heapList[self.currentSize]\n",
    "      self.currentSize = self.currentSize - 1\n",
    "      self.heapList.pop()\n",
    "      self.percDown(1)\n",
    "      return retval\n",
    "\n",
    "    def buildHeap(self,alist):\n",
    "      i = len(alist) // 2\n",
    "      self.currentSize = len(alist)\n",
    "      self.heapList = [0] + alist[:]\n",
    "      while (i > 0):\n",
    "          self.percDown(i)\n",
    "          i = i - 1\n",
    "\n",
    "bh = BinHeap()\n",
    "bh.buildHeap([9,5,6,2,3])\n",
    "\n",
    "print(bh.delMin())\n",
    "print(bh.delMin())\n",
    "print(bh.delMin())\n",
    "print(bh.delMin())\n",
    "print(bh.delMin())"
   ]
  },
  {
   "cell_type": "markdown",
   "metadata": {},
   "source": [
    "## Binary Search Trees\n",
    "\n",
    "* The two implementations of a **map ADT** used to get key-value pairs in a collection are **binary search on a list** and **hash tables**. \n",
    "* **Binary Search Trees** are yet another way to map from key to a value. \n",
    "* In this case we are not interested in the exact placement of items in the tree, but we are interested in using the **BST** to provide **efficient searching**. \n",
    "\n",
    "### Search Tree Operations\n",
    "\n",
    "Let's review the interface provided by the map ADT. You will notice that this interface is very similar to the Python dictionary.\n",
    "\n",
    "* **Map()** Create a new, empty map.\n",
    "* **put(key,val)** Add a new key-value pair to the map. If the key is already in the map then replace the old value with the new value.\n",
    "* **get(key)** Given a key, return the value stored in the map or **None** otherwise.\n",
    "* **del** Delete the key-value pair from the map using a statement of the form **del map[key]**.\n",
    "* **len()** Return the number of key-value pairs stored in the map.\n",
    "* **in** Return *True* for a statement of the form **key in map**, if the given key is in the map.\n",
    "\n",
    "\n",
    "### Search Tree Implementation\n",
    "\n",
    "* A binary search tree relies on the property that keys that are less than the parent are found in the left subtree, and keys that are greater than the parent are found in the right subtree. This is called the **BST property**.\n",
    "* All the keys in the left subtree are less than the key in the root. All of the keys in the right subtree are greater than the root.\n",
    "* "
   ]
  },
  {
   "cell_type": "code",
   "execution_count": null,
   "metadata": {
    "collapsed": true
   },
   "outputs": [],
   "source": []
  }
 ],
 "metadata": {
  "anaconda-cloud": {},
  "kernelspec": {
   "display_name": "Python [default]",
   "language": "python",
   "name": "python3"
  },
  "language_info": {
   "codemirror_mode": {
    "name": "ipython",
    "version": 3
   },
   "file_extension": ".py",
   "mimetype": "text/x-python",
   "name": "python",
   "nbconvert_exporter": "python",
   "pygments_lexer": "ipython3",
   "version": "3.5.2"
  }
 },
 "nbformat": 4,
 "nbformat_minor": 1
}
