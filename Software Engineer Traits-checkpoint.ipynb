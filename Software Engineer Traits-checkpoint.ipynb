{
 "cells": [
  {
   "cell_type": "markdown",
   "metadata": {},
   "source": [
    "## Technical Development Guide:\n",
    " \n",
    " * https://www.google.com/about/careers/students/guide-to-technical-development.html\n",
    " * http://www.geeksforgeeks.org/top-10-algorithms-in-interview-questions/\n",
    " * https://medium.com/always-be-coding/abc-always-be-coding-d5f8051afce2#.opcf78knx\n",
    " * http://www.palantir.com/2011/09/how-to-rock-an-algorithms-interview/\n",
    " * https://medium.com/@dpup/whiteboarding-4df873dbba2e#.qalt90jfp\n",
    " * "
   ]
  },
  {
   "cell_type": "markdown",
   "metadata": {},
   "source": [
    "## General Cognitive Ability (learning ability)\n",
    "\n",
    "* A mindset that is always looking for **new solutions** and **opportunities**.\n",
    "* Key to any job is the ability to **quickly analyze a situation, determine the variables, evaluate the best course of action, and make decisions**.\n",
    "* The ability to process on the fly.\n",
    "* The ability to pull together disparate bits of information\n",
    "* Assess(cognitive ability) using **structured behavioral interviews** that can be validated to make sure they're **predictive**."
   ]
  },
  {
   "cell_type": "markdown",
   "metadata": {},
   "source": [
    "## Emergent Leadership\n",
    "\n",
    "* Candidates who will know when it's necessary to step up and lead a team, and when to step back, help carry out a project, and let someone else take charge.\n",
    "* Both **taking** and **relinquishing** power at the appropriate time is critical to being an **effective leader**.\n",
    "* When you are solving new problems, flexible leadership is key."
   ]
  },
  {
   "cell_type": "markdown",
   "metadata": {},
   "source": [
    "## Humility\n",
    "\n",
    "* The end goal of contributing to a team is to solve the problem.\n",
    "* **Humility** comes in when you contribute your piece and then let someone else become the forefront contributor.\n",
    "* You need a big ego and small ego in the same person at the same time."
   ]
  },
  {
   "cell_type": "markdown",
   "metadata": {},
   "source": [
    "## Ownership\n",
    "\n",
    "* Taking **ownership** of a project brings with it a sense of **responsibility**.\n",
    "* Good employees need to feel a sense of ownership that drives them to find new problems to be solved and opportunities to take advantage of."
   ]
  },
  {
   "cell_type": "markdown",
   "metadata": {},
   "source": [
    "## Expertise\n",
    "\n",
    "* There are Computer Scientists who go the traditional route through the university system, which is massively important, BUT there are also huge set of self-learners and people who've been through bootcamps who are software engineers. "
   ]
  },
  {
   "cell_type": "code",
   "execution_count": null,
   "metadata": {
    "collapsed": true
   },
   "outputs": [],
   "source": []
  }
 ],
 "metadata": {
  "kernelspec": {
   "display_name": "Python [default]",
   "language": "python",
   "name": "python3"
  },
  "language_info": {
   "codemirror_mode": {
    "name": "ipython",
    "version": 3
   },
   "file_extension": ".py",
   "mimetype": "text/x-python",
   "name": "python",
   "nbconvert_exporter": "python",
   "pygments_lexer": "ipython3",
   "version": "3.5.2"
  }
 },
 "nbformat": 4,
 "nbformat_minor": 1
}
