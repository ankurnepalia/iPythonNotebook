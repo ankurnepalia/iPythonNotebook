{
 "cells": [
  {
   "cell_type": "code",
   "execution_count": 1,
   "metadata": {
    "collapsed": false
   },
   "outputs": [
    {
     "data": {
      "application/javascript": [
       "IPython.notebook.set_autosave_interval(0)"
      ]
     },
     "metadata": {},
     "output_type": "display_data"
    },
    {
     "name": "stdout",
     "output_type": "stream",
     "text": [
      "Autosave disabled\n"
     ]
    }
   ],
   "source": [
    "%autosave 0"
   ]
  },
  {
   "cell_type": "markdown",
   "metadata": {},
   "source": [
    "## Objectives\n",
    "\n",
    "* To learn what a graph is and howit is used\n",
    "* To implement the **graph** ADT using multiple internal representations\n",
    "* To see how graphs can be used to solve a wide variety of problems\n",
    "\n",
    "### Vocabulary and Definitions\n",
    "\n",
    "* **Vertex**: A vertex (also called a **node**) is a fundamental part of a graph. It can have a name, which we will call the **key**. A vertex may also have additional information. We will call this additional information as **payload**. \n",
    "* **Edge**: An edge (also called an **arc**) is another fundamental part of a graph. An edge **connects** two vertices to show that there is a relationship between them. Edges may be **one-way** or **two-way**. \n",
    "* If the edges in a graph are all **one-way**, we say that graph is a **directed graph** or a **digraph**. \n",
    "* **Weight**: Edges may be weighted to show that there is a cost to go from one vertex to another. \n",
    "* **Graph Definition**: A graph can be represented by **G** where **G = (V,E)**. Where **V** is a set of vertices and **E** is a set of edges. \n",
    "* Each edge is a **tuple(v,w)**, where w,v belongs to V. \n",
    "* A **subgraph s** is a set of edges **e** and vertices **v** such that **e** is a subset of **E** and **v** is a subset of **V**. \n",
    "* **Path**: A path in a graph is a sequence of vertices that are connected by edges. \n",
    "* The **unweighted** path length is the number of edges in the path, specifically n-1. \n",
    "* The **weighted** path length is the sum of the weights of all the edges in the path. \n",
    "* The **Cycle** in a directed graph is a path that starts and ends at the same vertex. \n",
    "* A graph with no cycles is called an **acyclic graph**. \n",
    "* A directed graph with no cycles is called a **directed acyclic graph** or **DAG**. We will see that we can solve several important problems if the problem can be represented as a DAG. \n",
    "\n",
    "### The Graph Abstract Data Type\n",
    "\n",
    "The graph ADT is defined as follows:\n",
    "* **Graph()**, creates a new, empty graph\n",
    "* **addVertex()**, adds an instance of Vertex to the graph\n",
    "* **addEdge(fromVert, toVert)**, adds a new, directed edge to the graph that connects two vertices. \n",
    "* **addEdge(fromVert, toVert, weight)**, Adds a new weighted, directed edge to the graph that connects two vertices.\n",
    "* **getVertex(vertKey)**, finds the vertex in the graph named **vertKey**\n",
    "* **getVertices()**, returns the list of all vertices in the graph. \n",
    "* **in** returns **True** for a statement of the form **vertex in graph**, if the given vertex is in the graph, **False** otherwise. \n",
    "\n",
    "## An Adjacency Matrix\n",
    "\n",
    "* One of the easiest way to implement a graph is to use a 2-D matrix.\n",
    "* In this matrix implementation each of the rows and columns represent a vertex in the graph.\n",
    "* The value that is stored in the cell at the intersection of **row v** and **column w** indicates if there is an edge from **vertex v** to **vertex w**. \n",
    "* A value in a cell represents the **weight** of the edge from vertex **v** to vertex **w**.\n",
    "* When two vertices are connected by an edge, we say that they are **adjacent**. \n",
    "* **The advantage of adjacency matrix is:**\n",
    "    * It is simple and for small graphs it is easy to see which nodes are connected to other nodes. \n",
    "    * When the number of edges are large. How many edges do we need to fill a matrix ? The answer is $$|V|^2$$\n",
    "* ** Disadvantage of adjacency matrix is:**\n",
    "    * Most of the cells in the matrix are empty. Because of this we say that this matrix is **sparse**. \n",
    "    * A matrix is not a very efficient way to store sparse data. \n",
    "\n",
    "## An Adjacency List\n",
    "\n",
    "* A more **space-efficient** way to implement a sparsely connected graph is to use an **adjacency list**. \n",
    "* In an adjacency list implementation we keep a **master list** of all the vertices in the **Graph object** and then each **vertex object** in the graph maintains a list of the other vertices that it is connected to. \n",
    "* In our implementation of the **vertex** class we will use a **dictionary** rather than a list where the dictionary **keys = vertices**, and the **values = weights**. \n",
    "* **The advantages of the adjacency list are**\n",
    "    * It allows us to compactly represent a sparse graph.\n",
    "    * It allows us to easily find all the links that are directly connected to a particular vertex.\n",
    "\n",
    "### Implementation\n",
    "\n",
    "* Using dictionaries, it is easy to implement the adjacency list in Python.\n",
    "* Our Graph ADT will have 2 classes. **Graph**, which holds the master list of vertices, and **Vertex**, which will represent each vertex in the graph. \n",
    "* Each **Vertex** uses a dictionary to keep track of the vertices to which it is connected, and the weight of each edge. This dictionary is called **connectedTo**. "
   ]
  },
  {
   "cell_type": "code",
   "execution_count": 2,
   "metadata": {
    "collapsed": true
   },
   "outputs": [],
   "source": [
    "class Vertex:\n",
    "    def __init__(self,key):\n",
    "        self.id = key\n",
    "        self.connectedTo = {}\n",
    "    \n",
    "    def addNeighbor(self, nbr, weight=0):\n",
    "        self.connectedTo[nbr] = weight\n",
    "    \n",
    "    def getConnections(self):\n",
    "        return self.connectedTo.keys()\n",
    "    \n",
    "    def getId(self):\n",
    "        return self.id\n",
    "    \n",
    "    def getWeight(self,nbr):\n",
    "        return self.connectedTo[nbr]\n",
    "    \n",
    "    def __str__(self):\n",
    "        return str(self.id) + ' connectedTo: ' + str([x.id for x in self.connectedTo])\n",
    " "
   ]
  },
  {
   "cell_type": "markdown",
   "metadata": {},
   "source": [
    "* The **Graph** class, contains a **dictionary** that maps **vertex names to vertex objects**. \n",
    "* **Graph** also provides methods for adding vertices **addVertex(key)** to a graph and connecting one vertex to another **addEdge**. \n",
    "* The **getVertices** method returns the names of all of the vertices in the graph.\n",
    "* The **__iter__** method helps interating over all the vertices in the graph. \n",
    "* Together, the two methods above helps you to iterate over the vertices in a graph by name, or by the objects themselves. "
   ]
  },
  {
   "cell_type": "code",
   "execution_count": 3,
   "metadata": {
    "collapsed": true
   },
   "outputs": [],
   "source": [
    "class Graph:\n",
    "    def __init__(self):\n",
    "        self.vertList = {}\n",
    "        self.numVertices = 0\n",
    "    \n",
    "    def addVertex(self, key):\n",
    "        self.numVertices = self.numVertices + 1\n",
    "        newVertex = Vertex(key)\n",
    "        self.vertList[key] = newVertex\n",
    "        return newVertex\n",
    "    \n",
    "    def getVertex(self,n):\n",
    "        if n in self.vertList:\n",
    "            return self.vertList[n]\n",
    "        else:\n",
    "            return None\n",
    "    \n",
    "    def __contains__(self,n):\n",
    "        return n in self.vertList\n",
    "    \n",
    "    def addEdge(self,f,t,cost=0):\n",
    "        if f not in self.vertList:\n",
    "            nv = self.addVertex(f)\n",
    "        if t not in self.vertList:\n",
    "            nv = self.addVertex(t)\n",
    "        self.vertList[f].addNeighbor(self.vertList[t], cost)\n",
    "    \n",
    "    def getVertices(self):\n",
    "        return self.vertList.keys()\n",
    "    \n",
    "    def __iter__(self):\n",
    "        return iter(self.vertList.values())\n",
    "        "
   ]
  },
  {
   "cell_type": "code",
   "execution_count": 14,
   "metadata": {
    "collapsed": false
   },
   "outputs": [
    {
     "name": "stdout",
     "output_type": "stream",
     "text": [
      "(0, 1)\n",
      "(0, 5)\n",
      "(1, 2)\n",
      "(2, 3)\n",
      "(3, 4)\n",
      "(3, 5)\n",
      "(4, 0)\n",
      "(5, 4)\n",
      "(5, 2)\n"
     ]
    }
   ],
   "source": [
    "g = Graph()\n",
    "\n",
    "for i in range(6):\n",
    "    g.addVertex(i)\n",
    "\n",
    "g.addEdge(0,1,5)\n",
    "g.addEdge(0,5,2)\n",
    "g.addEdge(1,2,4)\n",
    "g.addEdge(2,3,9)\n",
    "g.addEdge(3,4,7)\n",
    "g.addEdge(3,5,3)\n",
    "g.addEdge(4,0,1)\n",
    "g.addEdge(5,4,8)\n",
    "g.addEdge(5,2,1)\n",
    "\n",
    "for v in g:\n",
    "    for w in v.getConnections():\n",
    "        print(\"(%s, %s)\" % (v.getId(), w.getId()))"
   ]
  },
  {
   "cell_type": "code",
   "execution_count": null,
   "metadata": {
    "collapsed": true
   },
   "outputs": [],
   "source": []
  }
 ],
 "metadata": {
  "anaconda-cloud": {},
  "kernelspec": {
   "display_name": "Python [default]",
   "language": "python",
   "name": "python3"
  },
  "language_info": {
   "codemirror_mode": {
    "name": "ipython",
    "version": 3
   },
   "file_extension": ".py",
   "mimetype": "text/x-python",
   "name": "python",
   "nbconvert_exporter": "python",
   "pygments_lexer": "ipython3",
   "version": "3.5.2"
  }
 },
 "nbformat": 4,
 "nbformat_minor": 1
}
